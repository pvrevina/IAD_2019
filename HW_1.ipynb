{
 "cells": [
  {
   "cell_type": "markdown",
   "metadata": {},
   "source": [
    "# Домашнее задание 1 (NumPy, Pandas, Matplotlib)\n"
   ]
  },
  {
   "cell_type": "markdown",
   "metadata": {},
   "source": [
    "**Оценка за ДЗ: 9.93** "
   ]
  },
  {
   "cell_type": "code",
   "execution_count": 1,
   "metadata": {},
   "outputs": [],
   "source": [
    "# Не забудьте импортировать все необходимые модуля для выполнения заданий\n",
    "import pandas as pd \n",
    "import numpy as np\n",
    "from matplotlib import pyplot as plt\n",
    "% matplotlib inline"
   ]
  },
  {
   "cell_type": "markdown",
   "metadata": {},
   "source": [
    "## NumPy\n",
    "\n",
    "При решении задач запрещено использовать циклы. Обратите внимание на функции и методы np.max, np.min, np.arange, np.hstack, np.roll, np.random.uniform, np.random.rand, np.newaxis."
   ]
  },
  {
   "cell_type": "markdown",
   "metadata": {},
   "source": [
    "#### 1. (1 балл) Написать функцию, которая принимает на вход два целочисленных массива одинаковой длины, и возвращает минимальный и максимальный из тех элементов этих двух массивов у которых совпадает и позиция и значение (то есть из всех элементов $\\{a[i]: a[i] = b[i]\\}$)\n",
    "\n",
    "    Например, для a = np.array([4, 2, 6, 3]) и b = np.array([4, 3, 6, -3]) ответом является кортеж (4, 6)."
   ]
  },
  {
   "cell_type": "code",
   "execution_count": 3,
   "metadata": {},
   "outputs": [],
   "source": [
    "def minMaxEqual(a, b): \n",
    "    equal = a == b\n",
    "    vector = a[equal]\n",
    "    vector_min, vector_max = vector.min(), vector.max()\n",
    "    return vector_min, vector_max "
   ]
  },
  {
   "cell_type": "code",
   "execution_count": 4,
   "metadata": {},
   "outputs": [
    {
     "data": {
      "text/plain": [
       "(4, 6)"
      ]
     },
     "execution_count": 4,
     "metadata": {},
     "output_type": "execute_result"
    }
   ],
   "source": [
    "#Проверка \n",
    "a = np.array([4, 2, 6, 3]) \n",
    "b = np.array([4, 3, 6, -3])\n",
    "minMaxEqual(a, b)"
   ]
  },
  {
   "cell_type": "markdown",
   "metadata": {},
   "source": [
    "#### 2. (2 балла) Дан numpy-вектор v длины n+1, который задает полином степени n. Найти вторую производную этого полинома (Например np.array([3, 0, 7, 1]) соответствует полиному 3+7x^2+x^3)\n",
    "\n",
    "    Для вектора из примера функция должна будет выдавать np.array([14, 6])"
   ]
  },
  {
   "cell_type": "code",
   "execution_count": 5,
   "metadata": {},
   "outputs": [],
   "source": [
    "def second_derivative(v):\n",
    "    polynom = np.poly1d(v[::-1]) # n <=> n+1\n",
    "    sec_der = np.polyder(polynom, 2)\n",
    "    array = np.array(sec_der)\n",
    "    result = array[::-1]\n",
    "    return result "
   ]
  },
  {
   "cell_type": "code",
   "execution_count": 6,
   "metadata": {},
   "outputs": [
    {
     "data": {
      "text/plain": [
       "array([14,  6])"
      ]
     },
     "execution_count": 6,
     "metadata": {},
     "output_type": "execute_result"
    }
   ],
   "source": [
    "#Проверка \n",
    "v = np.array([3, 0, 7, 1]) \n",
    "second_derivative(v)"
   ]
  },
  {
   "cell_type": "markdown",
   "metadata": {},
   "source": [
    "#### 3. (1 балл) Дана матрица X и два вектора одинаковой длины i и j. Написать функцию, которая возвращает вектор np.array, состоящий из последовательности элементов $[X[i[0], j[0]], X[i[1], j[1]], ..., X[i[N-1], j[N-1]]]$. "
   ]
  },
  {
   "cell_type": "code",
   "execution_count": 7,
   "metadata": {},
   "outputs": [],
   "source": [
    "def constructArray(X, i, j):\n",
    "    return X[i,j]"
   ]
  },
  {
   "cell_type": "code",
   "execution_count": 8,
   "metadata": {},
   "outputs": [
    {
     "data": {
      "text/plain": [
       "array([20, 23, 56])"
      ]
     },
     "execution_count": 8,
     "metadata": {},
     "output_type": "execute_result"
    }
   ],
   "source": [
    "#Проверка \n",
    "X = np.array([[20, 187, 34, 33, 88], [22, 23, 18, 24, 24], [34, 24, 56, 15, 14]])\n",
    "i = np.array([0, 1, 2])\n",
    "j = np.array([0, 1, 2])\n",
    "constructArray(X, i, j)"
   ]
  },
  {
   "cell_type": "markdown",
   "metadata": {},
   "source": [
    "#### 4. (2 балла) Написать функцию, возвращающую максимальный элемент в векторе x среди элементов, перед которыми стоит нулевой.\n",
    "\n",
    "    Для x = np.array([6, 2, 0, 3, 0, 0, 5, 7, 0]) ответом является 5."
   ]
  },
  {
   "cell_type": "code",
   "execution_count": 11,
   "metadata": {
    "scrolled": true
   },
   "outputs": [],
   "source": [
    "def prevZeroMax(x):\n",
    "    new = x[:-1] #после символа в конце ничего не стоит, отсекаем \n",
    "    index = np.where(new == 0)[0]+1 #индекс нулей => следующий после нуля\n",
    "    return x[index].max()"
   ]
  },
  {
   "cell_type": "code",
   "execution_count": 28,
   "metadata": {},
   "outputs": [
    {
     "data": {
      "text/plain": [
       "5"
      ]
     },
     "execution_count": 28,
     "metadata": {},
     "output_type": "execute_result"
    }
   ],
   "source": [
    "#Проверка \n",
    "x = np.array([6, 2, 0, 3, 0, 0, 5, 7, 0])\n",
    "prevZeroMax(x)"
   ]
  },
  {
   "cell_type": "markdown",
   "metadata": {},
   "source": [
    "#### 5. (2 балла) Напишите функцию, которая принимает параметры lims: ndarray размера 2, k: float, b: float, n: int, noise_level: float и возвращает выборку из n объектов, сгенерированную по правилу y = kx + b + U[-noise_level; noise_level]. x генерируется равномерно из U[lims[0]; lims[1]] (U[a, b] — равномерное распределение на [a, b]). Функция должна возвращать кортеж, первым элементом которого будет массив x, и вторым элементом массив y — значения функции в точках этого массива."
   ]
  },
  {
   "cell_type": "code",
   "execution_count": 10,
   "metadata": {},
   "outputs": [],
   "source": [
    "def gen_data(lims, k, b, n, noise_level):\n",
    "    u = np.random.uniform(-noise_level, noise_level, size = n)\n",
    "    x = np.random.uniform(lims[0], lims[1], n)\n",
    "    y = k*x + b + u \n",
    "    return (x, y)"
   ]
  },
  {
   "cell_type": "code",
   "execution_count": 14,
   "metadata": {},
   "outputs": [
    {
     "data": {
      "text/plain": [
       "(array([-2.41953193,  2.25298199,  0.85931091, -0.45199925,  3.85623287,\n",
       "         1.67164331, -2.25015668, -2.66009361,  0.31012378, -1.49263369,\n",
       "         3.29229598, -3.30995456, -1.48740776, -2.24690111,  1.89332984,\n",
       "         2.62832292,  1.9565157 , -2.5797037 ,  2.86762557, -3.9559007 ,\n",
       "        -1.13885464,  3.62518599,  3.53421109, -3.8156079 ,  1.38412798,\n",
       "        -2.68708533,  0.54505896, -2.06301635, -2.73715269,  0.02850257,\n",
       "         0.57436117, -0.24038069,  0.06533792, -1.40998712,  3.09198684,\n",
       "        -1.98531591,  2.8967025 ,  1.08156952,  1.57778544, -3.75637125,\n",
       "         1.25849042,  3.99457937,  0.0523638 ,  3.46116601, -0.47357705,\n",
       "        -2.39977079,  2.43082855,  2.46137647, -3.53637703,  2.32244828]),\n",
       " array([-5.42214278,  4.4693261 ,  1.55969788, -0.18563449,  7.05478884,\n",
       "         3.02101454, -4.95924769, -4.93810453,  0.0610566 , -2.36136555,\n",
       "         5.60564571, -6.49750173, -2.34736315, -4.00360162,  3.16488238,\n",
       "         4.26892757,  4.45711915, -4.24374306,  6.1391269 , -8.31664488,\n",
       "        -1.7417238 ,  7.62680863,  6.84278914, -7.40080415,  2.62336643,\n",
       "        -5.20559138,  1.49538896, -4.90224235, -4.62776552,  1.03477769,\n",
       "         1.50354389,  0.10956816, -0.81117145, -3.4644561 ,  6.93382917,\n",
       "        -3.48076767,  5.80958533,  1.41980684,  3.12413936, -7.48119553,\n",
       "         2.13951017,  7.08048183, -0.01991107,  6.11410125, -1.85673388,\n",
       "        -4.42988414,  5.56003858,  4.17316731, -7.81462604,  4.59101656]))"
      ]
     },
     "execution_count": 14,
     "metadata": {},
     "output_type": "execute_result"
    }
   ],
   "source": [
    "#Проверка \n",
    "np.random.seed(22)\n",
    "gen_data([-4,4], 2, 0, 50, 1.0)"
   ]
  },
  {
   "cell_type": "markdown",
   "metadata": {},
   "source": [
    "#### 6. (2 балла) Напишите функцию, которая вычисляет следующее матричное произведение: $x * x.T + a * I + b$. Здесь x и b — массивы np.array размерности N (одномерные, считаются вектор-столбцом). a — число, I — матрица, состоящая единиц на главной диагонали и нулей в остальных местах (единичная матрица). Сложение вектора b с матрицей x * x.T должно осуществляться по столбцам (вектор b должен прибавиться к каждому столбцу матрицы независимо).\n",
    "\n",
    "    Например, для x = np.array([[1],[2],[3]]), b = np.array([[0], [-2], [1]]), a = 4.5 функция должна выдавать \n",
    "    np.array([[5.5, 2.0, 3.0], [0.0, 6.5, 4.0], [4.0, 7.0, 14.5]])\n",
    "$x*x.T$ - матричное произведение"
   ]
  },
  {
   "cell_type": "code",
   "execution_count": 15,
   "metadata": {},
   "outputs": [],
   "source": [
    "def calc_value(x, b, a):\n",
    "    result = np.dot(x, x.transpose()) + np.dot(a, (np.eye(x.shape[0]))) + b\n",
    "    return result"
   ]
  },
  {
   "cell_type": "code",
   "execution_count": 16,
   "metadata": {},
   "outputs": [
    {
     "data": {
      "text/plain": [
       "array([[ 5.5,  2. ,  3. ],\n",
       "       [ 0. ,  6.5,  4. ],\n",
       "       [ 4. ,  7. , 14.5]])"
      ]
     },
     "execution_count": 16,
     "metadata": {},
     "output_type": "execute_result"
    }
   ],
   "source": [
    "#Проверка \n",
    "x = np.array([[1],[2],[3]]) \n",
    "b = np.array([[0], [-2], [1]])\n",
    "a = 4.5\n",
    "\n",
    "calc_value(x, b, a)"
   ]
  },
  {
   "cell_type": "markdown",
   "metadata": {},
   "source": [
    "## Pandas\n",
    "\n",
    "\n",
    "Вам предстоит ответить на ряд вопросов о пассажирах Титаника.\n",
    "\n",
    "Данные: http://www.machinelearning.ru/wiki/images/3/32/Titanic.zip\n",
    "\n",
    "Описание датасета: https://www.kaggle.com/c/titanic/data\n",
    "\n",
    "Обратите внимание на функции и методы pd.read_csv, pd.DataFrame{ .head, .shape, .groupby, .fillna }, pd.Series{ .min, .max, .mean, .shape, .std, .corr }"
   ]
  },
  {
   "cell_type": "markdown",
   "metadata": {},
   "source": [
    "#### 0. (0.5 балла) Загрузите данные в DataFrame и выведите его. Также напечатайте количество объектов и количество признаков (используйте функцию print):"
   ]
  },
  {
   "cell_type": "code",
   "execution_count": 17,
   "metadata": {},
   "outputs": [
    {
     "data": {
      "text/html": [
       "<div>\n",
       "<style scoped>\n",
       "    .dataframe tbody tr th:only-of-type {\n",
       "        vertical-align: middle;\n",
       "    }\n",
       "\n",
       "    .dataframe tbody tr th {\n",
       "        vertical-align: top;\n",
       "    }\n",
       "\n",
       "    .dataframe thead th {\n",
       "        text-align: right;\n",
       "    }\n",
       "</style>\n",
       "<table border=\"1\" class=\"dataframe\">\n",
       "  <thead>\n",
       "    <tr style=\"text-align: right;\">\n",
       "      <th></th>\n",
       "      <th>PassengerId</th>\n",
       "      <th>Survived</th>\n",
       "      <th>Pclass</th>\n",
       "      <th>Name</th>\n",
       "      <th>Sex</th>\n",
       "      <th>Age</th>\n",
       "      <th>SibSp</th>\n",
       "      <th>Parch</th>\n",
       "      <th>Ticket</th>\n",
       "      <th>Fare</th>\n",
       "      <th>Cabin</th>\n",
       "      <th>Embarked</th>\n",
       "    </tr>\n",
       "  </thead>\n",
       "  <tbody>\n",
       "    <tr>\n",
       "      <th>0</th>\n",
       "      <td>1</td>\n",
       "      <td>0</td>\n",
       "      <td>3</td>\n",
       "      <td>Braund, Mr. Owen Harris</td>\n",
       "      <td>male</td>\n",
       "      <td>22.0</td>\n",
       "      <td>1</td>\n",
       "      <td>0</td>\n",
       "      <td>A/5 21171</td>\n",
       "      <td>7.2500</td>\n",
       "      <td>NaN</td>\n",
       "      <td>S</td>\n",
       "    </tr>\n",
       "    <tr>\n",
       "      <th>1</th>\n",
       "      <td>2</td>\n",
       "      <td>1</td>\n",
       "      <td>1</td>\n",
       "      <td>Cumings, Mrs. John Bradley (Florence Briggs Th...</td>\n",
       "      <td>female</td>\n",
       "      <td>38.0</td>\n",
       "      <td>1</td>\n",
       "      <td>0</td>\n",
       "      <td>PC 17599</td>\n",
       "      <td>71.2833</td>\n",
       "      <td>C85</td>\n",
       "      <td>C</td>\n",
       "    </tr>\n",
       "    <tr>\n",
       "      <th>2</th>\n",
       "      <td>3</td>\n",
       "      <td>1</td>\n",
       "      <td>3</td>\n",
       "      <td>Heikkinen, Miss. Laina</td>\n",
       "      <td>female</td>\n",
       "      <td>26.0</td>\n",
       "      <td>0</td>\n",
       "      <td>0</td>\n",
       "      <td>STON/O2. 3101282</td>\n",
       "      <td>7.9250</td>\n",
       "      <td>NaN</td>\n",
       "      <td>S</td>\n",
       "    </tr>\n",
       "  </tbody>\n",
       "</table>\n",
       "</div>"
      ],
      "text/plain": [
       "   PassengerId  Survived  Pclass  \\\n",
       "0            1         0       3   \n",
       "1            2         1       1   \n",
       "2            3         1       3   \n",
       "\n",
       "                                                Name     Sex   Age  SibSp  \\\n",
       "0                            Braund, Mr. Owen Harris    male  22.0      1   \n",
       "1  Cumings, Mrs. John Bradley (Florence Briggs Th...  female  38.0      1   \n",
       "2                             Heikkinen, Miss. Laina  female  26.0      0   \n",
       "\n",
       "   Parch            Ticket     Fare Cabin Embarked  \n",
       "0      0         A/5 21171   7.2500   NaN        S  \n",
       "1      0          PC 17599  71.2833   C85        C  \n",
       "2      0  STON/O2. 3101282   7.9250   NaN        S  "
      ]
     },
     "execution_count": 17,
     "metadata": {},
     "output_type": "execute_result"
    }
   ],
   "source": [
    "titanic = pd.read_csv(\"train.csv\")\n",
    "titanic.head(3)"
   ]
  },
  {
   "cell_type": "code",
   "execution_count": 38,
   "metadata": {},
   "outputs": [
    {
     "name": "stdout",
     "output_type": "stream",
     "text": [
      "В данном DataFrame'е 891 объектов и 12 признаков\n"
     ]
    }
   ],
   "source": [
    "print(\"В данном DataFrame'е {} объектов и {} признаков\".format(titanic.shape[0], titanic.shape[1]))"
   ]
  },
  {
   "cell_type": "markdown",
   "metadata": {},
   "source": [
    "#### 1. (0.5 балла) Какие встречаются типы признаков? Придумайте постановку трех задач, которые можно решать, используя полученные данные: классификации, регрессии и кластеризации."
   ]
  },
  {
   "cell_type": "code",
   "execution_count": 39,
   "metadata": {},
   "outputs": [
    {
     "data": {
      "text/plain": [
       "PassengerId      int64\n",
       "Survived         int64\n",
       "Pclass           int64\n",
       "Name            object\n",
       "Sex             object\n",
       "Age            float64\n",
       "SibSp            int64\n",
       "Parch            int64\n",
       "Ticket          object\n",
       "Fare           float64\n",
       "Cabin           object\n",
       "Embarked        object\n",
       "dtype: object"
      ]
     },
     "execution_count": 39,
     "metadata": {},
     "output_type": "execute_result"
    }
   ],
   "source": [
    "titanic.dtypes"
   ]
  },
  {
   "cell_type": "markdown",
   "metadata": {},
   "source": [
    "Типы встречающихся признаков: \n",
    "* **Бинарные**: Survived, Sex \n",
    "* **Вещественные**: Age (возраст пассажиров), Fare (цена на билет), Parch, Sibsp (кол-во детей/родственников на корабле)\n",
    "* **Категориальные**: Name, Ticket, Cabin, Embarked\n",
    "* **Порядковые:** Pclass, PassangerId \n",
    "\n",
    "Возможная постановка задач с этими данными: \n",
    "* Предсказать, выживет ли человек в зависимости от пола (задача регрессии)\n",
    "* Определить, в каком порту садился человек в заисимости от цены на билет/определить, какой класс каюты у пассажира в зависимости от количества родственников на корабле (задача классификации)\n",
    "* Определение пассажиров с разными целями путешествия (задача кластеризации)"
   ]
  },
  {
   "cell_type": "markdown",
   "metadata": {},
   "source": [
    "#### 2. (0.5 балла) Сохраните в переменную firstclass_num количество пассажиров, которые ехали первым классом, и выведите ее с помощью функции print()."
   ]
  },
  {
   "cell_type": "code",
   "execution_count": 40,
   "metadata": {},
   "outputs": [
    {
     "name": "stdout",
     "output_type": "stream",
     "text": [
      "Количество пассажиров, которые ехали первым классом: 216\n"
     ]
    }
   ],
   "source": [
    "firstclass_num = titanic[titanic.Pclass == 1].Pclass.count()\n",
    "print(\"Количество пассажиров, которые ехали первым классом: {}\".format(firstclass_num))"
   ]
  },
  {
   "cell_type": "markdown",
   "metadata": {},
   "source": [
    "#### 3. (0.5 балла) Выведите минимальный, максимальный и средний возраст пассажиров."
   ]
  },
  {
   "cell_type": "code",
   "execution_count": 41,
   "metadata": {},
   "outputs": [
    {
     "name": "stdout",
     "output_type": "stream",
     "text": [
      "Минимальный возраст: 0.42 \n",
      "Максимальный возраст: 80.0 \n",
      "Средний возраст: 29.7\n"
     ]
    }
   ],
   "source": [
    "print(\"Минимальный возраст: {}\".format(titanic.Age.min()), \"\\n\"\n",
    "       \"Максимальный возраст: {}\".format(titanic.Age.max()), \"\\n\"\n",
    "       \"Средний возраст: {}\".format(round(titanic.Age.mean(), 2)))"
   ]
  },
  {
   "cell_type": "markdown",
   "metadata": {},
   "source": [
    "#### 4. (1 балл) Напечатайте стандартное отклонение цены билетов на Титаник"
   ]
  },
  {
   "cell_type": "code",
   "execution_count": 42,
   "metadata": {},
   "outputs": [
    {
     "name": "stdout",
     "output_type": "stream",
     "text": [
      "Стандартное отклонение цены билетов на Титаник: 49.693428597180905\n"
     ]
    }
   ],
   "source": [
    "print(\"Стандартное отклонение цены билетов на Титаник: {}\".format(titanic.Fare.std()))"
   ]
  },
  {
   "cell_type": "markdown",
   "metadata": {},
   "source": [
    "#### 5. (1 балл) Посчитайте коэффициент корреляции ценой на билет и возрастом пассажиров."
   ]
  },
  {
   "cell_type": "code",
   "execution_count": 43,
   "metadata": {},
   "outputs": [
    {
     "name": "stdout",
     "output_type": "stream",
     "text": [
      "Коэффициент коррелляции между ценой на билет и возрастом пассажиров: 0.09606669176903887\n"
     ]
    }
   ],
   "source": [
    "print(\"Коэффициент коррелляции между ценой на билет и возрастом пассажиров: {}\".format(titanic.Age.corr(titanic.Fare)))"
   ]
  },
  {
   "cell_type": "markdown",
   "metadata": {},
   "source": [
    "#### 6. (2 балла) Создайте DataFrame в котором будет находиться средний возраст выживших пассажиров по каждому классу. Ваш код должен быть масштабируемым (то есть, должен работать при добавлении новых классов к исходному DataFrame'у)."
   ]
  },
  {
   "cell_type": "code",
   "execution_count": 44,
   "metadata": {},
   "outputs": [
    {
     "data": {
      "text/html": [
       "<div>\n",
       "<style scoped>\n",
       "    .dataframe tbody tr th:only-of-type {\n",
       "        vertical-align: middle;\n",
       "    }\n",
       "\n",
       "    .dataframe tbody tr th {\n",
       "        vertical-align: top;\n",
       "    }\n",
       "\n",
       "    .dataframe thead th {\n",
       "        text-align: right;\n",
       "    }\n",
       "</style>\n",
       "<table border=\"1\" class=\"dataframe\">\n",
       "  <thead>\n",
       "    <tr style=\"text-align: right;\">\n",
       "      <th></th>\n",
       "      <th>Age</th>\n",
       "    </tr>\n",
       "    <tr>\n",
       "      <th>Pclass</th>\n",
       "      <th></th>\n",
       "    </tr>\n",
       "  </thead>\n",
       "  <tbody>\n",
       "    <tr>\n",
       "      <th>1</th>\n",
       "      <td>35.368197</td>\n",
       "    </tr>\n",
       "    <tr>\n",
       "      <th>2</th>\n",
       "      <td>25.901566</td>\n",
       "    </tr>\n",
       "    <tr>\n",
       "      <th>3</th>\n",
       "      <td>20.646118</td>\n",
       "    </tr>\n",
       "  </tbody>\n",
       "</table>\n",
       "</div>"
      ],
      "text/plain": [
       "              Age\n",
       "Pclass           \n",
       "1       35.368197\n",
       "2       25.901566\n",
       "3       20.646118"
      ]
     },
     "execution_count": 44,
     "metadata": {},
     "output_type": "execute_result"
    }
   ],
   "source": [
    "class_age = pd.DataFrame(titanic[titanic.Survived == 1].groupby(\"Pclass\")[\"Age\"].mean())\n",
    "class_age"
   ]
  },
  {
   "cell_type": "markdown",
   "metadata": {},
   "source": [
    "#### 7. (2 балла) Посчитайте какой части пассажиров удалось выжить. Посчитайте отношение количества выживших мужчин к количеству выживших женщинам."
   ]
  },
  {
   "cell_type": "code",
   "execution_count": 45,
   "metadata": {},
   "outputs": [
    {
     "name": "stdout",
     "output_type": "stream",
     "text": [
      "Доля выживших пассажиров: 0.3838383838383838 \n",
      "Отношение выживших мужчин к выжившим женщинам: 0.4678111587982833\n"
     ]
    }
   ],
   "source": [
    "survived = titanic[titanic.Survived == 1].Survived.count()\n",
    "total_p = titanic.Survived.count()\n",
    "surv_total = survived/total_p\n",
    "\n",
    "surv_man = titanic[(titanic.Survived == 1) & (titanic.Sex == \"male\")].Survived.count()\n",
    "surv_female = titanic[(titanic.Survived == 1) & (titanic.Sex == \"female\")].Survived.count()\n",
    "surv_fm = surv_man/surv_female\n",
    "\n",
    "print(\"Доля выживших пассажиров: {}\".format(surv_total), \"\\n\"\n",
    "      \"Отношение выживших мужчин к выжившим женщинам: {}\".format(surv_fm))"
   ]
  },
  {
   "cell_type": "markdown",
   "metadata": {},
   "source": [
    "#### 8. (1 балл) Верно ли, что чаще выживали пассажиры с более дорогими билетами? Кратко опишите в комментариях к коду, какие величины вы хотите посчитать, чтобы ответить на этот вопрос."
   ]
  },
  {
   "cell_type": "markdown",
   "metadata": {
    "collapsed": true
   },
   "source": [
    "Один из вариантов проверки этой гипотезы -- рассчитать, сколько пассажиров из выживших и погибших заплатили за билет выше его средней стоимости, и сравнить эти значения. "
   ]
  },
  {
   "cell_type": "code",
   "execution_count": 8,
   "metadata": {},
   "outputs": [],
   "source": [
    "surv = titanic[titanic.Survived == 1]\n",
    "died = titanic[titanic.Survived == 0]"
   ]
  },
  {
   "cell_type": "code",
   "execution_count": 87,
   "metadata": {},
   "outputs": [
    {
     "name": "stdout",
     "output_type": "stream",
     "text": [
      " Средняя цена билета среди выживших: 48.39541 \n",
      " Средняя цена билета среди погибших: 22.11789 \n",
      " True\n"
     ]
    }
   ],
   "source": [
    "surv_fare1 = titanic[titanic.Survived == 1].Fare.mean()\n",
    "surv_fare0 = titanic[titanic.Survived == 0].Fare.mean()\n",
    "print(\" Средняя цена билета среди выживших: {}\".format(round(surv_fare1, 5)), \"\\n\", \n",
    "      \"Средняя цена билета среди погибших: {}\".format( round(surv_fare0, 5)), \"\\n\",\n",
    "       surv_fare1 > surv_fare0)\n",
    "#Средняя цена билета среди выживших больше, чем среди погибших"
   ]
  },
  {
   "cell_type": "code",
   "execution_count": 79,
   "metadata": {},
   "outputs": [
    {
     "data": {
      "text/plain": [
       "211"
      ]
     },
     "execution_count": 79,
     "metadata": {},
     "output_type": "execute_result"
    }
   ],
   "source": [
    "mean_fare = titanic.Fare.mean()\n",
    "mean_data = titanic[titanic.Fare > mean_fare].Survived.count()\n",
    "mean_data"
   ]
  },
  {
   "cell_type": "code",
   "execution_count": 89,
   "metadata": {},
   "outputs": [
    {
     "name": "stdout",
     "output_type": "stream",
     "text": [
      " Доля выживших, чья стоимость билета была выше средней: 0.59716 \n",
      " Доля погибших, чья стоимость билета была выше средней: 0.40284 \n",
      " True\n"
     ]
    }
   ],
   "source": [
    "surv_farem1 = titanic[titanic.Survived == 1].Fare[titanic.Fare > mean_fare].count() / mean_data\n",
    "surv_farem2 = titanic[titanic.Survived == 0].Fare[titanic.Fare > mean_fare].count() / mean_data\n",
    "\n",
    "print(\" Доля выживших, чья стоимость билета была выше средней: {}\".format(round(surv_farem1, 5)), \"\\n\", \n",
    "      \"Доля погибших, чья стоимость билета была выше средней: {}\".format(round(surv_farem2, 5)), \"\\n\", \n",
    "      surv_farem1 > surv_farem2)"
   ]
  },
  {
   "cell_type": "markdown",
   "metadata": {},
   "source": [
    "#### 9. (1 балл) Замените все NaN в колонке Age на средние значения возраста по всем пассажирам."
   ]
  },
  {
   "cell_type": "code",
   "execution_count": 46,
   "metadata": {},
   "outputs": [
    {
     "data": {
      "text/plain": [
       "0      22.000000\n",
       "1      38.000000\n",
       "2      26.000000\n",
       "3      35.000000\n",
       "4      35.000000\n",
       "5      29.699118\n",
       "6      54.000000\n",
       "7       2.000000\n",
       "8      27.000000\n",
       "9      14.000000\n",
       "10      4.000000\n",
       "11     58.000000\n",
       "12     20.000000\n",
       "13     39.000000\n",
       "14     14.000000\n",
       "15     55.000000\n",
       "16      2.000000\n",
       "17     29.699118\n",
       "18     31.000000\n",
       "19     29.699118\n",
       "20     35.000000\n",
       "21     34.000000\n",
       "22     15.000000\n",
       "23     28.000000\n",
       "24      8.000000\n",
       "25     38.000000\n",
       "26     29.699118\n",
       "27     19.000000\n",
       "28     29.699118\n",
       "29     29.699118\n",
       "         ...    \n",
       "861    21.000000\n",
       "862    48.000000\n",
       "863    29.699118\n",
       "864    24.000000\n",
       "865    42.000000\n",
       "866    27.000000\n",
       "867    31.000000\n",
       "868    29.699118\n",
       "869     4.000000\n",
       "870    26.000000\n",
       "871    47.000000\n",
       "872    33.000000\n",
       "873    47.000000\n",
       "874    28.000000\n",
       "875    15.000000\n",
       "876    20.000000\n",
       "877    19.000000\n",
       "878    29.699118\n",
       "879    56.000000\n",
       "880    25.000000\n",
       "881    33.000000\n",
       "882    22.000000\n",
       "883    28.000000\n",
       "884    25.000000\n",
       "885    39.000000\n",
       "886    27.000000\n",
       "887    19.000000\n",
       "888    29.699118\n",
       "889    26.000000\n",
       "890    32.000000\n",
       "Name: Age, Length: 891, dtype: float64"
      ]
     },
     "execution_count": 46,
     "metadata": {},
     "output_type": "execute_result"
    }
   ],
   "source": [
    "#titanic.Age = titanic.Age.fillna(titanic.Age.mean())\n",
    "titanic.Age.fillna(titanic.Age.mean())"
   ]
  },
  {
   "cell_type": "markdown",
   "metadata": {},
   "source": [
    "## Matplotlib\n",
    "\n",
    "Обратите внимание, что за отсутствие названий графиков и подписей к осям могут снижаться баллы! Вообще, все картинки должны быть самодостаточны и визуально удобны для восприятия, так чтобы не нужно было смотреть ваш код или знать задание, чтобы понятно было, что на них изображено.\n",
    "\n",
    "Обратите внимание на функции и методы plt.plot, plt.scatter, plt.legend, plt.title, plt.xlabel, plt.ylabel, plt.fill_between"
   ]
  },
  {
   "cell_type": "markdown",
   "metadata": {
    "collapsed": true
   },
   "source": [
    "#### 1. (3 балла) Используя функцию из задания №5 по numpy (gen_data), отобразите на графике сгенерированную выборку, а также настоящую прямую из которой выборка была получена. Добавьте на этот график прямую, которая приближает выборку, обучив для этого простейшую линейную регрессию. Чтобы получить параметры данной прямой, можно выполнить следующий код:\n",
    "\n",
    "        from sklearn.linear_model import LinearRegression as LR\n",
    "\n",
    "        data_x, data_y = gen_data(...)\n",
    "        regr = LR()\n",
    "        regr.fit(data_x, data_y)\n",
    "        k_learned, b_learned = regr.coef_, regr.intercept_\n",
    "        "
   ]
  },
  {
   "cell_type": "code",
   "execution_count": 4,
   "metadata": {},
   "outputs": [
    {
     "data": {
      "image/png": "[encoded data removed]",
      "text/plain": [
       "<IPython.core.display.Image object>"
      ]
     },
     "execution_count": 4,
     "metadata": {},
     "output_type": "execute_result"
    }
   ],
   "source": [
    "# В итоге ваш график должен получиться примерно таким:"
   ]
  },
  {
   "cell_type": "code",
   "execution_count": 5,
   "metadata": {},
   "outputs": [
    {
     "data": {
      "image/png": "[encoded data removed]",
      "text/plain": [
       "<Figure size 432x288 with 1 Axes>"
      ]
     },
     "metadata": {
      "needs_background": "light"
     },
     "output_type": "display_data"
    }
   ],
   "source": [
    "def gen_data(lims, k, b, n, noise_level):\n",
    "    u = np.random.uniform(-noise_level, noise_level, size = n)\n",
    "    x = np.random.uniform(lims[0], lims[1], n)\n",
    "    y = k*x + b + u \n",
    "    return (x, y)\n",
    "\n",
    "def ran_regr(lims, k, b, n, noise_level): \n",
    "    \n",
    "    from sklearn.linear_model import LinearRegression as LR\n",
    "    \n",
    "    data = gen_data(lims, k, b, n, noise_level)\n",
    "    data_x, data_y = data[0].reshape(-1,1),data[1].reshape(-1,1)\n",
    "\n",
    "    regr = LR()\n",
    "    regr.fit(data_x.reshape(-1,1),data_y.reshape(-1,1))\n",
    "    \n",
    "    x = np.linspace(lims[0], lims[1])\n",
    "    y = k*x+b \n",
    "    \n",
    "    k_learned, b_learned = regr.coef_, regr.intercept_\n",
    "    y_learned = x * k_learned[0][0] + b_learned\n",
    "    \n",
    "    plt.scatter(data_x, data_y)\n",
    "    plt.plot(x, y, color='blue')\n",
    "    plt.plot(x, y_learned, color = \"green\")\n",
    "\n",
    "    plt.title(\"Correlation between age and fare\")\n",
    "    plt.xlabel(\"Age of passenger\")\n",
    "    plt.ylabel(\"Fare paid\")\n",
    "\n",
    "    plt.legend(['real line', 'learned line'], loc=2)\n",
    "    \n",
    "    plt.show()\n",
    "\n",
    "ran_regr([-4,4], 2, 0, 50, 1.0)"
   ]
  },
  {
   "cell_type": "markdown",
   "metadata": {},
   "source": [
    "#### 2. (2 балла) Проверьте визуально полученную при выполнении задания №5 по pandas информацию о корреляции между ценой на билет и возрастом пассажира. Для этого предлагается отобразить все данные, откладывая на одной оси возраст пассажира, а на другой цену билета. Каждая точка должна быть визуально оботражена в виде треугольника зеленого цвета, направленного вниз. Сделайте возможность регулировать величину маркера (например, пусть она передается в качестве параметра в функцию, которая рисует график). Обратите внимание на параметры \"marker\", \"s\" и \"c\" функции plt.scatter."
   ]
  },
  {
   "cell_type": "code",
   "execution_count": 5,
   "metadata": {},
   "outputs": [
    {
     "data": {
      "image/png": "[encoded data removed]",
      "text/plain": [
       "<IPython.core.display.Image object>"
      ]
     },
     "execution_count": 5,
     "metadata": {},
     "output_type": "execute_result"
    }
   ],
   "source": [
    "# В итоге ваш график должен получиться примерно таким:"
   ]
  },
  {
   "cell_type": "code",
   "execution_count": 50,
   "metadata": {},
   "outputs": [
    {
     "data": {
      "image/png": "[encoded data removed]",
      "text/plain": [
       "<Figure size 432x288 with 1 Axes>"
      ]
     },
     "metadata": {
      "needs_background": "light"
     },
     "output_type": "display_data"
    }
   ],
   "source": [
    "def corr_plot(marker_size): \n",
    "    plt.scatter(titanic.Age, titanic.Fare, c = \"green\", marker = \"v\", s = marker_size, \n",
    "                edgecolors = \"black\", linewidth='1')\n",
    "    plt.title(\"Correlation between age and fare\")\n",
    "    plt.xlabel(\"Age of passenger\")\n",
    "    plt.ylabel(\"Fare paid\")\n",
    "\n",
    "corr_plot(50)"
   ]
  },
  {
   "cell_type": "markdown",
   "metadata": {},
   "source": [
    "#### 3. (3 балла) Отобразите гистограмму распределения возрастов для каждого класса пассажиров (здесь опять нужно использовать данные из заданий по pandas). В результате вы должны получить три гистограммы, которые необходимо отобразить рядом друг с другом используя функцию plt.subplots. Каждая гистограмма должна быть нормирована. Обратите внимание на параметры figsize, sharey, sharex функции plt.subplots. Также полезными могут оказаться параметры bins, normed функции plt.hist"
   ]
  },
  {
   "cell_type": "code",
   "execution_count": 6,
   "metadata": {},
   "outputs": [
    {
     "data": {
      "image/png": "[encoded data removed]",
      "text/plain": [
       "<IPython.core.display.Image object>"
      ]
     },
     "execution_count": 6,
     "metadata": {},
     "output_type": "execute_result"
    }
   ],
   "source": [
    "# В итоге ваш график должен получиться примерно таким:"
   ]
  },
  {
   "cell_type": "code",
   "execution_count": 51,
   "metadata": {},
   "outputs": [
    {
     "name": "stderr",
     "output_type": "stream",
     "text": [
      "C:\\Users\\Polina\\New folder (3)\\lib\\site-packages\\matplotlib\\axes\\_axes.py:6571: UserWarning: The 'normed' kwarg is deprecated, and has been replaced by the 'density' kwarg.\n",
      "  warnings.warn(\"The 'normed' kwarg is deprecated, and has been \"\n"
     ]
    },
    {
     "data": {
      "image/png": "[encoded data removed]",
      "text/plain": [
       "<Figure size 1080x360 with 3 Axes>"
      ]
     },
     "metadata": {
      "needs_background": "light"
     },
     "output_type": "display_data"
    }
   ],
   "source": [
    "fig, axis = plt.subplots(1, 3, sharey = True, sharex = True, figsize = (15,5))\n",
    "\n",
    "axis[0].hist(titanic[titanic[\"Pclass\"] == 1].Age.fillna(titanic.Age.mean()), \n",
    "            bins = 30, color = \"blue\", edgecolor = \"black\", normed = True)\n",
    "axis[1].hist(titanic[titanic[\"Pclass\"] == 2].Age.fillna(titanic.Age.mean()), \n",
    "            bins = 30, color = \"blue\", edgecolor = \"black\", normed = True)\n",
    "axis[2].hist(titanic[titanic[\"Pclass\"] == 3].Age.fillna(titanic.Age.mean()), \n",
    "            bins = 30, color = \"blue\", edgecolor = \"black\", normed = True)\n",
    "\n",
    "for i in range(axis.size): \n",
    "    axis[i].set_title('Class' + \" \" + str(i+1))\n",
    "    axis[i].set_xlabel(\"Age\")\n",
    "    axis[i].set_xlim(0,80)\n",
    "    \n",
    "plt.show()"
   ]
  },
  {
   "cell_type": "markdown",
   "metadata": {},
   "source": [
    "#### 4. (2 балла) Используя следующую функцию для генерации выборки, отобразите на графике синим цветом функцию y(x), а также ее доверительный интервал в виде закрашенной зеленым цветом области от y[i] - error[i] до y[i] + error[i].\n",
    "\n",
    "        def gen_uncertain_data():\n",
    "            x = np.linspace(0, 30, 100)\n",
    "            y = np.sin(x/6*np.pi) + np.random.normal(0, 0.02, size=x.shape)\n",
    "            error = np.random.normal(0.1, 0.02, size=y.shape)\n",
    "            return x, y, error\n"
   ]
  },
  {
   "cell_type": "code",
   "execution_count": 7,
   "metadata": {},
   "outputs": [
    {
     "data": {
      "image/png": "[encoded data removed]",
      "text/plain": [
       "<IPython.core.display.Image object>"
      ]
     },
     "execution_count": 7,
     "metadata": {},
     "output_type": "execute_result"
    }
   ],
   "source": [
    "# В итоге ваш график должен получиться примерно таким:"
   ]
  },
  {
   "cell_type": "code",
   "execution_count": 52,
   "metadata": {},
   "outputs": [
    {
     "data": {
      "image/png": "[encoded data removed]",
      "text/plain": [
       "<Figure size 432x288 with 1 Axes>"
      ]
     },
     "metadata": {
      "needs_background": "light"
     },
     "output_type": "display_data"
    }
   ],
   "source": [
    "def gen_uncertain_data():\n",
    "        x = np.linspace(0, 30, 100)\n",
    "        y = np.sin(x/6*np.pi) + np.random.normal(0, 0.02, size=x.shape)\n",
    "        error = np.random.normal(0.1, 0.02, size=y.shape)\n",
    "        return x, y, error\n",
    "    \n",
    "x, y, error = gen_uncertain_data()\n",
    "plt.plot(x, y, color = \"blue\")\n",
    "\n",
    "plt.fill_between(x, y - error, y + error, color = \"green\")\n",
    "\n",
    "plt.title('Confidence interval of a function')\n",
    "plt.xlabel('x')\n",
    "plt.ylabel('sin( pi * x / 6 ) + random noise')\n",
    "\n",
    "plt.show()"
   ]
  }
 ],
 "metadata": {
  "kernelspec": {
   "display_name": "Python 3",
   "language": "python",
   "name": "python3"
  },
  "language_info": {
   "codemirror_mode": {
    "name": "ipython",
    "version": 3
   },
   "file_extension": ".py",
   "mimetype": "text/x-python",
   "name": "python",
   "nbconvert_exporter": "python",
   "pygments_lexer": "ipython3",
   "version": "3.7.0"
  }
 },
 "nbformat": 4,
 "nbformat_minor": 1
}
