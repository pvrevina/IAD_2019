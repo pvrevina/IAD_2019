{
 "cells": [
  {
   "cell_type": "markdown",
   "metadata": {},
   "source": [
    "# Домашнее задание 9. Настройка композиций алгоритмов\n",
    "\n",
    "В этом задании вы настроите случайный лес, градиентный бустинг, а также их композицию на данных\n",
    "соревнования [Mercedes-Benz Greener Manufacturing](https://www.kaggle.com/c/mercedes-benz-greener-manufacturing).\n",
    "\n",
    "Данные загружаются сразу из гитхаба ниже.\n",
    "\n",
    "Кратко о задаче: объекты - автомобили, целевая переменная - время, за которое автомобиль проходит тест, задача регрессии, качество измеряется с помощью $R^2$-метрики.\n",
    "\n",
    "Скрипт загрузки и базовой предобработки данных взят с [Kaggle Kernels](https://www.kaggle.com/anokas/mercedes-eda-xgboost-starter-0-55/notebook). В этом же ядре приводится базовый exploration данных, можете почитать после семинара."
   ]
  },
  {
   "cell_type": "markdown",
   "metadata": {},
   "source": [
    "## Загрузка данных"
   ]
  },
  {
   "cell_type": "code",
   "execution_count": 151,
   "metadata": {
    "_cell_guid": "45578147-cb22-cd2a-ccc7-1b81c82e137b"
   },
   "outputs": [],
   "source": [
    "import numpy as np\n",
    "import pandas as pd\n",
    "import os\n",
    "import gc\n",
    "import matplotlib.pyplot as plt\n",
    "# import seaborn as sns\n",
    "%matplotlib inline"
   ]
  },
  {
   "cell_type": "code",
   "execution_count": 154,
   "metadata": {
    "_cell_guid": "ba151bcc-e94e-3ff4-d213-4e80e7b4d956"
   },
   "outputs": [
    {
     "name": "stdout",
     "output_type": "stream",
     "text": [
      "Size of training set: 4209 rows and 378 columns\n"
     ]
    },
    {
     "data": {
      "text/html": [
       "<div>\n",
       "<style scoped>\n",
       "    .dataframe tbody tr th:only-of-type {\n",
       "        vertical-align: middle;\n",
       "    }\n",
       "\n",
       "    .dataframe tbody tr th {\n",
       "        vertical-align: top;\n",
       "    }\n",
       "\n",
       "    .dataframe thead th {\n",
       "        text-align: right;\n",
       "    }\n",
       "</style>\n",
       "<table border=\"1\" class=\"dataframe\">\n",
       "  <thead>\n",
       "    <tr style=\"text-align: right;\">\n",
       "      <th></th>\n",
       "      <th>ID</th>\n",
       "      <th>y</th>\n",
       "      <th>X0</th>\n",
       "      <th>X1</th>\n",
       "      <th>X2</th>\n",
       "      <th>X3</th>\n",
       "      <th>X4</th>\n",
       "      <th>X5</th>\n",
       "      <th>X6</th>\n",
       "      <th>X8</th>\n",
       "      <th>...</th>\n",
       "      <th>X375</th>\n",
       "      <th>X376</th>\n",
       "      <th>X377</th>\n",
       "      <th>X378</th>\n",
       "      <th>X379</th>\n",
       "      <th>X380</th>\n",
       "      <th>X382</th>\n",
       "      <th>X383</th>\n",
       "      <th>X384</th>\n",
       "      <th>X385</th>\n",
       "    </tr>\n",
       "  </thead>\n",
       "  <tbody>\n",
       "    <tr>\n",
       "      <th>0</th>\n",
       "      <td>0</td>\n",
       "      <td>130.81</td>\n",
       "      <td>k</td>\n",
       "      <td>v</td>\n",
       "      <td>at</td>\n",
       "      <td>a</td>\n",
       "      <td>d</td>\n",
       "      <td>u</td>\n",
       "      <td>j</td>\n",
       "      <td>o</td>\n",
       "      <td>...</td>\n",
       "      <td>0</td>\n",
       "      <td>0</td>\n",
       "      <td>1</td>\n",
       "      <td>0</td>\n",
       "      <td>0</td>\n",
       "      <td>0</td>\n",
       "      <td>0</td>\n",
       "      <td>0</td>\n",
       "      <td>0</td>\n",
       "      <td>0</td>\n",
       "    </tr>\n",
       "    <tr>\n",
       "      <th>1</th>\n",
       "      <td>6</td>\n",
       "      <td>88.53</td>\n",
       "      <td>k</td>\n",
       "      <td>t</td>\n",
       "      <td>av</td>\n",
       "      <td>e</td>\n",
       "      <td>d</td>\n",
       "      <td>y</td>\n",
       "      <td>l</td>\n",
       "      <td>o</td>\n",
       "      <td>...</td>\n",
       "      <td>1</td>\n",
       "      <td>0</td>\n",
       "      <td>0</td>\n",
       "      <td>0</td>\n",
       "      <td>0</td>\n",
       "      <td>0</td>\n",
       "      <td>0</td>\n",
       "      <td>0</td>\n",
       "      <td>0</td>\n",
       "      <td>0</td>\n",
       "    </tr>\n",
       "    <tr>\n",
       "      <th>2</th>\n",
       "      <td>7</td>\n",
       "      <td>76.26</td>\n",
       "      <td>az</td>\n",
       "      <td>w</td>\n",
       "      <td>n</td>\n",
       "      <td>c</td>\n",
       "      <td>d</td>\n",
       "      <td>x</td>\n",
       "      <td>j</td>\n",
       "      <td>x</td>\n",
       "      <td>...</td>\n",
       "      <td>0</td>\n",
       "      <td>0</td>\n",
       "      <td>0</td>\n",
       "      <td>0</td>\n",
       "      <td>0</td>\n",
       "      <td>0</td>\n",
       "      <td>1</td>\n",
       "      <td>0</td>\n",
       "      <td>0</td>\n",
       "      <td>0</td>\n",
       "    </tr>\n",
       "    <tr>\n",
       "      <th>3</th>\n",
       "      <td>9</td>\n",
       "      <td>80.62</td>\n",
       "      <td>az</td>\n",
       "      <td>t</td>\n",
       "      <td>n</td>\n",
       "      <td>f</td>\n",
       "      <td>d</td>\n",
       "      <td>x</td>\n",
       "      <td>l</td>\n",
       "      <td>e</td>\n",
       "      <td>...</td>\n",
       "      <td>0</td>\n",
       "      <td>0</td>\n",
       "      <td>0</td>\n",
       "      <td>0</td>\n",
       "      <td>0</td>\n",
       "      <td>0</td>\n",
       "      <td>0</td>\n",
       "      <td>0</td>\n",
       "      <td>0</td>\n",
       "      <td>0</td>\n",
       "    </tr>\n",
       "    <tr>\n",
       "      <th>4</th>\n",
       "      <td>13</td>\n",
       "      <td>78.02</td>\n",
       "      <td>az</td>\n",
       "      <td>v</td>\n",
       "      <td>n</td>\n",
       "      <td>f</td>\n",
       "      <td>d</td>\n",
       "      <td>h</td>\n",
       "      <td>d</td>\n",
       "      <td>n</td>\n",
       "      <td>...</td>\n",
       "      <td>0</td>\n",
       "      <td>0</td>\n",
       "      <td>0</td>\n",
       "      <td>0</td>\n",
       "      <td>0</td>\n",
       "      <td>0</td>\n",
       "      <td>0</td>\n",
       "      <td>0</td>\n",
       "      <td>0</td>\n",
       "      <td>0</td>\n",
       "    </tr>\n",
       "  </tbody>\n",
       "</table>\n",
       "<p>5 rows × 378 columns</p>\n",
       "</div>"
      ],
      "text/plain": [
       "   ID       y  X0 X1  X2 X3 X4 X5 X6 X8  ...   X375  X376  X377  X378  X379  \\\n",
       "0   0  130.81   k  v  at  a  d  u  j  o  ...      0     0     1     0     0   \n",
       "1   6   88.53   k  t  av  e  d  y  l  o  ...      1     0     0     0     0   \n",
       "2   7   76.26  az  w   n  c  d  x  j  x  ...      0     0     0     0     0   \n",
       "3   9   80.62  az  t   n  f  d  x  l  e  ...      0     0     0     0     0   \n",
       "4  13   78.02  az  v   n  f  d  h  d  n  ...      0     0     0     0     0   \n",
       "\n",
       "   X380  X382  X383  X384  X385  \n",
       "0     0     0     0     0     0  \n",
       "1     0     0     0     0     0  \n",
       "2     0     1     0     0     0  \n",
       "3     0     0     0     0     0  \n",
       "4     0     0     0     0     0  \n",
       "\n",
       "[5 rows x 378 columns]"
      ]
     },
     "execution_count": 154,
     "metadata": {},
     "output_type": "execute_result"
    }
   ],
   "source": [
    "df_train = pd.read_csv('https://raw.githubusercontent.com/nadiinchi/hse_cs_ml_course_2017_FTAD/master/materials/train.csv')\n",
    "print('Size of training set: {} rows and {} columns'.format(*df_train.shape))\n",
    "df_train.head()"
   ]
  },
  {
   "cell_type": "markdown",
   "metadata": {},
   "source": [
    "Распределение целевого признака:"
   ]
  },
  {
   "cell_type": "code",
   "execution_count": 155,
   "metadata": {
    "_cell_guid": "8aa66a00-591c-7cff-cc88-051bfcaa40c5"
   },
   "outputs": [
    {
     "name": "stdout",
     "output_type": "stream",
     "text": [
      "min: 72.11 max: 265.32 mean: 100.66931812782134 std: 12.6778749695168\n",
      "Count of values above 180: 1\n"
     ]
    },
    {
     "data": {
      "image/png": "[encoded data removed]",
      "text/plain": [
       "<Figure size 1080x360 with 1 Axes>"
      ]
     },
     "metadata": {
      "needs_background": "light"
     },
     "output_type": "display_data"
    }
   ],
   "source": [
    "y_train = df_train['y'].values\n",
    "plt.figure(figsize=(15, 5))\n",
    "plt.hist(y_train, bins=20)\n",
    "plt.xlabel('Target value in seconds')\n",
    "plt.ylabel('Occurences')\n",
    "plt.title('Distribution of the target value')\n",
    "\n",
    "print('min: {} max: {} mean: {} std: {}'.format(min(y_train), max(y_train), y_train.mean(), y_train.std()))\n",
    "print('Count of values above 180: {}'.format(np.sum(y_train > 200)))"
   ]
  },
  {
   "cell_type": "markdown",
   "metadata": {},
   "source": [
    "Число признаков и объектов:"
   ]
  },
  {
   "cell_type": "code",
   "execution_count": 156,
   "metadata": {
    "_cell_guid": "85c914e4-162a-e3be-ec91-1e687b8222e2"
   },
   "outputs": [
    {
     "name": "stdout",
     "output_type": "stream",
     "text": [
      "Number of features: 376\n",
      "Feature types:\n"
     ]
    },
    {
     "data": {
      "text/plain": [
       "int64     368\n",
       "object      8\n",
       "dtype: int64"
      ]
     },
     "execution_count": 156,
     "metadata": {},
     "output_type": "execute_result"
    }
   ],
   "source": [
    "cols = [c for c in df_train.columns if 'X' in c]\n",
    "print('Number of features: {}'.format(len(cols)))\n",
    "\n",
    "print('Feature types:')\n",
    "df_train[cols].dtypes.value_counts()"
   ]
  },
  {
   "cell_type": "markdown",
   "metadata": {},
   "source": [
    "Приведение данных к вещественному виду:"
   ]
  },
  {
   "cell_type": "code",
   "execution_count": 157,
   "metadata": {},
   "outputs": [
    {
     "name": "stderr",
     "output_type": "stream",
     "text": [
      "C:\\Users\\Polina\\New folder (3)\\lib\\site-packages\\ipykernel_launcher.py:10: SettingWithCopyWarning: \n",
      "A value is trying to be set on a copy of a slice from a DataFrame.\n",
      "Try using .loc[row_indexer,col_indexer] = value instead\n",
      "\n",
      "See the caveats in the documentation: http://pandas.pydata.org/pandas-docs/stable/indexing.html#indexing-view-versus-copy\n",
      "  # Remove the CWD from sys.path while we load stuff.\n"
     ]
    },
    {
     "data": {
      "text/html": [
       "<div>\n",
       "<style scoped>\n",
       "    .dataframe tbody tr th:only-of-type {\n",
       "        vertical-align: middle;\n",
       "    }\n",
       "\n",
       "    .dataframe tbody tr th {\n",
       "        vertical-align: top;\n",
       "    }\n",
       "\n",
       "    .dataframe thead th {\n",
       "        text-align: right;\n",
       "    }\n",
       "</style>\n",
       "<table border=\"1\" class=\"dataframe\">\n",
       "  <thead>\n",
       "    <tr style=\"text-align: right;\">\n",
       "      <th></th>\n",
       "      <th>X26</th>\n",
       "      <th>X44</th>\n",
       "      <th>X343</th>\n",
       "      <th>X250</th>\n",
       "      <th>X92</th>\n",
       "      <th>X280</th>\n",
       "      <th>X52</th>\n",
       "      <th>X271</th>\n",
       "      <th>X22</th>\n",
       "      <th>X110</th>\n",
       "      <th>...</th>\n",
       "      <th>X175</th>\n",
       "      <th>X242</th>\n",
       "      <th>X359</th>\n",
       "      <th>X191</th>\n",
       "      <th>X74</th>\n",
       "      <th>X349</th>\n",
       "      <th>X333</th>\n",
       "      <th>X132</th>\n",
       "      <th>X338</th>\n",
       "      <th>X354</th>\n",
       "    </tr>\n",
       "  </thead>\n",
       "  <tbody>\n",
       "    <tr>\n",
       "      <th>0</th>\n",
       "      <td>0</td>\n",
       "      <td>0</td>\n",
       "      <td>0</td>\n",
       "      <td>0</td>\n",
       "      <td>0</td>\n",
       "      <td>0</td>\n",
       "      <td>0</td>\n",
       "      <td>0</td>\n",
       "      <td>0</td>\n",
       "      <td>0</td>\n",
       "      <td>...</td>\n",
       "      <td>0</td>\n",
       "      <td>0</td>\n",
       "      <td>0</td>\n",
       "      <td>0</td>\n",
       "      <td>1</td>\n",
       "      <td>0</td>\n",
       "      <td>0</td>\n",
       "      <td>0</td>\n",
       "      <td>0</td>\n",
       "      <td>1</td>\n",
       "    </tr>\n",
       "    <tr>\n",
       "      <th>1</th>\n",
       "      <td>0</td>\n",
       "      <td>0</td>\n",
       "      <td>0</td>\n",
       "      <td>1</td>\n",
       "      <td>0</td>\n",
       "      <td>0</td>\n",
       "      <td>0</td>\n",
       "      <td>0</td>\n",
       "      <td>0</td>\n",
       "      <td>0</td>\n",
       "      <td>...</td>\n",
       "      <td>0</td>\n",
       "      <td>0</td>\n",
       "      <td>0</td>\n",
       "      <td>0</td>\n",
       "      <td>1</td>\n",
       "      <td>0</td>\n",
       "      <td>0</td>\n",
       "      <td>1</td>\n",
       "      <td>0</td>\n",
       "      <td>0</td>\n",
       "    </tr>\n",
       "    <tr>\n",
       "      <th>2</th>\n",
       "      <td>0</td>\n",
       "      <td>0</td>\n",
       "      <td>0</td>\n",
       "      <td>1</td>\n",
       "      <td>0</td>\n",
       "      <td>0</td>\n",
       "      <td>0</td>\n",
       "      <td>0</td>\n",
       "      <td>0</td>\n",
       "      <td>0</td>\n",
       "      <td>...</td>\n",
       "      <td>0</td>\n",
       "      <td>0</td>\n",
       "      <td>0</td>\n",
       "      <td>0</td>\n",
       "      <td>1</td>\n",
       "      <td>0</td>\n",
       "      <td>0</td>\n",
       "      <td>1</td>\n",
       "      <td>0</td>\n",
       "      <td>1</td>\n",
       "    </tr>\n",
       "    <tr>\n",
       "      <th>3</th>\n",
       "      <td>0</td>\n",
       "      <td>0</td>\n",
       "      <td>0</td>\n",
       "      <td>1</td>\n",
       "      <td>0</td>\n",
       "      <td>0</td>\n",
       "      <td>0</td>\n",
       "      <td>0</td>\n",
       "      <td>0</td>\n",
       "      <td>0</td>\n",
       "      <td>...</td>\n",
       "      <td>0</td>\n",
       "      <td>0</td>\n",
       "      <td>0</td>\n",
       "      <td>0</td>\n",
       "      <td>1</td>\n",
       "      <td>0</td>\n",
       "      <td>0</td>\n",
       "      <td>1</td>\n",
       "      <td>0</td>\n",
       "      <td>0</td>\n",
       "    </tr>\n",
       "    <tr>\n",
       "      <th>4</th>\n",
       "      <td>0</td>\n",
       "      <td>0</td>\n",
       "      <td>0</td>\n",
       "      <td>1</td>\n",
       "      <td>0</td>\n",
       "      <td>0</td>\n",
       "      <td>0</td>\n",
       "      <td>0</td>\n",
       "      <td>0</td>\n",
       "      <td>0</td>\n",
       "      <td>...</td>\n",
       "      <td>0</td>\n",
       "      <td>0</td>\n",
       "      <td>0</td>\n",
       "      <td>0</td>\n",
       "      <td>1</td>\n",
       "      <td>0</td>\n",
       "      <td>0</td>\n",
       "      <td>1</td>\n",
       "      <td>0</td>\n",
       "      <td>0</td>\n",
       "    </tr>\n",
       "  </tbody>\n",
       "</table>\n",
       "<p>5 rows × 376 columns</p>\n",
       "</div>"
      ],
      "text/plain": [
       "   X26  X44  X343  X250  X92  X280  X52  X271  X22  X110  ...   X175  X242  \\\n",
       "0    0    0     0     0    0     0    0     0    0     0  ...      0     0   \n",
       "1    0    0     0     1    0     0    0     0    0     0  ...      0     0   \n",
       "2    0    0     0     1    0     0    0     0    0     0  ...      0     0   \n",
       "3    0    0     0     1    0     0    0     0    0     0  ...      0     0   \n",
       "4    0    0     0     1    0     0    0     0    0     0  ...      0     0   \n",
       "\n",
       "   X359  X191  X74  X349  X333  X132  X338  X354  \n",
       "0     0     0    1     0     0     0     0     1  \n",
       "1     0     0    1     0     0     1     0     0  \n",
       "2     0     0    1     0     0     1     0     1  \n",
       "3     0     0    1     0     0     1     0     0  \n",
       "4     0     0    1     0     0     1     0     0  \n",
       "\n",
       "[5 rows x 376 columns]"
      ]
     },
     "execution_count": 157,
     "metadata": {},
     "output_type": "execute_result"
    }
   ],
   "source": [
    "usable_columns = list(set(df_train.columns) - set(['ID', 'y']))\n",
    "y_train = df_train['y'].values\n",
    "x_train = df_train[usable_columns]\n",
    "for column in usable_columns:\n",
    "    cardinality = len(np.unique(x_train[column]))\n",
    "    if cardinality == 1:\n",
    "        x_train.drop(column, axis=1) # Column with only one value is useless so we drop it\n",
    "    if cardinality > 2: # Column is categorical\n",
    "        mapper = lambda x: sum([ord(digit) for digit in x])\n",
    "        x_train[column] = x_train[column].apply(mapper)\n",
    "        \n",
    "x_train.head()"
   ]
  },
  {
   "cell_type": "markdown",
   "metadata": {},
   "source": [
    "## Разделение данных\n",
    "Разделим данные на три части. Первую будем использовать для настройки случайного леса и градиентного бустинга, вторую - для настройки композиции, третью - для итогового контроля."
   ]
  },
  {
   "cell_type": "code",
   "execution_count": 158,
   "metadata": {},
   "outputs": [
    {
     "data": {
      "text/plain": [
       "((4209, 376), (4209,))"
      ]
     },
     "execution_count": 158,
     "metadata": {},
     "output_type": "execute_result"
    }
   ],
   "source": [
    "x_train.shape, y_train.shape"
   ]
  },
  {
   "cell_type": "code",
   "execution_count": 159,
   "metadata": {},
   "outputs": [],
   "source": [
    "from sklearn.utils import shuffle"
   ]
  },
  {
   "cell_type": "code",
   "execution_count": 160,
   "metadata": {},
   "outputs": [],
   "source": [
    "x_train, y_train = shuffle(x_train, y_train, random_state=1)"
   ]
  },
  {
   "cell_type": "code",
   "execution_count": 161,
   "metadata": {},
   "outputs": [
    {
     "data": {
      "text/plain": [
       "((2000, 376), (2000,))"
      ]
     },
     "execution_count": 161,
     "metadata": {},
     "output_type": "execute_result"
    }
   ],
   "source": [
    "x1, y1 = x_train[:2000], y_train[:2000]\n",
    "x1.shape, y1.shape"
   ]
  },
  {
   "cell_type": "code",
   "execution_count": 162,
   "metadata": {},
   "outputs": [
    {
     "data": {
      "text/plain": [
       "((1000, 376), (1000,))"
      ]
     },
     "execution_count": 162,
     "metadata": {},
     "output_type": "execute_result"
    }
   ],
   "source": [
    "x2, y2 = x_train[2000:3000], y_train[2000:3000]\n",
    "x2.shape, y2.shape"
   ]
  },
  {
   "cell_type": "code",
   "execution_count": 163,
   "metadata": {},
   "outputs": [
    {
     "data": {
      "text/plain": [
       "((1209, 376), (1209,))"
      ]
     },
     "execution_count": 163,
     "metadata": {},
     "output_type": "execute_result"
    }
   ],
   "source": [
    "x3, y3 = x_train[3000:], y_train[3000:]\n",
    "x3.shape, y3.shape"
   ]
  },
  {
   "cell_type": "markdown",
   "metadata": {},
   "source": [
    "## Настройка моделей\n",
    "\n",
    "На занятиях мы обсуждали, что поскольку случайный лес и градиентный бустинг разрабатывались исходя из разных принципов, то и базовые алгоритмы - решающие деревья - им нужны разные. Отсюда вытекает, что какие-то гиперапараметры более важны, а какие-то - менее важны для каждого из этих алгоритмов. Для каждого из алгоритмов мы будем сначала подбирать наиболее важные для него гиперапраметры, а затем - втоостепенные.\n",
    "\n",
    "Для случайного леса самый важный гиперпараметр - max_features (сколько случайно выбранных признаков перебирать при построении вершины), потому что он влияет на то, насколько различными будут деревья (а это основная идея случайного леса). В частности, если вы меняете признаковое пространство (а значит, и число признаков), то этот гиперпараметр надо подбирать заново. После настройки max_features подбираются остальные гиперпараметры.\n",
    "\n",
    "Для градиентного бустинга самые важные гиперпараметры - число деревьев и глубина дерева. Глубина дерева задает, насколько слабыми или сильными будут отдельные деревья, а значит и то, насколько мы будем двигаться в сторону градиента. После этих гиперпараметров подбирают другие гиперпараметры. "
   ]
  },
  {
   "cell_type": "code",
   "execution_count": 164,
   "metadata": {},
   "outputs": [],
   "source": [
    "from sklearn.ensemble import RandomForestRegressor, GradientBoostingRegressor\n",
    "from sklearn.metrics import r2_score, make_scorer\n",
    "from sklearn.model_selection import GridSearchCV"
   ]
  },
  {
   "cell_type": "markdown",
   "metadata": {},
   "source": [
    "В этой части вам надо найти оптимальные гиперпараметры для случайного леса и градиентного бустинга, используя первую часть выборки (x1, y1).\n",
    "\n",
    "__Задание 1.__\n",
    "Начнем со случайного леса. \n",
    "1. (уже сделано ниже) Постройте график зависимости качества от числа деревьев в случайном лесе на кросс-валидации с 3 блоками. Выберите число деревьев для использования в дальнейшей настройке и при итоговом обучении модели.\n",
    "\n",
    "Указания: verbose=3 в GridSearchCV будет выводить значения качества на каждой обучаемой модели. Рекомендуется в экспериментах зафиксировать random_state у модели. "
   ]
  },
  {
   "cell_type": "code",
   "execution_count": 165,
   "metadata": {},
   "outputs": [],
   "source": [
    "param_grid = {\"n_estimators\":2**np.arange(10)} #  логарифмическая шкала\n",
    "gs = GridSearchCV(RandomForestRegressor(random_state=1, warm_start=True), param_grid, make_scorer(r2_score), verbose=3)"
   ]
  },
  {
   "cell_type": "code",
   "execution_count": 166,
   "metadata": {},
   "outputs": [
    {
     "name": "stdout",
     "output_type": "stream",
     "text": [
      "Fitting 3 folds for each of 10 candidates, totalling 30 fits\n",
      "[CV] n_estimators=1 ..................................................\n",
      "[CV] ....... n_estimators=1, score=-0.11363851635048605, total=   0.0s\n",
      "[CV] n_estimators=1 ..................................................\n",
      "[CV] ........ n_estimators=1, score=-0.2948964109414778, total=   0.0s\n",
      "[CV] n_estimators=1 ..................................................\n",
      "[CV] ........ n_estimators=1, score=-0.0454352973936476, total=   0.0s\n",
      "[CV] n_estimators=2 ..................................................\n"
     ]
    },
    {
     "name": "stderr",
     "output_type": "stream",
     "text": [
      "[Parallel(n_jobs=1)]: Done   1 out of   1 | elapsed:    0.0s remaining:    0.0s\n",
      "[Parallel(n_jobs=1)]: Done   2 out of   2 | elapsed:    0.0s remaining:    0.0s\n"
     ]
    },
    {
     "name": "stdout",
     "output_type": "stream",
     "text": [
      "[CV] ........ n_estimators=2, score=0.30273353461555996, total=   0.0s\n",
      "[CV] n_estimators=2 ..................................................\n",
      "[CV] ......... n_estimators=2, score=0.1914193089936176, total=   0.0s\n",
      "[CV] n_estimators=2 ..................................................\n",
      "[CV] ......... n_estimators=2, score=0.1580598403130845, total=   0.0s\n",
      "[CV] n_estimators=4 ..................................................\n",
      "[CV] ......... n_estimators=4, score=0.4008479292768693, total=   0.1s\n",
      "[CV] n_estimators=4 ..................................................\n",
      "[CV] ......... n_estimators=4, score=0.4031377674832791, total=   0.1s\n",
      "[CV] n_estimators=4 ..................................................\n",
      "[CV] ......... n_estimators=4, score=0.2603968680930949, total=   0.1s\n",
      "[CV] n_estimators=8 ..................................................\n",
      "[CV] ......... n_estimators=8, score=0.4920316366181038, total=   0.2s\n",
      "[CV] n_estimators=8 ..................................................\n",
      "[CV] ......... n_estimators=8, score=0.4769883753891533, total=   0.3s\n",
      "[CV] n_estimators=8 ..................................................\n",
      "[CV] ......... n_estimators=8, score=0.3368393683095602, total=   0.2s\n",
      "[CV] n_estimators=16 .................................................\n",
      "[CV] ....... n_estimators=16, score=0.49890868733226934, total=   0.5s\n",
      "[CV] n_estimators=16 .................................................\n",
      "[CV] ........ n_estimators=16, score=0.5006260196041054, total=   0.5s\n",
      "[CV] n_estimators=16 .................................................\n",
      "[CV] ....... n_estimators=16, score=0.35507827093290956, total=   0.5s\n",
      "[CV] n_estimators=32 .................................................\n",
      "[CV] ........ n_estimators=32, score=0.5070728109243251, total=   1.1s\n",
      "[CV] n_estimators=32 .................................................\n",
      "[CV] ........ n_estimators=32, score=0.5442915327025206, total=   1.2s\n",
      "[CV] n_estimators=32 .................................................\n",
      "[CV] ....... n_estimators=32, score=0.37092330409107543, total=   1.1s\n",
      "[CV] n_estimators=64 .................................................\n",
      "[CV] ........ n_estimators=64, score=0.5123746936673037, total=   2.7s\n",
      "[CV] n_estimators=64 .................................................\n",
      "[CV] ........ n_estimators=64, score=0.5590791697081579, total=   2.6s\n",
      "[CV] n_estimators=64 .................................................\n",
      "[CV] ........ n_estimators=64, score=0.3722281962466506, total=   3.0s\n",
      "[CV] n_estimators=128 ................................................\n",
      "[CV] ....... n_estimators=128, score=0.5130927262800341, total=   5.0s\n",
      "[CV] n_estimators=128 ................................................\n",
      "[CV] ........ n_estimators=128, score=0.568173667994309, total=   5.4s\n",
      "[CV] n_estimators=128 ................................................\n",
      "[CV] ...... n_estimators=128, score=0.38057567149224236, total=   6.2s\n",
      "[CV] n_estimators=256 ................................................\n",
      "[CV] ......... n_estimators=256, score=0.50863834863139, total=  10.7s\n",
      "[CV] n_estimators=256 ................................................\n",
      "[CV] ....... n_estimators=256, score=0.5638938733622991, total=  13.2s\n",
      "[CV] n_estimators=256 ................................................\n",
      "[CV] ....... n_estimators=256, score=0.3779879965817309, total=  11.3s\n",
      "[CV] n_estimators=512 ................................................\n",
      "[CV] ....... n_estimators=512, score=0.5124343829193072, total=  21.1s\n",
      "[CV] n_estimators=512 ................................................\n",
      "[CV] ....... n_estimators=512, score=0.5627571528548281, total=  20.5s\n",
      "[CV] n_estimators=512 ................................................\n",
      "[CV] ...... n_estimators=512, score=0.37804158922525144, total=  21.2s\n"
     ]
    },
    {
     "name": "stderr",
     "output_type": "stream",
     "text": [
      "[Parallel(n_jobs=1)]: Done  30 out of  30 | elapsed:  2.2min finished\n"
     ]
    },
    {
     "data": {
      "text/plain": [
       "GridSearchCV(cv=None, error_score='raise',\n",
       "       estimator=RandomForestRegressor(bootstrap=True, criterion='mse', max_depth=None,\n",
       "           max_features='auto', max_leaf_nodes=None,\n",
       "           min_impurity_decrease=0.0, min_impurity_split=None,\n",
       "           min_samples_leaf=1, min_samples_split=2,\n",
       "           min_weight_fraction_leaf=0.0, n_estimators=10, n_jobs=1,\n",
       "           oob_score=False, random_state=1, verbose=0, warm_start=True),\n",
       "       fit_params=None, iid=True, n_jobs=1,\n",
       "       param_grid={'n_estimators': array([  1,   2,   4,   8,  16,  32,  64, 128, 256, 512], dtype=int32)},\n",
       "       pre_dispatch='2*n_jobs', refit=True, return_train_score='warn',\n",
       "       scoring=make_scorer(r2_score), verbose=3)"
      ]
     },
     "execution_count": 166,
     "metadata": {},
     "output_type": "execute_result"
    }
   ],
   "source": [
    "gs.fit(x1, y1)"
   ]
  },
  {
   "cell_type": "code",
   "execution_count": 167,
   "metadata": {
    "scrolled": true
   },
   "outputs": [
    {
     "data": {
      "text/plain": [
       "Text(0,0.5,'R2')"
      ]
     },
     "execution_count": 167,
     "metadata": {},
     "output_type": "execute_result"
    },
    {
     "data": {
      "image/png": "[encoded data removed]",
      "text/plain": [
       "<Figure size 432x288 with 1 Axes>"
      ]
     },
     "metadata": {
      "needs_background": "light"
     },
     "output_type": "display_data"
    }
   ],
   "source": [
    "plt.plot((param_grid[\"n_estimators\"]), gs.cv_results_['mean_test_score'])\n",
    "plt.xscale(\"log\")\n",
    "plt.xlabel(\"n_estimators\")\n",
    "plt.ylabel(\"R2\")"
   ]
  },
  {
   "cell_type": "code",
   "execution_count": 168,
   "metadata": {},
   "outputs": [
    {
     "data": {
      "text/plain": [
       "{'n_estimators': 128}"
      ]
     },
     "execution_count": 168,
     "metadata": {},
     "output_type": "execute_result"
    }
   ],
   "source": [
    "gs.best_params_"
   ]
  },
  {
   "cell_type": "markdown",
   "metadata": {},
   "source": [
    "Качество, как и ожидается, растет с увеличением числа базовых алгоритмов. Для валидации выберем 100 деревьев (быстро обучается и уже более-менее приналежит области стабильности качества), финальную модель будем обучать с 500 деревьями."
   ]
  },
  {
   "cell_type": "markdown",
   "metadata": {},
   "source": [
    "1. __(1.25 балла)__ Постройте график зависимости качества от max_features на кросс-валидации. Выберите оптимальное значение гиперпараметра."
   ]
  },
  {
   "cell_type": "code",
   "execution_count": 169,
   "metadata": {},
   "outputs": [
    {
     "name": "stdout",
     "output_type": "stream",
     "text": [
      "Fitting 3 folds for each of 8 candidates, totalling 24 fits\n",
      "[CV] max_features=2 ..................................................\n",
      "[CV] ........ max_features=2, score=0.38306970801369067, total=   0.0s\n",
      "[CV] max_features=2 ..................................................\n",
      "[CV] ........ max_features=2, score=0.47619525262154794, total=   0.0s\n",
      "[CV] max_features=2 ..................................................\n"
     ]
    },
    {
     "name": "stderr",
     "output_type": "stream",
     "text": [
      "[Parallel(n_jobs=1)]: Done   1 out of   1 | elapsed:    0.0s remaining:    0.0s\n",
      "[Parallel(n_jobs=1)]: Done   2 out of   2 | elapsed:    0.1s remaining:    0.0s\n"
     ]
    },
    {
     "name": "stdout",
     "output_type": "stream",
     "text": [
      "[CV] ........ max_features=2, score=0.27413284762820433, total=   0.0s\n",
      "[CV] max_features=4 ..................................................\n",
      "[CV] ........ max_features=4, score=0.43596829365097856, total=   0.0s\n",
      "[CV] max_features=4 ..................................................\n",
      "[CV] ......... max_features=4, score=0.5050699137112888, total=   0.0s\n",
      "[CV] max_features=4 ..................................................\n",
      "[CV] ......... max_features=4, score=0.2513007834835579, total=   0.0s\n",
      "[CV] max_features=8 ..................................................\n",
      "[CV] ........ max_features=8, score=0.42604601710249335, total=   0.0s\n",
      "[CV] max_features=8 ..................................................\n",
      "[CV] .......... max_features=8, score=0.529839954256146, total=   0.0s\n",
      "[CV] max_features=8 ..................................................\n",
      "[CV] ........ max_features=8, score=0.28715196813462285, total=   0.0s\n",
      "[CV] max_features=16 .................................................\n",
      "[CV] ........ max_features=16, score=0.5021029396420835, total=   0.0s\n",
      "[CV] max_features=16 .................................................\n",
      "[CV] ........ max_features=16, score=0.5549336917140799, total=   0.0s\n",
      "[CV] max_features=16 .................................................\n",
      "[CV] ....... max_features=16, score=0.34967369563374984, total=   0.0s\n",
      "[CV] max_features=32 .................................................\n",
      "[CV] ........ max_features=32, score=0.5024445407124687, total=   0.0s\n",
      "[CV] max_features=32 .................................................\n",
      "[CV] ........ max_features=32, score=0.5695884078286668, total=   0.0s\n",
      "[CV] max_features=32 .................................................\n",
      "[CV] ....... max_features=32, score=0.32007084326404556, total=   0.0s\n",
      "[CV] max_features=64 .................................................\n",
      "[CV] ........ max_features=64, score=0.5251532256037492, total=   0.0s\n",
      "[CV] max_features=64 .................................................\n",
      "[CV] ........ max_features=64, score=0.5538117545126788, total=   0.0s\n",
      "[CV] max_features=64 .................................................\n",
      "[CV] ........ max_features=64, score=0.3531840056287433, total=   0.0s\n",
      "[CV] max_features=128 ................................................\n",
      "[CV] ....... max_features=128, score=0.5095198608185612, total=   0.1s\n",
      "[CV] max_features=128 ................................................\n",
      "[CV] ....... max_features=128, score=0.5468236960951814, total=   0.1s\n",
      "[CV] max_features=128 ................................................\n",
      "[CV] ...... max_features=128, score=0.35031191802080097, total=   0.1s\n",
      "[CV] max_features=256 ................................................\n",
      "[CV] ....... max_features=256, score=0.4901476975351595, total=   0.2s\n",
      "[CV] max_features=256 ................................................\n",
      "[CV] ...... max_features=256, score=0.48947646087936125, total=   0.2s\n",
      "[CV] max_features=256 ................................................\n",
      "[CV] ...... max_features=256, score=0.35119898860871857, total=   0.2s\n"
     ]
    },
    {
     "name": "stderr",
     "output_type": "stream",
     "text": [
      "[Parallel(n_jobs=1)]: Done  24 out of  24 | elapsed:    3.2s finished\n"
     ]
    },
    {
     "data": {
      "text/plain": [
       "GridSearchCV(cv=None, error_score='raise',\n",
       "       estimator=RandomForestRegressor(bootstrap=True, criterion='mse', max_depth=None,\n",
       "           max_features='auto', max_leaf_nodes=None,\n",
       "           min_impurity_decrease=0.0, min_impurity_split=None,\n",
       "           min_samples_leaf=1, min_samples_split=2,\n",
       "           min_weight_fraction_leaf=0.0, n_estimators=10, n_jobs=1,\n",
       "           oob_score=False, random_state=1, verbose=0, warm_start=True),\n",
       "       fit_params=None, iid=True, n_jobs=1,\n",
       "       param_grid={'max_features': array([  2,   4,   8,  16,  32,  64, 128, 256], dtype=int32)},\n",
       "       pre_dispatch='2*n_jobs', refit=True, return_train_score='warn',\n",
       "       scoring=make_scorer(r2_score), verbose=3)"
      ]
     },
     "execution_count": 169,
     "metadata": {},
     "output_type": "execute_result"
    }
   ],
   "source": [
    "# базовая логарифмическая шкала для max_features\n",
    "param_grid = {\"max_features\":2**np.arange(1, 9)}\n",
    "gs = GridSearchCV(RandomForestRegressor(random_state=1, warm_start=True), param_grid, make_scorer(r2_score), verbose=3)\n",
    "gs.fit(x1, y1)"
   ]
  },
  {
   "cell_type": "code",
   "execution_count": 170,
   "metadata": {},
   "outputs": [
    {
     "data": {
      "text/plain": [
       "array([  2,   4,   8,  16,  32,  64, 128, 256], dtype=int32)"
      ]
     },
     "execution_count": 170,
     "metadata": {},
     "output_type": "execute_result"
    }
   ],
   "source": [
    "param_grid[\"max_features\"]"
   ]
  },
  {
   "cell_type": "code",
   "execution_count": 171,
   "metadata": {},
   "outputs": [
    {
     "data": {
      "text/plain": [
       "array([0.3778511 , 0.3975194 , 0.41440958, 0.46896306, 0.46410658,\n",
       "       0.47744509, 0.46894444, 0.44365392])"
      ]
     },
     "execution_count": 171,
     "metadata": {},
     "output_type": "execute_result"
    }
   ],
   "source": [
    "gs.cv_results_[\"mean_test_score\"]"
   ]
  },
  {
   "cell_type": "code",
   "execution_count": 172,
   "metadata": {},
   "outputs": [
    {
     "data": {
      "text/plain": [
       "Text(0,0.5,'R2')"
      ]
     },
     "execution_count": 172,
     "metadata": {},
     "output_type": "execute_result"
    },
    {
     "data": {
      "image/png": "[encoded data removed]",
      "text/plain": [
       "<Figure size 432x288 with 1 Axes>"
      ]
     },
     "metadata": {
      "needs_background": "light"
     },
     "output_type": "display_data"
    }
   ],
   "source": [
    "#Постройте график зависимости качества от max_features на кросс-валидации. Выберите оптимальное значение гиперпараметра. \n",
    "plt.plot((param_grid[\"max_features\"]), gs.cv_results_[\"mean_test_score\"])\n",
    "plt.xscale(\"log\")\n",
    "plt.xlabel(\"max_features\")\n",
    "plt.ylabel(\"R2\")"
   ]
  },
  {
   "cell_type": "code",
   "execution_count": 173,
   "metadata": {},
   "outputs": [
    {
     "data": {
      "text/plain": [
       "{'max_features': 64}"
      ]
     },
     "execution_count": 173,
     "metadata": {},
     "output_type": "execute_result"
    }
   ],
   "source": [
    "gs.best_params_"
   ]
  },
  {
   "cell_type": "markdown",
   "metadata": {},
   "source": [
    "1. __(1.25 балла)__ С помощью кросс-валидации выберите оптимальные значения для max_depth, min_samples_leaf, min_samples_split.\n"
   ]
  },
  {
   "cell_type": "code",
   "execution_count": 174,
   "metadata": {},
   "outputs": [],
   "source": [
    "# базовая шкала для остальных гиперпараметров\n",
    "param_grid_n = {\"max_depth\":np.arange(1, 9, 2), \"min_samples_leaf\":[1, 3, 9, 27], \"min_samples_split\":[3, 9, 27, 81]}"
   ]
  },
  {
   "cell_type": "code",
   "execution_count": 175,
   "metadata": {},
   "outputs": [
    {
     "name": "stdout",
     "output_type": "stream",
     "text": [
      "Fitting 3 folds for each of 64 candidates, totalling 192 fits\n",
      "[CV] max_depth=1, min_samples_leaf=1, min_samples_split=3 ............\n",
      "[CV]  max_depth=1, min_samples_leaf=1, min_samples_split=3, score=0.3421184625967517, total=   0.0s\n",
      "[CV] max_depth=1, min_samples_leaf=1, min_samples_split=3 ............\n",
      "[CV]  max_depth=1, min_samples_leaf=1, min_samples_split=3, score=0.42780625720077325, total=   0.0s\n",
      "[CV] max_depth=1, min_samples_leaf=1, min_samples_split=3 ............\n",
      "[CV]  max_depth=1, min_samples_leaf=1, min_samples_split=3, score=0.2655606816287578, total=   0.0s\n",
      "[CV] max_depth=1, min_samples_leaf=1, min_samples_split=9 ............\n"
     ]
    },
    {
     "name": "stderr",
     "output_type": "stream",
     "text": [
      "[Parallel(n_jobs=1)]: Done   1 out of   1 | elapsed:    0.0s remaining:    0.0s\n",
      "[Parallel(n_jobs=1)]: Done   2 out of   2 | elapsed:    0.0s remaining:    0.0s\n"
     ]
    },
    {
     "name": "stdout",
     "output_type": "stream",
     "text": [
      "[CV]  max_depth=1, min_samples_leaf=1, min_samples_split=9, score=0.3421184625967517, total=   0.0s\n",
      "[CV] max_depth=1, min_samples_leaf=1, min_samples_split=9 ............\n",
      "[CV]  max_depth=1, min_samples_leaf=1, min_samples_split=9, score=0.42780625720077325, total=   0.0s\n",
      "[CV] max_depth=1, min_samples_leaf=1, min_samples_split=9 ............\n",
      "[CV]  max_depth=1, min_samples_leaf=1, min_samples_split=9, score=0.2655606816287578, total=   0.0s\n",
      "[CV] max_depth=1, min_samples_leaf=1, min_samples_split=27 ...........\n",
      "[CV]  max_depth=1, min_samples_leaf=1, min_samples_split=27, score=0.3421184625967517, total=   0.0s\n",
      "[CV] max_depth=1, min_samples_leaf=1, min_samples_split=27 ...........\n",
      "[CV]  max_depth=1, min_samples_leaf=1, min_samples_split=27, score=0.42780625720077325, total=   0.0s\n",
      "[CV] max_depth=1, min_samples_leaf=1, min_samples_split=27 ...........\n",
      "[CV]  max_depth=1, min_samples_leaf=1, min_samples_split=27, score=0.2655606816287578, total=   0.0s\n",
      "[CV] max_depth=1, min_samples_leaf=1, min_samples_split=81 ...........\n",
      "[CV]  max_depth=1, min_samples_leaf=1, min_samples_split=81, score=0.3421184625967517, total=   0.0s\n",
      "[CV] max_depth=1, min_samples_leaf=1, min_samples_split=81 ...........\n",
      "[CV]  max_depth=1, min_samples_leaf=1, min_samples_split=81, score=0.42780625720077325, total=   0.0s\n",
      "[CV] max_depth=1, min_samples_leaf=1, min_samples_split=81 ...........\n",
      "[CV]  max_depth=1, min_samples_leaf=1, min_samples_split=81, score=0.2655606816287578, total=   0.0s\n",
      "[CV] max_depth=1, min_samples_leaf=3, min_samples_split=3 ............\n",
      "[CV]  max_depth=1, min_samples_leaf=3, min_samples_split=3, score=0.3421184625967517, total=   0.0s\n",
      "[CV] max_depth=1, min_samples_leaf=3, min_samples_split=3 ............\n",
      "[CV]  max_depth=1, min_samples_leaf=3, min_samples_split=3, score=0.42780625720077325, total=   0.0s\n",
      "[CV] max_depth=1, min_samples_leaf=3, min_samples_split=3 ............\n",
      "[CV]  max_depth=1, min_samples_leaf=3, min_samples_split=3, score=0.2655606816287578, total=   0.0s\n",
      "[CV] max_depth=1, min_samples_leaf=3, min_samples_split=9 ............\n",
      "[CV]  max_depth=1, min_samples_leaf=3, min_samples_split=9, score=0.3421184625967517, total=   0.0s\n",
      "[CV] max_depth=1, min_samples_leaf=3, min_samples_split=9 ............\n",
      "[CV]  max_depth=1, min_samples_leaf=3, min_samples_split=9, score=0.42780625720077325, total=   0.0s\n",
      "[CV] max_depth=1, min_samples_leaf=3, min_samples_split=9 ............\n",
      "[CV]  max_depth=1, min_samples_leaf=3, min_samples_split=9, score=0.2655606816287578, total=   0.0s\n",
      "[CV] max_depth=1, min_samples_leaf=3, min_samples_split=27 ...........\n",
      "[CV]  max_depth=1, min_samples_leaf=3, min_samples_split=27, score=0.3421184625967517, total=   0.0s\n",
      "[CV] max_depth=1, min_samples_leaf=3, min_samples_split=27 ...........\n",
      "[CV]  max_depth=1, min_samples_leaf=3, min_samples_split=27, score=0.42780625720077325, total=   0.0s\n",
      "[CV] max_depth=1, min_samples_leaf=3, min_samples_split=27 ...........\n",
      "[CV]  max_depth=1, min_samples_leaf=3, min_samples_split=27, score=0.2655606816287578, total=   0.0s\n",
      "[CV] max_depth=1, min_samples_leaf=3, min_samples_split=81 ...........\n",
      "[CV]  max_depth=1, min_samples_leaf=3, min_samples_split=81, score=0.3421184625967517, total=   0.0s\n",
      "[CV] max_depth=1, min_samples_leaf=3, min_samples_split=81 ...........\n",
      "[CV]  max_depth=1, min_samples_leaf=3, min_samples_split=81, score=0.42780625720077325, total=   0.0s\n",
      "[CV] max_depth=1, min_samples_leaf=3, min_samples_split=81 ...........\n",
      "[CV]  max_depth=1, min_samples_leaf=3, min_samples_split=81, score=0.2655606816287578, total=   0.0s\n",
      "[CV] max_depth=1, min_samples_leaf=9, min_samples_split=3 ............\n",
      "[CV]  max_depth=1, min_samples_leaf=9, min_samples_split=3, score=0.3421184625967517, total=   0.0s\n",
      "[CV] max_depth=1, min_samples_leaf=9, min_samples_split=3 ............\n",
      "[CV]  max_depth=1, min_samples_leaf=9, min_samples_split=3, score=0.42780625720077325, total=   0.0s\n",
      "[CV] max_depth=1, min_samples_leaf=9, min_samples_split=3 ............\n",
      "[CV]  max_depth=1, min_samples_leaf=9, min_samples_split=3, score=0.2655606816287578, total=   0.0s\n",
      "[CV] max_depth=1, min_samples_leaf=9, min_samples_split=9 ............\n",
      "[CV]  max_depth=1, min_samples_leaf=9, min_samples_split=9, score=0.3421184625967517, total=   0.0s\n",
      "[CV] max_depth=1, min_samples_leaf=9, min_samples_split=9 ............\n",
      "[CV]  max_depth=1, min_samples_leaf=9, min_samples_split=9, score=0.42780625720077325, total=   0.0s\n",
      "[CV] max_depth=1, min_samples_leaf=9, min_samples_split=9 ............\n",
      "[CV]  max_depth=1, min_samples_leaf=9, min_samples_split=9, score=0.2655606816287578, total=   0.0s\n",
      "[CV] max_depth=1, min_samples_leaf=9, min_samples_split=27 ...........\n",
      "[CV]  max_depth=1, min_samples_leaf=9, min_samples_split=27, score=0.3421184625967517, total=   0.0s\n",
      "[CV] max_depth=1, min_samples_leaf=9, min_samples_split=27 ...........\n",
      "[CV]  max_depth=1, min_samples_leaf=9, min_samples_split=27, score=0.42780625720077325, total=   0.0s\n",
      "[CV] max_depth=1, min_samples_leaf=9, min_samples_split=27 ...........\n",
      "[CV]  max_depth=1, min_samples_leaf=9, min_samples_split=27, score=0.2655606816287578, total=   0.0s\n",
      "[CV] max_depth=1, min_samples_leaf=9, min_samples_split=81 ...........\n",
      "[CV]  max_depth=1, min_samples_leaf=9, min_samples_split=81, score=0.3421184625967517, total=   0.0s\n",
      "[CV] max_depth=1, min_samples_leaf=9, min_samples_split=81 ...........\n",
      "[CV]  max_depth=1, min_samples_leaf=9, min_samples_split=81, score=0.42780625720077325, total=   0.0s\n",
      "[CV] max_depth=1, min_samples_leaf=9, min_samples_split=81 ...........\n",
      "[CV]  max_depth=1, min_samples_leaf=9, min_samples_split=81, score=0.2655606816287578, total=   0.0s\n",
      "[CV] max_depth=1, min_samples_leaf=27, min_samples_split=3 ...........\n",
      "[CV]  max_depth=1, min_samples_leaf=27, min_samples_split=3, score=0.3421184625967517, total=   0.0s\n",
      "[CV] max_depth=1, min_samples_leaf=27, min_samples_split=3 ...........\n",
      "[CV]  max_depth=1, min_samples_leaf=27, min_samples_split=3, score=0.42780625720077325, total=   0.0s\n",
      "[CV] max_depth=1, min_samples_leaf=27, min_samples_split=3 ...........\n",
      "[CV]  max_depth=1, min_samples_leaf=27, min_samples_split=3, score=0.2655606816287578, total=   0.0s\n",
      "[CV] max_depth=1, min_samples_leaf=27, min_samples_split=9 ...........\n",
      "[CV]  max_depth=1, min_samples_leaf=27, min_samples_split=9, score=0.3421184625967517, total=   0.0s\n",
      "[CV] max_depth=1, min_samples_leaf=27, min_samples_split=9 ...........\n",
      "[CV]  max_depth=1, min_samples_leaf=27, min_samples_split=9, score=0.42780625720077325, total=   0.0s\n",
      "[CV] max_depth=1, min_samples_leaf=27, min_samples_split=9 ...........\n",
      "[CV]  max_depth=1, min_samples_leaf=27, min_samples_split=9, score=0.2655606816287578, total=   0.0s\n",
      "[CV] max_depth=1, min_samples_leaf=27, min_samples_split=27 ..........\n",
      "[CV]  max_depth=1, min_samples_leaf=27, min_samples_split=27, score=0.3421184625967517, total=   0.0s\n",
      "[CV] max_depth=1, min_samples_leaf=27, min_samples_split=27 ..........\n",
      "[CV]  max_depth=1, min_samples_leaf=27, min_samples_split=27, score=0.42780625720077325, total=   0.0s\n",
      "[CV] max_depth=1, min_samples_leaf=27, min_samples_split=27 ..........\n",
      "[CV]  max_depth=1, min_samples_leaf=27, min_samples_split=27, score=0.2655606816287578, total=   0.0s\n",
      "[CV] max_depth=1, min_samples_leaf=27, min_samples_split=81 ..........\n",
      "[CV]  max_depth=1, min_samples_leaf=27, min_samples_split=81, score=0.3421184625967517, total=   0.0s\n",
      "[CV] max_depth=1, min_samples_leaf=27, min_samples_split=81 ..........\n",
      "[CV]  max_depth=1, min_samples_leaf=27, min_samples_split=81, score=0.42780625720077325, total=   0.0s\n",
      "[CV] max_depth=1, min_samples_leaf=27, min_samples_split=81 ..........\n",
      "[CV]  max_depth=1, min_samples_leaf=27, min_samples_split=81, score=0.2655606816287578, total=   0.0s\n",
      "[CV] max_depth=3, min_samples_leaf=1, min_samples_split=3 ............\n",
      "[CV]  max_depth=3, min_samples_leaf=1, min_samples_split=3, score=0.5481571637325835, total=   0.0s\n",
      "[CV] max_depth=3, min_samples_leaf=1, min_samples_split=3 ............\n",
      "[CV]  max_depth=3, min_samples_leaf=1, min_samples_split=3, score=0.6847076493604345, total=   0.0s\n",
      "[CV] max_depth=3, min_samples_leaf=1, min_samples_split=3 ............\n",
      "[CV]  max_depth=3, min_samples_leaf=1, min_samples_split=3, score=0.408127029574439, total=   0.0s\n",
      "[CV] max_depth=3, min_samples_leaf=1, min_samples_split=9 ............\n",
      "[CV]  max_depth=3, min_samples_leaf=1, min_samples_split=9, score=0.5481571637325835, total=   0.0s\n",
      "[CV] max_depth=3, min_samples_leaf=1, min_samples_split=9 ............\n"
     ]
    },
    {
     "name": "stdout",
     "output_type": "stream",
     "text": [
      "[CV]  max_depth=3, min_samples_leaf=1, min_samples_split=9, score=0.6847076493604345, total=   0.0s\n",
      "[CV] max_depth=3, min_samples_leaf=1, min_samples_split=9 ............\n",
      "[CV]  max_depth=3, min_samples_leaf=1, min_samples_split=9, score=0.408127029574439, total=   0.0s\n",
      "[CV] max_depth=3, min_samples_leaf=1, min_samples_split=27 ...........\n",
      "[CV]  max_depth=3, min_samples_leaf=1, min_samples_split=27, score=0.5488919447726873, total=   0.0s\n",
      "[CV] max_depth=3, min_samples_leaf=1, min_samples_split=27 ...........\n",
      "[CV]  max_depth=3, min_samples_leaf=1, min_samples_split=27, score=0.6908723759765433, total=   0.0s\n",
      "[CV] max_depth=3, min_samples_leaf=1, min_samples_split=27 ...........\n",
      "[CV]  max_depth=3, min_samples_leaf=1, min_samples_split=27, score=0.40814513037330236, total=   0.0s\n",
      "[CV] max_depth=3, min_samples_leaf=1, min_samples_split=81 ...........\n",
      "[CV]  max_depth=3, min_samples_leaf=1, min_samples_split=81, score=0.5487665745575745, total=   0.0s\n",
      "[CV] max_depth=3, min_samples_leaf=1, min_samples_split=81 ...........\n",
      "[CV]  max_depth=3, min_samples_leaf=1, min_samples_split=81, score=0.6910361814464464, total=   0.0s\n",
      "[CV] max_depth=3, min_samples_leaf=1, min_samples_split=81 ...........\n",
      "[CV]  max_depth=3, min_samples_leaf=1, min_samples_split=81, score=0.4086463599910102, total=   0.0s\n",
      "[CV] max_depth=3, min_samples_leaf=3, min_samples_split=3 ............\n",
      "[CV]  max_depth=3, min_samples_leaf=3, min_samples_split=3, score=0.5500110710104296, total=   0.0s\n",
      "[CV] max_depth=3, min_samples_leaf=3, min_samples_split=3 ............\n",
      "[CV]  max_depth=3, min_samples_leaf=3, min_samples_split=3, score=0.6871900326475999, total=   0.0s\n",
      "[CV] max_depth=3, min_samples_leaf=3, min_samples_split=3 ............\n",
      "[CV]  max_depth=3, min_samples_leaf=3, min_samples_split=3, score=0.41272547306985885, total=   0.0s\n",
      "[CV] max_depth=3, min_samples_leaf=3, min_samples_split=9 ............\n",
      "[CV]  max_depth=3, min_samples_leaf=3, min_samples_split=9, score=0.5500110710104296, total=   0.0s\n",
      "[CV] max_depth=3, min_samples_leaf=3, min_samples_split=9 ............\n",
      "[CV]  max_depth=3, min_samples_leaf=3, min_samples_split=9, score=0.6871900326475999, total=   0.0s\n",
      "[CV] max_depth=3, min_samples_leaf=3, min_samples_split=9 ............\n",
      "[CV]  max_depth=3, min_samples_leaf=3, min_samples_split=9, score=0.41272547306985885, total=   0.0s\n",
      "[CV] max_depth=3, min_samples_leaf=3, min_samples_split=27 ...........\n",
      "[CV]  max_depth=3, min_samples_leaf=3, min_samples_split=27, score=0.5500492342390397, total=   0.0s\n",
      "[CV] max_depth=3, min_samples_leaf=3, min_samples_split=27 ...........\n",
      "[CV]  max_depth=3, min_samples_leaf=3, min_samples_split=27, score=0.6895047847851434, total=   0.0s\n",
      "[CV] max_depth=3, min_samples_leaf=3, min_samples_split=27 ...........\n",
      "[CV]  max_depth=3, min_samples_leaf=3, min_samples_split=27, score=0.41322680288394786, total=   0.0s\n",
      "[CV] max_depth=3, min_samples_leaf=3, min_samples_split=81 ...........\n",
      "[CV]  max_depth=3, min_samples_leaf=3, min_samples_split=81, score=0.5498674589779783, total=   0.0s\n",
      "[CV] max_depth=3, min_samples_leaf=3, min_samples_split=81 ...........\n",
      "[CV]  max_depth=3, min_samples_leaf=3, min_samples_split=81, score=0.6896685902550466, total=   0.0s\n",
      "[CV] max_depth=3, min_samples_leaf=3, min_samples_split=81 ...........\n",
      "[CV]  max_depth=3, min_samples_leaf=3, min_samples_split=81, score=0.4135062774316096, total=   0.0s\n",
      "[CV] max_depth=3, min_samples_leaf=9, min_samples_split=3 ............\n",
      "[CV]  max_depth=3, min_samples_leaf=9, min_samples_split=3, score=0.5497556230268943, total=   0.0s\n",
      "[CV] max_depth=3, min_samples_leaf=9, min_samples_split=3 ............\n",
      "[CV]  max_depth=3, min_samples_leaf=9, min_samples_split=3, score=0.687331251681897, total=   0.0s\n",
      "[CV] max_depth=3, min_samples_leaf=9, min_samples_split=3 ............\n",
      "[CV]  max_depth=3, min_samples_leaf=9, min_samples_split=3, score=0.4122949717387594, total=   0.0s\n",
      "[CV] max_depth=3, min_samples_leaf=9, min_samples_split=9 ............\n",
      "[CV]  max_depth=3, min_samples_leaf=9, min_samples_split=9, score=0.5497556230268943, total=   0.0s\n",
      "[CV] max_depth=3, min_samples_leaf=9, min_samples_split=9 ............\n",
      "[CV]  max_depth=3, min_samples_leaf=9, min_samples_split=9, score=0.687331251681897, total=   0.0s\n",
      "[CV] max_depth=3, min_samples_leaf=9, min_samples_split=9 ............\n",
      "[CV]  max_depth=3, min_samples_leaf=9, min_samples_split=9, score=0.4122949717387594, total=   0.0s\n",
      "[CV] max_depth=3, min_samples_leaf=9, min_samples_split=27 ...........\n",
      "[CV]  max_depth=3, min_samples_leaf=9, min_samples_split=27, score=0.5497601913240557, total=   0.0s\n",
      "[CV] max_depth=3, min_samples_leaf=9, min_samples_split=27 ...........\n",
      "[CV]  max_depth=3, min_samples_leaf=9, min_samples_split=27, score=0.6901726695595397, total=   0.0s\n",
      "[CV] max_depth=3, min_samples_leaf=9, min_samples_split=27 ...........\n",
      "[CV]  max_depth=3, min_samples_leaf=9, min_samples_split=27, score=0.41278909001107944, total=   0.0s\n",
      "[CV] max_depth=3, min_samples_leaf=9, min_samples_split=81 ...........\n",
      "[CV]  max_depth=3, min_samples_leaf=9, min_samples_split=81, score=0.5496919334887699, total=   0.0s\n",
      "[CV] max_depth=3, min_samples_leaf=9, min_samples_split=81 ...........\n",
      "[CV]  max_depth=3, min_samples_leaf=9, min_samples_split=81, score=0.6901563617733111, total=   0.0s\n",
      "[CV] max_depth=3, min_samples_leaf=9, min_samples_split=81 ...........\n",
      "[CV]  max_depth=3, min_samples_leaf=9, min_samples_split=81, score=0.41294857590703693, total=   0.0s\n",
      "[CV] max_depth=3, min_samples_leaf=27, min_samples_split=3 ...........\n",
      "[CV]  max_depth=3, min_samples_leaf=27, min_samples_split=3, score=0.5234233384885716, total=   0.0s\n",
      "[CV] max_depth=3, min_samples_leaf=27, min_samples_split=3 ...........\n",
      "[CV]  max_depth=3, min_samples_leaf=27, min_samples_split=3, score=0.6279983609009336, total=   0.0s\n",
      "[CV] max_depth=3, min_samples_leaf=27, min_samples_split=3 ...........\n",
      "[CV]  max_depth=3, min_samples_leaf=27, min_samples_split=3, score=0.4077787862662644, total=   0.0s\n",
      "[CV] max_depth=3, min_samples_leaf=27, min_samples_split=9 ...........\n",
      "[CV]  max_depth=3, min_samples_leaf=27, min_samples_split=9, score=0.5234233384885716, total=   0.0s\n",
      "[CV] max_depth=3, min_samples_leaf=27, min_samples_split=9 ...........\n",
      "[CV]  max_depth=3, min_samples_leaf=27, min_samples_split=9, score=0.6279983609009336, total=   0.0s\n",
      "[CV] max_depth=3, min_samples_leaf=27, min_samples_split=9 ...........\n",
      "[CV]  max_depth=3, min_samples_leaf=27, min_samples_split=9, score=0.4077787862662644, total=   0.1s\n",
      "[CV] max_depth=3, min_samples_leaf=27, min_samples_split=27 ..........\n",
      "[CV]  max_depth=3, min_samples_leaf=27, min_samples_split=27, score=0.5234233384885716, total=   0.1s\n",
      "[CV] max_depth=3, min_samples_leaf=27, min_samples_split=27 ..........\n",
      "[CV]  max_depth=3, min_samples_leaf=27, min_samples_split=27, score=0.6279983609009336, total=   0.0s\n",
      "[CV] max_depth=3, min_samples_leaf=27, min_samples_split=27 ..........\n",
      "[CV]  max_depth=3, min_samples_leaf=27, min_samples_split=27, score=0.4077787862662644, total=   0.1s\n",
      "[CV] max_depth=3, min_samples_leaf=27, min_samples_split=81 ..........\n",
      "[CV]  max_depth=3, min_samples_leaf=27, min_samples_split=81, score=0.5234233384885716, total=   0.2s\n",
      "[CV] max_depth=3, min_samples_leaf=27, min_samples_split=81 ..........\n",
      "[CV]  max_depth=3, min_samples_leaf=27, min_samples_split=81, score=0.6279983609009336, total=   0.1s\n",
      "[CV] max_depth=3, min_samples_leaf=27, min_samples_split=81 ..........\n",
      "[CV]  max_depth=3, min_samples_leaf=27, min_samples_split=81, score=0.4077787862662644, total=   0.1s\n",
      "[CV] max_depth=5, min_samples_leaf=1, min_samples_split=3 ............\n",
      "[CV]  max_depth=5, min_samples_leaf=1, min_samples_split=3, score=0.5485250114334735, total=   0.1s\n",
      "[CV] max_depth=5, min_samples_leaf=1, min_samples_split=3 ............\n",
      "[CV]  max_depth=5, min_samples_leaf=1, min_samples_split=3, score=0.6581138457099349, total=   0.0s\n",
      "[CV] max_depth=5, min_samples_leaf=1, min_samples_split=3 ............\n",
      "[CV]  max_depth=5, min_samples_leaf=1, min_samples_split=3, score=0.3998134555693006, total=   0.0s\n",
      "[CV] max_depth=5, min_samples_leaf=1, min_samples_split=9 ............\n",
      "[CV]  max_depth=5, min_samples_leaf=1, min_samples_split=9, score=0.5494975296508464, total=   0.2s\n",
      "[CV] max_depth=5, min_samples_leaf=1, min_samples_split=9 ............\n"
     ]
    },
    {
     "name": "stdout",
     "output_type": "stream",
     "text": [
      "[CV]  max_depth=5, min_samples_leaf=1, min_samples_split=9, score=0.6607969769301623, total=   0.1s\n",
      "[CV] max_depth=5, min_samples_leaf=1, min_samples_split=9 ............\n",
      "[CV]  max_depth=5, min_samples_leaf=1, min_samples_split=9, score=0.40138343396397025, total=   0.2s\n",
      "[CV] max_depth=5, min_samples_leaf=1, min_samples_split=27 ...........\n",
      "[CV]  max_depth=5, min_samples_leaf=1, min_samples_split=27, score=0.5543945098173501, total=   0.1s\n",
      "[CV] max_depth=5, min_samples_leaf=1, min_samples_split=27 ...........\n",
      "[CV]  max_depth=5, min_samples_leaf=1, min_samples_split=27, score=0.6714561713443254, total=   0.0s\n",
      "[CV] max_depth=5, min_samples_leaf=1, min_samples_split=27 ...........\n",
      "[CV]  max_depth=5, min_samples_leaf=1, min_samples_split=27, score=0.4045251128124441, total=   0.0s\n",
      "[CV] max_depth=5, min_samples_leaf=1, min_samples_split=81 ...........\n",
      "[CV]  max_depth=5, min_samples_leaf=1, min_samples_split=81, score=0.5553475197091228, total=   0.1s\n",
      "[CV] max_depth=5, min_samples_leaf=1, min_samples_split=81 ...........\n",
      "[CV]  max_depth=5, min_samples_leaf=1, min_samples_split=81, score=0.6876822204905995, total=   0.0s\n",
      "[CV] max_depth=5, min_samples_leaf=1, min_samples_split=81 ...........\n",
      "[CV]  max_depth=5, min_samples_leaf=1, min_samples_split=81, score=0.40767498858550766, total=   0.0s\n",
      "[CV] max_depth=5, min_samples_leaf=3, min_samples_split=3 ............\n",
      "[CV]  max_depth=5, min_samples_leaf=3, min_samples_split=3, score=0.549995298075991, total=   0.0s\n",
      "[CV] max_depth=5, min_samples_leaf=3, min_samples_split=3 ............\n",
      "[CV]  max_depth=5, min_samples_leaf=3, min_samples_split=3, score=0.6583327293193278, total=   0.0s\n",
      "[CV] max_depth=5, min_samples_leaf=3, min_samples_split=3 ............\n",
      "[CV]  max_depth=5, min_samples_leaf=3, min_samples_split=3, score=0.40775560981723746, total=   0.1s\n",
      "[CV] max_depth=5, min_samples_leaf=3, min_samples_split=9 ............\n",
      "[CV]  max_depth=5, min_samples_leaf=3, min_samples_split=9, score=0.5500351436002038, total=   0.2s\n",
      "[CV] max_depth=5, min_samples_leaf=3, min_samples_split=9 ............\n",
      "[CV]  max_depth=5, min_samples_leaf=3, min_samples_split=9, score=0.6605041727170636, total=   0.1s\n",
      "[CV] max_depth=5, min_samples_leaf=3, min_samples_split=9 ............\n",
      "[CV]  max_depth=5, min_samples_leaf=3, min_samples_split=9, score=0.4093643496537399, total=   0.1s\n",
      "[CV] max_depth=5, min_samples_leaf=3, min_samples_split=27 ...........\n",
      "[CV]  max_depth=5, min_samples_leaf=3, min_samples_split=27, score=0.5525487643766558, total=   0.1s\n",
      "[CV] max_depth=5, min_samples_leaf=3, min_samples_split=27 ...........\n",
      "[CV]  max_depth=5, min_samples_leaf=3, min_samples_split=27, score=0.6668240579615918, total=   0.0s\n",
      "[CV] max_depth=5, min_samples_leaf=3, min_samples_split=27 ...........\n",
      "[CV]  max_depth=5, min_samples_leaf=3, min_samples_split=27, score=0.41125364462607505, total=   0.1s\n",
      "[CV] max_depth=5, min_samples_leaf=3, min_samples_split=81 ...........\n",
      "[CV]  max_depth=5, min_samples_leaf=3, min_samples_split=81, score=0.5529681559954891, total=   0.1s\n",
      "[CV] max_depth=5, min_samples_leaf=3, min_samples_split=81 ...........\n",
      "[CV]  max_depth=5, min_samples_leaf=3, min_samples_split=81, score=0.6827313098384484, total=   0.2s\n",
      "[CV] max_depth=5, min_samples_leaf=3, min_samples_split=81 ...........\n",
      "[CV]  max_depth=5, min_samples_leaf=3, min_samples_split=81, score=0.4114757838382199, total=   0.0s\n",
      "[CV] max_depth=5, min_samples_leaf=9, min_samples_split=3 ............\n",
      "[CV]  max_depth=5, min_samples_leaf=9, min_samples_split=3, score=0.5476118565170345, total=   0.0s\n",
      "[CV] max_depth=5, min_samples_leaf=9, min_samples_split=3 ............\n",
      "[CV]  max_depth=5, min_samples_leaf=9, min_samples_split=3, score=0.6762692586664112, total=   0.0s\n",
      "[CV] max_depth=5, min_samples_leaf=9, min_samples_split=3 ............\n",
      "[CV]  max_depth=5, min_samples_leaf=9, min_samples_split=3, score=0.40502999782834426, total=   0.1s\n",
      "[CV] max_depth=5, min_samples_leaf=9, min_samples_split=9 ............\n",
      "[CV]  max_depth=5, min_samples_leaf=9, min_samples_split=9, score=0.5476118565170345, total=   0.0s\n",
      "[CV] max_depth=5, min_samples_leaf=9, min_samples_split=9 ............\n",
      "[CV]  max_depth=5, min_samples_leaf=9, min_samples_split=9, score=0.6762692586664112, total=   0.1s\n",
      "[CV] max_depth=5, min_samples_leaf=9, min_samples_split=9 ............\n",
      "[CV]  max_depth=5, min_samples_leaf=9, min_samples_split=9, score=0.40502999782834426, total=   0.1s\n",
      "[CV] max_depth=5, min_samples_leaf=9, min_samples_split=27 ...........\n",
      "[CV]  max_depth=5, min_samples_leaf=9, min_samples_split=27, score=0.5478523670826034, total=   0.1s\n",
      "[CV] max_depth=5, min_samples_leaf=9, min_samples_split=27 ...........\n",
      "[CV]  max_depth=5, min_samples_leaf=9, min_samples_split=27, score=0.6802364893480704, total=   0.0s\n",
      "[CV] max_depth=5, min_samples_leaf=9, min_samples_split=27 ...........\n",
      "[CV]  max_depth=5, min_samples_leaf=9, min_samples_split=27, score=0.4062315602008233, total=   0.0s\n",
      "[CV] max_depth=5, min_samples_leaf=9, min_samples_split=81 ...........\n",
      "[CV]  max_depth=5, min_samples_leaf=9, min_samples_split=81, score=0.5502279259313609, total=   0.0s\n",
      "[CV] max_depth=5, min_samples_leaf=9, min_samples_split=81 ...........\n",
      "[CV]  max_depth=5, min_samples_leaf=9, min_samples_split=81, score=0.6834767172114065, total=   0.1s\n",
      "[CV] max_depth=5, min_samples_leaf=9, min_samples_split=81 ...........\n",
      "[CV]  max_depth=5, min_samples_leaf=9, min_samples_split=81, score=0.40711913990405313, total=   0.0s\n",
      "[CV] max_depth=5, min_samples_leaf=27, min_samples_split=3 ...........\n",
      "[CV]  max_depth=5, min_samples_leaf=27, min_samples_split=3, score=0.5296634720175313, total=   0.1s\n",
      "[CV] max_depth=5, min_samples_leaf=27, min_samples_split=3 ...........\n",
      "[CV]  max_depth=5, min_samples_leaf=27, min_samples_split=3, score=0.632125477665817, total=   0.1s\n",
      "[CV] max_depth=5, min_samples_leaf=27, min_samples_split=3 ...........\n",
      "[CV]  max_depth=5, min_samples_leaf=27, min_samples_split=3, score=0.4054141152912827, total=   0.0s\n",
      "[CV] max_depth=5, min_samples_leaf=27, min_samples_split=9 ...........\n",
      "[CV]  max_depth=5, min_samples_leaf=27, min_samples_split=9, score=0.5296634720175313, total=   0.1s\n",
      "[CV] max_depth=5, min_samples_leaf=27, min_samples_split=9 ...........\n",
      "[CV]  max_depth=5, min_samples_leaf=27, min_samples_split=9, score=0.632125477665817, total=   0.1s\n",
      "[CV] max_depth=5, min_samples_leaf=27, min_samples_split=9 ...........\n",
      "[CV]  max_depth=5, min_samples_leaf=27, min_samples_split=9, score=0.4054141152912827, total=   0.1s\n",
      "[CV] max_depth=5, min_samples_leaf=27, min_samples_split=27 ..........\n",
      "[CV]  max_depth=5, min_samples_leaf=27, min_samples_split=27, score=0.5296634720175313, total=   0.1s\n",
      "[CV] max_depth=5, min_samples_leaf=27, min_samples_split=27 ..........\n",
      "[CV]  max_depth=5, min_samples_leaf=27, min_samples_split=27, score=0.632125477665817, total=   0.1s\n",
      "[CV] max_depth=5, min_samples_leaf=27, min_samples_split=27 ..........\n",
      "[CV]  max_depth=5, min_samples_leaf=27, min_samples_split=27, score=0.4054141152912827, total=   0.0s\n",
      "[CV] max_depth=5, min_samples_leaf=27, min_samples_split=81 ..........\n",
      "[CV]  max_depth=5, min_samples_leaf=27, min_samples_split=81, score=0.5305251975640046, total=   0.0s\n",
      "[CV] max_depth=5, min_samples_leaf=27, min_samples_split=81 ..........\n",
      "[CV]  max_depth=5, min_samples_leaf=27, min_samples_split=81, score=0.6311429389431997, total=   0.0s\n",
      "[CV] max_depth=5, min_samples_leaf=27, min_samples_split=81 ..........\n",
      "[CV]  max_depth=5, min_samples_leaf=27, min_samples_split=81, score=0.4059694708858046, total=   0.0s\n",
      "[CV] max_depth=7, min_samples_leaf=1, min_samples_split=3 ............\n",
      "[CV]  max_depth=7, min_samples_leaf=1, min_samples_split=3, score=0.5500551353034895, total=   0.1s\n",
      "[CV] max_depth=7, min_samples_leaf=1, min_samples_split=3 ............\n",
      "[CV]  max_depth=7, min_samples_leaf=1, min_samples_split=3, score=0.6369161259686533, total=   0.1s\n",
      "[CV] max_depth=7, min_samples_leaf=1, min_samples_split=3 ............\n",
      "[CV]  max_depth=7, min_samples_leaf=1, min_samples_split=3, score=0.38941721429191, total=   0.1s\n",
      "[CV] max_depth=7, min_samples_leaf=1, min_samples_split=9 ............\n",
      "[CV]  max_depth=7, min_samples_leaf=1, min_samples_split=9, score=0.5442243622444688, total=   0.1s\n",
      "[CV] max_depth=7, min_samples_leaf=1, min_samples_split=9 ............\n",
      "[CV]  max_depth=7, min_samples_leaf=1, min_samples_split=9, score=0.6253586965353053, total=   0.1s\n",
      "[CV] max_depth=7, min_samples_leaf=1, min_samples_split=9 ............\n"
     ]
    },
    {
     "name": "stdout",
     "output_type": "stream",
     "text": [
      "[CV]  max_depth=7, min_samples_leaf=1, min_samples_split=9, score=0.3937467501620362, total=   0.1s\n",
      "[CV] max_depth=7, min_samples_leaf=1, min_samples_split=27 ...........\n",
      "[CV]  max_depth=7, min_samples_leaf=1, min_samples_split=27, score=0.5513934000462437, total=   0.1s\n",
      "[CV] max_depth=7, min_samples_leaf=1, min_samples_split=27 ...........\n",
      "[CV]  max_depth=7, min_samples_leaf=1, min_samples_split=27, score=0.6517626899724724, total=   0.1s\n",
      "[CV] max_depth=7, min_samples_leaf=1, min_samples_split=27 ...........\n",
      "[CV]  max_depth=7, min_samples_leaf=1, min_samples_split=27, score=0.40096792781309265, total=   0.1s\n",
      "[CV] max_depth=7, min_samples_leaf=1, min_samples_split=81 ...........\n",
      "[CV]  max_depth=7, min_samples_leaf=1, min_samples_split=81, score=0.5564225557930194, total=   0.1s\n",
      "[CV] max_depth=7, min_samples_leaf=1, min_samples_split=81 ...........\n",
      "[CV]  max_depth=7, min_samples_leaf=1, min_samples_split=81, score=0.6719930047004404, total=   0.1s\n",
      "[CV] max_depth=7, min_samples_leaf=1, min_samples_split=81 ...........\n",
      "[CV]  max_depth=7, min_samples_leaf=1, min_samples_split=81, score=0.4084272944833156, total=   0.0s\n",
      "[CV] max_depth=7, min_samples_leaf=3, min_samples_split=3 ............\n",
      "[CV]  max_depth=7, min_samples_leaf=3, min_samples_split=3, score=0.5414024547413188, total=   0.1s\n",
      "[CV] max_depth=7, min_samples_leaf=3, min_samples_split=3 ............\n",
      "[CV]  max_depth=7, min_samples_leaf=3, min_samples_split=3, score=0.6389750267337897, total=   0.1s\n",
      "[CV] max_depth=7, min_samples_leaf=3, min_samples_split=3 ............\n",
      "[CV]  max_depth=7, min_samples_leaf=3, min_samples_split=3, score=0.39874899133526076, total=   0.1s\n",
      "[CV] max_depth=7, min_samples_leaf=3, min_samples_split=9 ............\n",
      "[CV]  max_depth=7, min_samples_leaf=3, min_samples_split=9, score=0.5441518305146231, total=   0.1s\n",
      "[CV] max_depth=7, min_samples_leaf=3, min_samples_split=9 ............\n",
      "[CV]  max_depth=7, min_samples_leaf=3, min_samples_split=9, score=0.6413838664181909, total=   0.1s\n",
      "[CV] max_depth=7, min_samples_leaf=3, min_samples_split=9 ............\n",
      "[CV]  max_depth=7, min_samples_leaf=3, min_samples_split=9, score=0.40158116836366275, total=   0.1s\n",
      "[CV] max_depth=7, min_samples_leaf=3, min_samples_split=27 ...........\n",
      "[CV]  max_depth=7, min_samples_leaf=3, min_samples_split=27, score=0.5528331673980975, total=   0.1s\n",
      "[CV] max_depth=7, min_samples_leaf=3, min_samples_split=27 ...........\n",
      "[CV]  max_depth=7, min_samples_leaf=3, min_samples_split=27, score=0.6544517442725508, total=   0.1s\n",
      "[CV] max_depth=7, min_samples_leaf=3, min_samples_split=27 ...........\n",
      "[CV]  max_depth=7, min_samples_leaf=3, min_samples_split=27, score=0.4067311205295877, total=   0.1s\n",
      "[CV] max_depth=7, min_samples_leaf=3, min_samples_split=81 ...........\n",
      "[CV]  max_depth=7, min_samples_leaf=3, min_samples_split=81, score=0.553077888905755, total=   0.1s\n",
      "[CV] max_depth=7, min_samples_leaf=3, min_samples_split=81 ...........\n",
      "[CV]  max_depth=7, min_samples_leaf=3, min_samples_split=81, score=0.6733568126885124, total=   0.1s\n",
      "[CV] max_depth=7, min_samples_leaf=3, min_samples_split=81 ...........\n",
      "[CV]  max_depth=7, min_samples_leaf=3, min_samples_split=81, score=0.4118119425429162, total=   0.1s\n",
      "[CV] max_depth=7, min_samples_leaf=9, min_samples_split=3 ............\n",
      "[CV]  max_depth=7, min_samples_leaf=9, min_samples_split=3, score=0.5446200578070719, total=   0.1s\n",
      "[CV] max_depth=7, min_samples_leaf=9, min_samples_split=3 ............\n",
      "[CV]  max_depth=7, min_samples_leaf=9, min_samples_split=3, score=0.6666750995835207, total=   0.1s\n",
      "[CV] max_depth=7, min_samples_leaf=9, min_samples_split=3 ............\n",
      "[CV]  max_depth=7, min_samples_leaf=9, min_samples_split=3, score=0.40210287796615174, total=   0.1s\n",
      "[CV] max_depth=7, min_samples_leaf=9, min_samples_split=9 ............\n",
      "[CV]  max_depth=7, min_samples_leaf=9, min_samples_split=9, score=0.5446200578070719, total=   0.1s\n",
      "[CV] max_depth=7, min_samples_leaf=9, min_samples_split=9 ............\n",
      "[CV]  max_depth=7, min_samples_leaf=9, min_samples_split=9, score=0.6666750995835207, total=   0.1s\n",
      "[CV] max_depth=7, min_samples_leaf=9, min_samples_split=9 ............\n",
      "[CV]  max_depth=7, min_samples_leaf=9, min_samples_split=9, score=0.40210287796615174, total=   0.0s\n",
      "[CV] max_depth=7, min_samples_leaf=9, min_samples_split=27 ...........\n",
      "[CV]  max_depth=7, min_samples_leaf=9, min_samples_split=27, score=0.5457469283709704, total=   0.1s\n",
      "[CV] max_depth=7, min_samples_leaf=9, min_samples_split=27 ...........\n",
      "[CV]  max_depth=7, min_samples_leaf=9, min_samples_split=27, score=0.6715252817186192, total=   0.0s\n",
      "[CV] max_depth=7, min_samples_leaf=9, min_samples_split=27 ...........\n",
      "[CV]  max_depth=7, min_samples_leaf=9, min_samples_split=27, score=0.4044570886409318, total=   0.1s\n",
      "[CV] max_depth=7, min_samples_leaf=9, min_samples_split=81 ...........\n",
      "[CV]  max_depth=7, min_samples_leaf=9, min_samples_split=81, score=0.5507587122569733, total=   0.2s\n",
      "[CV] max_depth=7, min_samples_leaf=9, min_samples_split=81 ...........\n",
      "[CV]  max_depth=7, min_samples_leaf=9, min_samples_split=81, score=0.678816527683289, total=   0.0s\n",
      "[CV] max_depth=7, min_samples_leaf=9, min_samples_split=81 ...........\n",
      "[CV]  max_depth=7, min_samples_leaf=9, min_samples_split=81, score=0.4081284042098532, total=   0.1s\n",
      "[CV] max_depth=7, min_samples_leaf=27, min_samples_split=3 ...........\n",
      "[CV]  max_depth=7, min_samples_leaf=27, min_samples_split=3, score=0.5317166999077712, total=   0.0s\n",
      "[CV] max_depth=7, min_samples_leaf=27, min_samples_split=3 ...........\n",
      "[CV]  max_depth=7, min_samples_leaf=27, min_samples_split=3, score=0.628116464286715, total=   0.0s\n",
      "[CV] max_depth=7, min_samples_leaf=27, min_samples_split=3 ...........\n",
      "[CV]  max_depth=7, min_samples_leaf=27, min_samples_split=3, score=0.405216352994616, total=   0.0s\n",
      "[CV] max_depth=7, min_samples_leaf=27, min_samples_split=9 ...........\n",
      "[CV]  max_depth=7, min_samples_leaf=27, min_samples_split=9, score=0.5317166999077712, total=   0.0s\n",
      "[CV] max_depth=7, min_samples_leaf=27, min_samples_split=9 ...........\n",
      "[CV]  max_depth=7, min_samples_leaf=27, min_samples_split=9, score=0.628116464286715, total=   0.1s\n",
      "[CV] max_depth=7, min_samples_leaf=27, min_samples_split=9 ...........\n",
      "[CV]  max_depth=7, min_samples_leaf=27, min_samples_split=9, score=0.405216352994616, total=   0.0s\n",
      "[CV] max_depth=7, min_samples_leaf=27, min_samples_split=27 ..........\n",
      "[CV]  max_depth=7, min_samples_leaf=27, min_samples_split=27, score=0.5317166999077712, total=   0.0s\n",
      "[CV] max_depth=7, min_samples_leaf=27, min_samples_split=27 ..........\n",
      "[CV]  max_depth=7, min_samples_leaf=27, min_samples_split=27, score=0.628116464286715, total=   0.0s\n",
      "[CV] max_depth=7, min_samples_leaf=27, min_samples_split=27 ..........\n",
      "[CV]  max_depth=7, min_samples_leaf=27, min_samples_split=27, score=0.405216352994616, total=   0.0s\n",
      "[CV] max_depth=7, min_samples_leaf=27, min_samples_split=81 ..........\n",
      "[CV]  max_depth=7, min_samples_leaf=27, min_samples_split=81, score=0.53114423844341, total=   0.0s\n",
      "[CV] max_depth=7, min_samples_leaf=27, min_samples_split=81 ..........\n",
      "[CV]  max_depth=7, min_samples_leaf=27, min_samples_split=81, score=0.6273855002886382, total=   0.0s\n",
      "[CV] max_depth=7, min_samples_leaf=27, min_samples_split=81 ..........\n",
      "[CV]  max_depth=7, min_samples_leaf=27, min_samples_split=81, score=0.4047260076552841, total=   0.0s\n"
     ]
    },
    {
     "name": "stderr",
     "output_type": "stream",
     "text": [
      "[Parallel(n_jobs=1)]: Done 192 out of 192 | elapsed:   24.7s finished\n"
     ]
    },
    {
     "data": {
      "text/plain": [
       "GridSearchCV(cv=None, error_score='raise',\n",
       "       estimator=RandomForestRegressor(bootstrap=True, criterion='mse', max_depth=None,\n",
       "           max_features='auto', max_leaf_nodes=None,\n",
       "           min_impurity_decrease=0.0, min_impurity_split=None,\n",
       "           min_samples_leaf=1, min_samples_split=2,\n",
       "           min_weight_fraction_leaf=0.0, n_estimators=10, n_jobs=1,\n",
       "           oob_score=False, random_state=1, verbose=0, warm_start=True),\n",
       "       fit_params=None, iid=True, n_jobs=1,\n",
       "       param_grid={'max_depth': array([1, 3, 5, 7]), 'min_samples_leaf': [1, 3, 9, 27], 'min_samples_split': [3, 9, 27, 81]},\n",
       "       pre_dispatch='2*n_jobs', refit=True, return_train_score='warn',\n",
       "       scoring=make_scorer(r2_score), verbose=3)"
      ]
     },
     "execution_count": 175,
     "metadata": {},
     "output_type": "execute_result"
    }
   ],
   "source": [
    "gs = GridSearchCV(RandomForestRegressor(random_state=1, warm_start=True), param_grid_n, make_scorer(r2_score), verbose=3)\n",
    "gs.fit(x1, y1)"
   ]
  },
  {
   "cell_type": "code",
   "execution_count": 176,
   "metadata": {},
   "outputs": [
    {
     "data": {
      "text/plain": [
       "{'max_depth': 3, 'min_samples_leaf': 3, 'min_samples_split': 81}"
      ]
     },
     "execution_count": 176,
     "metadata": {},
     "output_type": "execute_result"
    }
   ],
   "source": [
    "gs.best_params_"
   ]
  },
  {
   "cell_type": "markdown",
   "metadata": {},
   "source": [
    "1. __(0.5 балла)__ Обучите случайный лес с выбранными гиперпараметрами на всей выборке x1, y1."
   ]
  },
  {
   "cell_type": "code",
   "execution_count": 177,
   "metadata": {},
   "outputs": [],
   "source": [
    "param_grid = {\"max_depth\":[3], \"min_samples_leaf\":[3], \"min_samples_split\":[81], 'max_features':[32], \"n_estimators\":[500]}"
   ]
  },
  {
   "cell_type": "code",
   "execution_count": 178,
   "metadata": {},
   "outputs": [
    {
     "data": {
      "text/plain": [
       "RandomForestRegressor(bootstrap=True, criterion='mse', max_depth=3,\n",
       "           max_features=32, max_leaf_nodes=None, min_impurity_decrease=0.0,\n",
       "           min_impurity_split=None, min_samples_leaf=3,\n",
       "           min_samples_split=81, min_weight_fraction_leaf=0.0,\n",
       "           n_estimators=500, n_jobs=1, oob_score=False, random_state=None,\n",
       "           verbose=0, warm_start=False)"
      ]
     },
     "execution_count": 178,
     "metadata": {},
     "output_type": "execute_result"
    }
   ],
   "source": [
    "gs = RandomForestRegressor(max_depth = 3, min_samples_leaf = 3, min_samples_split = 81, max_features = 32, n_estimators = 500).fit(x1,y1)\n",
    "gs"
   ]
  },
  {
   "cell_type": "code",
   "execution_count": null,
   "metadata": {},
   "outputs": [],
   "source": []
  },
  {
   "cell_type": "markdown",
   "metadata": {},
   "source": [
    "__Задание 2.__\n",
    "\n",
    "Теперь настроим градиентный бустинг, используя ту же выборку x1, y1.\n",
    "\n",
    " __(1.5 балла)__ \n",
    "* Запустите кросс-валидацию для GradentBoostingRegressor по n_estimators и learning_rate. \n",
    "* Постройте двумерный график или несколько одномерных (например, график качество-число деревьев при разных значениях длины шага). \n",
    "* Выберите значения для использования при дальнейшей настройке и для финального обучения модели.\n",
    "\n",
    "Примеры построения трехмерных графиков [здесь](https://matplotlib.org/mpl_toolkits/mplot3d/tutorial.html)."
   ]
  },
  {
   "cell_type": "code",
   "execution_count": 179,
   "metadata": {},
   "outputs": [],
   "source": [
    "# базовая шкала для числа деревьев и длины шага\n",
    "param_grid = {\"n_estimators\":2**np.arange(10), \"learning_rate\":0.1**np.arange(5)}"
   ]
  },
  {
   "cell_type": "code",
   "execution_count": 180,
   "metadata": {
    "scrolled": true
   },
   "outputs": [
    {
     "name": "stdout",
     "output_type": "stream",
     "text": [
      "Fitting 3 folds for each of 50 candidates, totalling 150 fits\n",
      "[CV] learning_rate=1.0, n_estimators=1 ...............................\n",
      "[CV]  learning_rate=1.0, n_estimators=1, score=0.5463061901836725, total=   0.0s\n",
      "[CV] learning_rate=1.0, n_estimators=1 ...............................\n",
      "[CV]  learning_rate=1.0, n_estimators=1, score=0.6689571515920467, total=   0.0s\n",
      "[CV] learning_rate=1.0, n_estimators=1 ...............................\n",
      "[CV]  learning_rate=1.0, n_estimators=1, score=0.4079705657205024, total=   0.0s\n",
      "[CV] learning_rate=1.0, n_estimators=2 ...............................\n"
     ]
    },
    {
     "name": "stderr",
     "output_type": "stream",
     "text": [
      "[Parallel(n_jobs=1)]: Done   1 out of   1 | elapsed:    0.0s remaining:    0.0s\n",
      "[Parallel(n_jobs=1)]: Done   2 out of   2 | elapsed:    0.0s remaining:    0.0s\n"
     ]
    },
    {
     "name": "stdout",
     "output_type": "stream",
     "text": [
      "[CV]  learning_rate=1.0, n_estimators=2, score=0.5450378851669317, total=   0.0s\n",
      "[CV] learning_rate=1.0, n_estimators=2 ...............................\n",
      "[CV]  learning_rate=1.0, n_estimators=2, score=0.6489795487030058, total=   0.0s\n",
      "[CV] learning_rate=1.0, n_estimators=2 ...............................\n",
      "[CV]  learning_rate=1.0, n_estimators=2, score=0.4013267225173155, total=   0.0s\n",
      "[CV] learning_rate=1.0, n_estimators=4 ...............................\n",
      "[CV]  learning_rate=1.0, n_estimators=4, score=0.5127439793227069, total=   0.0s\n",
      "[CV] learning_rate=1.0, n_estimators=4 ...............................\n",
      "[CV]  learning_rate=1.0, n_estimators=4, score=0.6156253748651939, total=   0.0s\n",
      "[CV] learning_rate=1.0, n_estimators=4 ...............................\n",
      "[CV]  learning_rate=1.0, n_estimators=4, score=0.41091240164678455, total=   0.0s\n",
      "[CV] learning_rate=1.0, n_estimators=8 ...............................\n",
      "[CV]  learning_rate=1.0, n_estimators=8, score=0.4883253036020835, total=   0.0s\n",
      "[CV] learning_rate=1.0, n_estimators=8 ...............................\n",
      "[CV]  learning_rate=1.0, n_estimators=8, score=0.5597350944302546, total=   0.0s\n",
      "[CV] learning_rate=1.0, n_estimators=8 ...............................\n",
      "[CV]  learning_rate=1.0, n_estimators=8, score=0.3455942629077924, total=   0.0s\n",
      "[CV] learning_rate=1.0, n_estimators=16 ..............................\n",
      "[CV]  learning_rate=1.0, n_estimators=16, score=0.39138572389235793, total=   0.1s\n",
      "[CV] learning_rate=1.0, n_estimators=16 ..............................\n",
      "[CV]  learning_rate=1.0, n_estimators=16, score=0.48098299991522564, total=   0.1s\n",
      "[CV] learning_rate=1.0, n_estimators=16 ..............................\n",
      "[CV]  learning_rate=1.0, n_estimators=16, score=0.30310701992340583, total=   0.1s\n",
      "[CV] learning_rate=1.0, n_estimators=32 ..............................\n",
      "[CV]  learning_rate=1.0, n_estimators=32, score=0.30164732763427626, total=   0.3s\n",
      "[CV] learning_rate=1.0, n_estimators=32 ..............................\n",
      "[CV]  learning_rate=1.0, n_estimators=32, score=0.3826560433636059, total=   0.4s\n",
      "[CV] learning_rate=1.0, n_estimators=32 ..............................\n",
      "[CV]  learning_rate=1.0, n_estimators=32, score=0.25707593269380613, total=   0.4s\n",
      "[CV] learning_rate=1.0, n_estimators=64 ..............................\n",
      "[CV]  learning_rate=1.0, n_estimators=64, score=0.1932384345085535, total=   0.7s\n",
      "[CV] learning_rate=1.0, n_estimators=64 ..............................\n",
      "[CV]  learning_rate=1.0, n_estimators=64, score=0.2887793564374528, total=   0.8s\n",
      "[CV] learning_rate=1.0, n_estimators=64 ..............................\n",
      "[CV]  learning_rate=1.0, n_estimators=64, score=0.2257098638122721, total=   0.7s\n",
      "[CV] learning_rate=1.0, n_estimators=128 .............................\n",
      "[CV]  learning_rate=1.0, n_estimators=128, score=0.08625017279320302, total=   1.5s\n",
      "[CV] learning_rate=1.0, n_estimators=128 .............................\n",
      "[CV]  learning_rate=1.0, n_estimators=128, score=0.20776014681209154, total=   1.9s\n",
      "[CV] learning_rate=1.0, n_estimators=128 .............................\n",
      "[CV]  learning_rate=1.0, n_estimators=128, score=0.18564169977450518, total=   1.6s\n",
      "[CV] learning_rate=1.0, n_estimators=256 .............................\n",
      "[CV]  learning_rate=1.0, n_estimators=256, score=0.026385408780272623, total=   4.0s\n",
      "[CV] learning_rate=1.0, n_estimators=256 .............................\n",
      "[CV]  learning_rate=1.0, n_estimators=256, score=0.12230067105166142, total=   3.2s\n",
      "[CV] learning_rate=1.0, n_estimators=256 .............................\n",
      "[CV]  learning_rate=1.0, n_estimators=256, score=0.13680575332120426, total=   4.0s\n",
      "[CV] learning_rate=1.0, n_estimators=512 .............................\n",
      "[CV]  learning_rate=1.0, n_estimators=512, score=-0.017546482700673494, total=   6.3s\n",
      "[CV] learning_rate=1.0, n_estimators=512 .............................\n",
      "[CV]  learning_rate=1.0, n_estimators=512, score=0.0550633453627255, total=   6.6s\n",
      "[CV] learning_rate=1.0, n_estimators=512 .............................\n",
      "[CV]  learning_rate=1.0, n_estimators=512, score=0.11833358562106322, total=   5.9s\n",
      "[CV] learning_rate=0.1, n_estimators=1 ...............................\n",
      "[CV]  learning_rate=0.1, n_estimators=1, score=0.10058051276151392, total=   0.0s\n",
      "[CV] learning_rate=0.1, n_estimators=1 ...............................\n",
      "[CV]  learning_rate=0.1, n_estimators=1, score=0.12298001410106663, total=   0.0s\n",
      "[CV] learning_rate=0.1, n_estimators=1 ...............................\n",
      "[CV]  learning_rate=0.1, n_estimators=1, score=0.08056619643445084, total=   0.0s\n",
      "[CV] learning_rate=0.1, n_estimators=2 ...............................\n",
      "[CV]  learning_rate=0.1, n_estimators=2, score=0.1820835418346266, total=   0.0s\n",
      "[CV] learning_rate=0.1, n_estimators=2 ...............................\n",
      "[CV]  learning_rate=0.1, n_estimators=2, score=0.22783254434910682, total=   0.0s\n",
      "[CV] learning_rate=0.1, n_estimators=2 ...............................\n",
      "[CV]  learning_rate=0.1, n_estimators=2, score=0.14812532589789285, total=   0.0s\n",
      "[CV] learning_rate=0.1, n_estimators=4 ...............................\n",
      "[CV]  learning_rate=0.1, n_estimators=4, score=0.3026027079501665, total=   0.0s\n",
      "[CV] learning_rate=0.1, n_estimators=4 ...............................\n",
      "[CV]  learning_rate=0.1, n_estimators=4, score=0.38421247131122027, total=   0.0s\n",
      "[CV] learning_rate=0.1, n_estimators=4 ...............................\n",
      "[CV]  learning_rate=0.1, n_estimators=4, score=0.24582773623996956, total=   0.0s\n",
      "[CV] learning_rate=0.1, n_estimators=8 ...............................\n",
      "[CV]  learning_rate=0.1, n_estimators=8, score=0.4376249586146851, total=   0.1s\n",
      "[CV] learning_rate=0.1, n_estimators=8 ...............................\n",
      "[CV]  learning_rate=0.1, n_estimators=8, score=0.5546931204512375, total=   0.1s\n",
      "[CV] learning_rate=0.1, n_estimators=8 ...............................\n",
      "[CV]  learning_rate=0.1, n_estimators=8, score=0.3494044898036689, total=   0.0s\n",
      "[CV] learning_rate=0.1, n_estimators=16 ..............................\n",
      "[CV]  learning_rate=0.1, n_estimators=16, score=0.5222723746097345, total=   0.2s\n",
      "[CV] learning_rate=0.1, n_estimators=16 ..............................\n",
      "[CV]  learning_rate=0.1, n_estimators=16, score=0.6569583321626215, total=   0.2s\n",
      "[CV] learning_rate=0.1, n_estimators=16 ..............................\n",
      "[CV]  learning_rate=0.1, n_estimators=16, score=0.40574090673624197, total=   0.2s\n",
      "[CV] learning_rate=0.1, n_estimators=32 ..............................\n",
      "[CV]  learning_rate=0.1, n_estimators=32, score=0.5403993841812536, total=   0.4s\n",
      "[CV] learning_rate=0.1, n_estimators=32 ..............................\n",
      "[CV]  learning_rate=0.1, n_estimators=32, score=0.671637859896917, total=   0.4s\n",
      "[CV] learning_rate=0.1, n_estimators=32 ..............................\n",
      "[CV]  learning_rate=0.1, n_estimators=32, score=0.4132082629559134, total=   0.4s\n",
      "[CV] learning_rate=0.1, n_estimators=64 ..............................\n",
      "[CV]  learning_rate=0.1, n_estimators=64, score=0.5423236360441839, total=   0.7s\n",
      "[CV] learning_rate=0.1, n_estimators=64 ..............................\n",
      "[CV]  learning_rate=0.1, n_estimators=64, score=0.6581602957331507, total=   1.1s\n",
      "[CV] learning_rate=0.1, n_estimators=64 ..............................\n",
      "[CV]  learning_rate=0.1, n_estimators=64, score=0.41426354619260686, total=   0.8s\n",
      "[CV] learning_rate=0.1, n_estimators=128 .............................\n",
      "[CV]  learning_rate=0.1, n_estimators=128, score=0.5261297389366977, total=   1.9s\n",
      "[CV] learning_rate=0.1, n_estimators=128 .............................\n",
      "[CV]  learning_rate=0.1, n_estimators=128, score=0.6266247177861269, total=   1.7s\n",
      "[CV] learning_rate=0.1, n_estimators=128 .............................\n",
      "[CV]  learning_rate=0.1, n_estimators=128, score=0.4073542373289639, total=   1.7s\n",
      "[CV] learning_rate=0.1, n_estimators=256 .............................\n",
      "[CV]  learning_rate=0.1, n_estimators=256, score=0.5061249592215035, total=   3.9s\n",
      "[CV] learning_rate=0.1, n_estimators=256 .............................\n",
      "[CV]  learning_rate=0.1, n_estimators=256, score=0.5683501795725787, total=   3.1s\n",
      "[CV] learning_rate=0.1, n_estimators=256 .............................\n",
      "[CV]  learning_rate=0.1, n_estimators=256, score=0.39042696989703085, total=   3.4s\n",
      "[CV] learning_rate=0.1, n_estimators=512 .............................\n"
     ]
    },
    {
     "name": "stdout",
     "output_type": "stream",
     "text": [
      "[CV]  learning_rate=0.1, n_estimators=512, score=0.46840630498940194, total=   6.7s\n",
      "[CV] learning_rate=0.1, n_estimators=512 .............................\n",
      "[CV]  learning_rate=0.1, n_estimators=512, score=0.48997037257236686, total=   6.3s\n",
      "[CV] learning_rate=0.1, n_estimators=512 .............................\n",
      "[CV]  learning_rate=0.1, n_estimators=512, score=0.3628208906831535, total=   8.4s\n",
      "[CV] learning_rate=0.010000000000000002, n_estimators=1 ..............\n",
      "[CV]  learning_rate=0.010000000000000002, n_estimators=1, score=0.01039939639841514, total=   0.0s\n",
      "[CV] learning_rate=0.010000000000000002, n_estimators=1 ..............\n",
      "[CV]  learning_rate=0.010000000000000002, n_estimators=1, score=0.006410355495286124, total=   0.0s\n",
      "[CV] learning_rate=0.010000000000000002, n_estimators=1 ..............\n",
      "[CV]  learning_rate=0.010000000000000002, n_estimators=1, score=0.005269579741045249, total=   0.0s\n",
      "[CV] learning_rate=0.010000000000000002, n_estimators=2 ..............\n",
      "[CV]  learning_rate=0.010000000000000002, n_estimators=2, score=0.020725235281082166, total=   0.0s\n",
      "[CV] learning_rate=0.010000000000000002, n_estimators=2 ..............\n",
      "[CV]  learning_rate=0.010000000000000002, n_estimators=2, score=0.019784568251146717, total=   0.0s\n",
      "[CV] learning_rate=0.010000000000000002, n_estimators=2 ..............\n",
      "[CV]  learning_rate=0.010000000000000002, n_estimators=2, score=0.013930957577226621, total=   0.0s\n",
      "[CV] learning_rate=0.010000000000000002, n_estimators=4 ..............\n",
      "[CV]  learning_rate=0.010000000000000002, n_estimators=4, score=0.040772089380477494, total=   0.0s\n",
      "[CV] learning_rate=0.010000000000000002, n_estimators=4 ..............\n",
      "[CV]  learning_rate=0.010000000000000002, n_estimators=4, score=0.046081175663233886, total=   0.0s\n",
      "[CV] learning_rate=0.010000000000000002, n_estimators=4 ..............\n",
      "[CV]  learning_rate=0.010000000000000002, n_estimators=4, score=0.030720823779387008, total=   0.0s\n",
      "[CV] learning_rate=0.010000000000000002, n_estimators=8 ..............\n",
      "[CV]  learning_rate=0.010000000000000002, n_estimators=8, score=0.07846170754431148, total=   0.1s\n",
      "[CV] learning_rate=0.010000000000000002, n_estimators=8 ..............\n",
      "[CV]  learning_rate=0.010000000000000002, n_estimators=8, score=0.09542047009874433, total=   0.1s\n",
      "[CV] learning_rate=0.010000000000000002, n_estimators=8 ..............\n",
      "[CV]  learning_rate=0.010000000000000002, n_estimators=8, score=0.062267943840597084, total=   0.1s\n",
      "[CV] learning_rate=0.010000000000000002, n_estimators=16 .............\n",
      "[CV]  learning_rate=0.010000000000000002, n_estimators=16, score=0.14545497917933436, total=   0.2s\n",
      "[CV] learning_rate=0.010000000000000002, n_estimators=16 .............\n",
      "[CV]  learning_rate=0.010000000000000002, n_estimators=16, score=0.1828775002651416, total=   0.2s\n",
      "[CV] learning_rate=0.010000000000000002, n_estimators=16 .............\n",
      "[CV]  learning_rate=0.010000000000000002, n_estimators=16, score=0.11797842403436853, total=   0.2s\n",
      "[CV] learning_rate=0.010000000000000002, n_estimators=32 .............\n",
      "[CV]  learning_rate=0.010000000000000002, n_estimators=32, score=0.25175048171513015, total=   0.5s\n",
      "[CV] learning_rate=0.010000000000000002, n_estimators=32 .............\n",
      "[CV]  learning_rate=0.010000000000000002, n_estimators=32, score=0.320286713056846, total=   0.4s\n",
      "[CV] learning_rate=0.010000000000000002, n_estimators=32 .............\n",
      "[CV]  learning_rate=0.010000000000000002, n_estimators=32, score=0.20492054098733925, total=   0.5s\n",
      "[CV] learning_rate=0.010000000000000002, n_estimators=64 .............\n",
      "[CV]  learning_rate=0.010000000000000002, n_estimators=64, score=0.3866686429784185, total=   1.3s\n",
      "[CV] learning_rate=0.010000000000000002, n_estimators=64 .............\n",
      "[CV]  learning_rate=0.010000000000000002, n_estimators=64, score=0.4934577193847064, total=   1.0s\n",
      "[CV] learning_rate=0.010000000000000002, n_estimators=64 .............\n",
      "[CV]  learning_rate=0.010000000000000002, n_estimators=64, score=0.31166557854591603, total=   1.2s\n",
      "[CV] learning_rate=0.010000000000000002, n_estimators=128 ............\n",
      "[CV]  learning_rate=0.010000000000000002, n_estimators=128, score=0.49773847477662003, total=   2.6s\n",
      "[CV] learning_rate=0.010000000000000002, n_estimators=128 ............\n",
      "[CV]  learning_rate=0.010000000000000002, n_estimators=128, score=0.631606782635431, total=   2.4s\n",
      "[CV] learning_rate=0.010000000000000002, n_estimators=128 ............\n",
      "[CV]  learning_rate=0.010000000000000002, n_estimators=128, score=0.3911198043331151, total=   2.4s\n",
      "[CV] learning_rate=0.010000000000000002, n_estimators=256 ............\n",
      "[CV]  learning_rate=0.010000000000000002, n_estimators=256, score=0.5401892592294881, total=   4.5s\n",
      "[CV] learning_rate=0.010000000000000002, n_estimators=256 ............\n",
      "[CV]  learning_rate=0.010000000000000002, n_estimators=256, score=0.6736784770097757, total=   4.0s\n",
      "[CV] learning_rate=0.010000000000000002, n_estimators=256 ............\n",
      "[CV]  learning_rate=0.010000000000000002, n_estimators=256, score=0.41259894359746896, total=   5.0s\n",
      "[CV] learning_rate=0.010000000000000002, n_estimators=512 ............\n",
      "[CV]  learning_rate=0.010000000000000002, n_estimators=512, score=0.5454129550192979, total=   7.8s\n",
      "[CV] learning_rate=0.010000000000000002, n_estimators=512 ............\n",
      "[CV]  learning_rate=0.010000000000000002, n_estimators=512, score=0.6711389773275018, total=   7.3s\n",
      "[CV] learning_rate=0.010000000000000002, n_estimators=512 ............\n",
      "[CV]  learning_rate=0.010000000000000002, n_estimators=512, score=0.4129348501214498, total=   9.3s\n",
      "[CV] learning_rate=0.0010000000000000002, n_estimators=1 .............\n",
      "[CV]  learning_rate=0.0010000000000000002, n_estimators=1, score=0.0009251992758960714, total=   0.0s\n",
      "[CV] learning_rate=0.0010000000000000002, n_estimators=1 .............\n",
      "[CV]  learning_rate=0.0010000000000000002, n_estimators=1, score=-0.005866329813858373, total=   0.0s\n",
      "[CV] learning_rate=0.0010000000000000002, n_estimators=1 .............\n",
      "[CV]  learning_rate=0.0010000000000000002, n_estimators=1, score=-0.0026856437259430432, total=   0.0s\n",
      "[CV] learning_rate=0.0010000000000000002, n_estimators=2 .............\n",
      "[CV]  learning_rate=0.0010000000000000002, n_estimators=2, score=0.0019808816584796496, total=   0.0s\n",
      "[CV] learning_rate=0.0010000000000000002, n_estimators=2 .............\n",
      "[CV]  learning_rate=0.0010000000000000002, n_estimators=2, score=-0.004479996454093804, total=   0.0s\n",
      "[CV] learning_rate=0.0010000000000000002, n_estimators=2 .............\n",
      "[CV]  learning_rate=0.0010000000000000002, n_estimators=2, score=-0.001798796283595916, total=   0.0s\n",
      "[CV] learning_rate=0.0010000000000000002, n_estimators=4 .............\n",
      "[CV]  learning_rate=0.0010000000000000002, n_estimators=4, score=0.0040860414806872525, total=   0.0s\n",
      "[CV] learning_rate=0.0010000000000000002, n_estimators=4 .............\n",
      "[CV]  learning_rate=0.0010000000000000002, n_estimators=4, score=-0.001715706720658794, total=   0.0s\n",
      "[CV] learning_rate=0.0010000000000000002, n_estimators=4 .............\n",
      "[CV]  learning_rate=0.0010000000000000002, n_estimators=4, score=-3.061391843739436e-05, total=   0.0s\n",
      "[CV] learning_rate=0.0010000000000000002, n_estimators=8 .............\n",
      "[CV]  learning_rate=0.0010000000000000002, n_estimators=8, score=0.008271503281500281, total=   0.1s\n",
      "[CV] learning_rate=0.0010000000000000002, n_estimators=8 .............\n",
      "[CV]  learning_rate=0.0010000000000000002, n_estimators=8, score=0.003743731704689446, total=   0.1s\n",
      "[CV] learning_rate=0.0010000000000000002, n_estimators=8 .............\n",
      "[CV]  learning_rate=0.0010000000000000002, n_estimators=8, score=0.003483805235165116, total=   0.0s\n",
      "[CV] learning_rate=0.0010000000000000002, n_estimators=16 ............\n",
      "[CV]  learning_rate=0.0010000000000000002, n_estimators=16, score=0.016544511147947638, total=   0.2s\n",
      "[CV] learning_rate=0.0010000000000000002, n_estimators=16 ............\n",
      "[CV]  learning_rate=0.0010000000000000002, n_estimators=16, score=0.014531636446725615, total=   0.2s\n",
      "[CV] learning_rate=0.0010000000000000002, n_estimators=16 ............\n",
      "[CV]  learning_rate=0.0010000000000000002, n_estimators=16, score=0.01042569094935375, total=   0.2s\n",
      "[CV] learning_rate=0.0010000000000000002, n_estimators=32 ............\n",
      "[CV]  learning_rate=0.0010000000000000002, n_estimators=32, score=0.03270328458021832, total=   0.4s\n",
      "[CV] learning_rate=0.0010000000000000002, n_estimators=32 ............\n"
     ]
    },
    {
     "name": "stdout",
     "output_type": "stream",
     "text": [
      "[CV]  learning_rate=0.0010000000000000002, n_estimators=32, score=0.035661923940990214, total=   0.5s\n",
      "[CV] learning_rate=0.0010000000000000002, n_estimators=32 ............\n",
      "[CV]  learning_rate=0.0010000000000000002, n_estimators=32, score=0.023968190199810335, total=   0.5s\n",
      "[CV] learning_rate=0.0010000000000000002, n_estimators=64 ............\n",
      "[CV]  learning_rate=0.0010000000000000002, n_estimators=64, score=0.06344877235259971, total=   1.1s\n",
      "[CV] learning_rate=0.0010000000000000002, n_estimators=64 ............\n",
      "[CV]  learning_rate=0.0010000000000000002, n_estimators=64, score=0.075997286244474, total=   1.2s\n",
      "[CV] learning_rate=0.0010000000000000002, n_estimators=64 ............\n",
      "[CV]  learning_rate=0.0010000000000000002, n_estimators=64, score=0.04973885228334396, total=   1.4s\n",
      "[CV] learning_rate=0.0010000000000000002, n_estimators=128 ...........\n",
      "[CV]  learning_rate=0.0010000000000000002, n_estimators=128, score=0.11944031067148864, total=   3.5s\n",
      "[CV] learning_rate=0.0010000000000000002, n_estimators=128 ...........\n",
      "[CV]  learning_rate=0.0010000000000000002, n_estimators=128, score=0.1492214701012612, total=   2.5s\n",
      "[CV] learning_rate=0.0010000000000000002, n_estimators=128 ...........\n",
      "[CV]  learning_rate=0.0010000000000000002, n_estimators=128, score=0.09640855111227042, total=   2.0s\n",
      "[CV] learning_rate=0.0010000000000000002, n_estimators=256 ...........\n",
      "[CV]  learning_rate=0.0010000000000000002, n_estimators=256, score=0.21239874160081784, total=   4.9s\n",
      "[CV] learning_rate=0.0010000000000000002, n_estimators=256 ...........\n",
      "[CV]  learning_rate=0.0010000000000000002, n_estimators=256, score=0.26988145321551593, total=   4.1s\n",
      "[CV] learning_rate=0.0010000000000000002, n_estimators=256 ...........\n",
      "[CV]  learning_rate=0.0010000000000000002, n_estimators=256, score=0.1730055182933794, total=   5.0s\n",
      "[CV] learning_rate=0.0010000000000000002, n_estimators=512 ...........\n",
      "[CV]  learning_rate=0.0010000000000000002, n_estimators=512, score=0.3416110345982676, total=   8.5s\n",
      "[CV] learning_rate=0.0010000000000000002, n_estimators=512 ...........\n",
      "[CV]  learning_rate=0.0010000000000000002, n_estimators=512, score=0.4363670407453677, total=   9.0s\n",
      "[CV] learning_rate=0.0010000000000000002, n_estimators=512 ...........\n",
      "[CV]  learning_rate=0.0010000000000000002, n_estimators=512, score=0.27669660646915495, total=  13.1s\n",
      "[CV] learning_rate=0.00010000000000000002, n_estimators=1 ............\n",
      "[CV]  learning_rate=0.00010000000000000002, n_estimators=1, score=-2.6781291217137237e-05, total=   0.0s\n",
      "[CV] learning_rate=0.00010000000000000002, n_estimators=1 ............\n",
      "[CV]  learning_rate=0.00010000000000000002, n_estimators=1, score=-0.007100195539257559, total=   0.0s\n",
      "[CV] learning_rate=0.00010000000000000002, n_estimators=1 ............\n",
      "[CV]  learning_rate=0.00010000000000000002, n_estimators=1, score=-0.0034854216906186064, total=   0.0s\n",
      "[CV] learning_rate=0.00010000000000000002, n_estimators=2 ............\n",
      "[CV]  learning_rate=0.00010000000000000002, n_estimators=2, score=7.902138832183159e-05, total=   0.0s\n",
      "[CV] learning_rate=0.00010000000000000002, n_estimators=2 ............\n",
      "[CV]  learning_rate=0.00010000000000000002, n_estimators=2, score=-0.006963057419435037, total=   0.0s\n",
      "[CV] learning_rate=0.00010000000000000002, n_estimators=2 ............\n",
      "[CV]  learning_rate=0.00010000000000000002, n_estimators=2, score=-0.003396528152273426, total=   0.0s\n",
      "[CV] learning_rate=0.00010000000000000002, n_estimators=4 ............\n",
      "[CV]  learning_rate=0.00010000000000000002, n_estimators=4, score=0.00029056735141064216, total=   0.0s\n",
      "[CV] learning_rate=0.00010000000000000002, n_estimators=4 ............\n",
      "[CV]  learning_rate=0.00010000000000000002, n_estimators=4, score=-0.006687055086723959, total=   0.0s\n",
      "[CV] learning_rate=0.00010000000000000002, n_estimators=4 ............\n",
      "[CV]  learning_rate=0.00010000000000000002, n_estimators=4, score=-0.0032187963872221115, total=   0.0s\n",
      "[CV] learning_rate=0.00010000000000000002, n_estimators=8 ............\n",
      "[CV]  learning_rate=0.00010000000000000002, n_estimators=8, score=0.0007134163943439686, total=   0.1s\n",
      "[CV] learning_rate=0.00010000000000000002, n_estimators=8 ............\n",
      "[CV]  learning_rate=0.00010000000000000002, n_estimators=8, score=-0.0061317684902364444, total=   0.1s\n",
      "[CV] learning_rate=0.00010000000000000002, n_estimators=8 ............\n",
      "[CV]  learning_rate=0.00010000000000000002, n_estimators=8, score=-0.00286355399860172, total=   0.1s\n",
      "[CV] learning_rate=0.00010000000000000002, n_estimators=16 ...........\n",
      "[CV]  learning_rate=0.00010000000000000002, n_estimators=16, score=0.0015581042464187789, total=   0.2s\n",
      "[CV] learning_rate=0.00010000000000000002, n_estimators=16 ...........\n",
      "[CV]  learning_rate=0.00010000000000000002, n_estimators=16, score=-0.005031564918716036, total=   0.2s\n",
      "[CV] learning_rate=0.00010000000000000002, n_estimators=16 ...........\n",
      "[CV]  learning_rate=0.00010000000000000002, n_estimators=16, score=-0.0021539529473437735, total=   0.2s\n",
      "[CV] learning_rate=0.00010000000000000002, n_estimators=32 ...........\n",
      "[CV]  learning_rate=0.00010000000000000002, n_estimators=32, score=0.0032434823810857383, total=   0.4s\n",
      "[CV] learning_rate=0.00010000000000000002, n_estimators=32 ...........\n",
      "[CV]  learning_rate=0.00010000000000000002, n_estimators=32, score=-0.002823854025954864, total=   0.4s\n",
      "[CV] learning_rate=0.00010000000000000002, n_estimators=32 ...........\n",
      "[CV]  learning_rate=0.00010000000000000002, n_estimators=32, score=-0.0007382790392882477, total=   0.4s\n",
      "[CV] learning_rate=0.00010000000000000002, n_estimators=64 ...........\n",
      "[CV]  learning_rate=0.00010000000000000002, n_estimators=64, score=0.006598377009082945, total=   0.9s\n",
      "[CV] learning_rate=0.00010000000000000002, n_estimators=64 ...........\n",
      "[CV]  learning_rate=0.00010000000000000002, n_estimators=64, score=0.0015648934232599387, total=   1.0s\n",
      "[CV] learning_rate=0.00010000000000000002, n_estimators=64 ...........\n",
      "[CV]  learning_rate=0.00010000000000000002, n_estimators=64, score=0.0020790095125340358, total=   1.0s\n",
      "[CV] learning_rate=0.00010000000000000002, n_estimators=128 ..........\n",
      "[CV]  learning_rate=0.00010000000000000002, n_estimators=128, score=0.013245017997771003, total=   2.0s\n",
      "[CV] learning_rate=0.00010000000000000002, n_estimators=128 ..........\n",
      "[CV]  learning_rate=0.00010000000000000002, n_estimators=128, score=0.01026150843069673, total=   1.9s\n",
      "[CV] learning_rate=0.00010000000000000002, n_estimators=128 ..........\n",
      "[CV]  learning_rate=0.00010000000000000002, n_estimators=128, score=0.007657775086264751, total=   1.9s\n",
      "[CV] learning_rate=0.00010000000000000002, n_estimators=256 ..........\n",
      "[CV]  learning_rate=0.00010000000000000002, n_estimators=256, score=0.026289360203398227, total=   4.0s\n",
      "[CV] learning_rate=0.00010000000000000002, n_estimators=256 ..........\n",
      "[CV]  learning_rate=0.00010000000000000002, n_estimators=256, score=0.02733592151806774, total=   3.9s\n",
      "[CV] learning_rate=0.00010000000000000002, n_estimators=256 ..........\n",
      "[CV]  learning_rate=0.00010000000000000002, n_estimators=256, score=0.018595423440177394, total=   4.0s\n",
      "[CV] learning_rate=0.00010000000000000002, n_estimators=512 ..........\n",
      "[CV]  learning_rate=0.00010000000000000002, n_estimators=512, score=0.051360339912778885, total=   8.1s\n",
      "[CV] learning_rate=0.00010000000000000002, n_estimators=512 ..........\n",
      "[CV]  learning_rate=0.00010000000000000002, n_estimators=512, score=0.06021470985348154, total=   7.9s\n",
      "[CV] learning_rate=0.00010000000000000002, n_estimators=512 ..........\n",
      "[CV]  learning_rate=0.00010000000000000002, n_estimators=512, score=0.039617454174909916, total=   8.6s\n"
     ]
    },
    {
     "name": "stderr",
     "output_type": "stream",
     "text": [
      "[Parallel(n_jobs=1)]: Done 150 out of 150 | elapsed:  4.2min finished\n"
     ]
    },
    {
     "data": {
      "text/plain": [
       "GridSearchCV(cv=None, error_score='raise',\n",
       "       estimator=GradientBoostingRegressor(alpha=0.9, criterion='friedman_mse', init=None,\n",
       "             learning_rate=0.1, loss='ls', max_depth=3, max_features=None,\n",
       "             max_leaf_nodes=None, min_impurity_decrease=0.0,\n",
       "             min_impurity_split=None, min_samples_leaf=1,\n",
       "             min_samples_split=2, min_weight_fraction_leaf=0.0,\n",
       "             n_estimators=100, presort='auto', random_state=1,\n",
       "             subsample=1.0, verbose=0, warm_start=True),\n",
       "       fit_params=None, iid=True, n_jobs=1,\n",
       "       param_grid={'n_estimators': array([  1,   2,   4,   8,  16,  32,  64, 128, 256, 512], dtype=int32), 'learning_rate': array([1.e+00, 1.e-01, 1.e-02, 1.e-03, 1.e-04])},\n",
       "       pre_dispatch='2*n_jobs', refit=True, return_train_score='warn',\n",
       "       scoring=make_scorer(r2_score), verbose=3)"
      ]
     },
     "execution_count": 180,
     "metadata": {},
     "output_type": "execute_result"
    }
   ],
   "source": [
    "gs_1=GridSearchCV(GradientBoostingRegressor(random_state=1, warm_start=True), param_grid, make_scorer(r2_score), verbose=3)\n",
    "gs_1.fit(x1,y1)"
   ]
  },
  {
   "cell_type": "code",
   "execution_count": 107,
   "metadata": {},
   "outputs": [
    {
     "data": {
      "text/plain": [
       "array([1.e+00, 1.e-01, 1.e-02, 1.e-03, 1.e-04])"
      ]
     },
     "execution_count": 107,
     "metadata": {},
     "output_type": "execute_result"
    }
   ],
   "source": [
    "param_grid['learning_rate']"
   ]
  },
  {
   "cell_type": "code",
   "execution_count": 108,
   "metadata": {},
   "outputs": [
    {
     "data": {
      "text/plain": [
       "array([  1,   2,   4,   8,  16,  32,  64, 128, 256, 512], dtype=int32)"
      ]
     },
     "execution_count": 108,
     "metadata": {},
     "output_type": "execute_result"
    }
   ],
   "source": [
    "param_grid[\"n_estimators\"]"
   ]
  },
  {
   "cell_type": "code",
   "execution_count": 109,
   "metadata": {},
   "outputs": [
    {
     "data": {
      "image/png": "[encoded data removed]",
      "text/plain": [
       "<Figure size 432x288 with 1 Axes>"
      ]
     },
     "metadata": {
      "needs_background": "light"
     },
     "output_type": "display_data"
    }
   ],
   "source": [
    "from mpl_toolkits.mplot3d import Axes3D\n",
    "fig = plt.figure()\n",
    "ax = fig.gca(projection = \"3d\")\n",
    "surface = ax.plot(gs_1.cv_results_['mean_test_score'][0:5], param_grid[\"learning_rate\"][0:5], param_grid[\"n_estimators\"][0:5])"
   ]
  },
  {
   "cell_type": "code",
   "execution_count": 110,
   "metadata": {},
   "outputs": [
    {
     "data": {
      "text/plain": [
       "Text(0,0.5,'n_estimators')"
      ]
     },
     "execution_count": 110,
     "metadata": {},
     "output_type": "execute_result"
    },
    {
     "data": {
      "image/png": "[encoded data removed]",
      "text/plain": [
       "<Figure size 432x288 with 1 Axes>"
      ]
     },
     "metadata": {
      "needs_background": "light"
     },
     "output_type": "display_data"
    }
   ],
   "source": [
    "plt.plot((param_grid[\"learning_rate\"]), param_grid['n_estimators'][0:5])\n",
    "plt.xscale(\"log\")\n",
    "plt.xlabel(\"learning_rate\")\n",
    "plt.ylabel(\"n_estimators\")"
   ]
  },
  {
   "cell_type": "code",
   "execution_count": 111,
   "metadata": {},
   "outputs": [
    {
     "data": {
      "text/plain": [
       "Text(0,0.5,'R2')"
      ]
     },
     "execution_count": 111,
     "metadata": {},
     "output_type": "execute_result"
    },
    {
     "data": {
      "image/png": "[encoded data removed]",
      "text/plain": [
       "<Figure size 432x288 with 1 Axes>"
      ]
     },
     "metadata": {
      "needs_background": "light"
     },
     "output_type": "display_data"
    }
   ],
   "source": [
    "plt.plot((param_grid[\"learning_rate\"]), gs_1.cv_results_['mean_test_score'][0:5])\n",
    "plt.xscale(\"log\")\n",
    "plt.xlabel(\"learning_rate\")\n",
    "plt.ylabel(\"R2\")"
   ]
  },
  {
   "cell_type": "code",
   "execution_count": 95,
   "metadata": {},
   "outputs": [
    {
     "data": {
      "text/plain": [
       "Text(0,0.5,'R2')"
      ]
     },
     "execution_count": 95,
     "metadata": {},
     "output_type": "execute_result"
    },
    {
     "data": {
      "image/png": "[encoded data removed]",
      "text/plain": [
       "<Figure size 432x288 with 1 Axes>"
      ]
     },
     "metadata": {
      "needs_background": "light"
     },
     "output_type": "display_data"
    }
   ],
   "source": [
    "plt.plot((param_grid[\"n_estimators\"][0:5]), gs_1.cv_results_['mean_test_score'][0:5])\n",
    "plt.xlabel(\"n_estimators\")\n",
    "plt.ylabel(\"R2\")"
   ]
  },
  {
   "cell_type": "code",
   "execution_count": 112,
   "metadata": {},
   "outputs": [
    {
     "data": {
      "text/plain": [
       "{'learning_rate': 0.010000000000000002, 'n_estimators': 512}"
      ]
     },
     "execution_count": 112,
     "metadata": {},
     "output_type": "execute_result"
    }
   ],
   "source": [
    "gs_1.best_params_"
   ]
  },
  {
   "cell_type": "markdown",
   "metadata": {},
   "source": [
    "1.  __(1.25 балла)__ Постройте график зависимости качества от max_depth на кросс-валидации."
   ]
  },
  {
   "cell_type": "code",
   "execution_count": 114,
   "metadata": {},
   "outputs": [
    {
     "name": "stdout",
     "output_type": "stream",
     "text": [
      "Fitting 3 folds for each of 8 candidates, totalling 24 fits\n",
      "[CV] max_depth=1 .....................................................\n",
      "[CV] ............. max_depth=1, score=0.530438013040609, total=   0.2s\n",
      "[CV] max_depth=1 .....................................................\n"
     ]
    },
    {
     "name": "stderr",
     "output_type": "stream",
     "text": [
      "[Parallel(n_jobs=1)]: Done   1 out of   1 | elapsed:    0.2s remaining:    0.0s\n"
     ]
    },
    {
     "name": "stdout",
     "output_type": "stream",
     "text": [
      "[CV] ............ max_depth=1, score=0.6673871371623177, total=   0.1s\n",
      "[CV] max_depth=1 .....................................................\n"
     ]
    },
    {
     "name": "stderr",
     "output_type": "stream",
     "text": [
      "[Parallel(n_jobs=1)]: Done   2 out of   2 | elapsed:    0.4s remaining:    0.0s\n"
     ]
    },
    {
     "name": "stdout",
     "output_type": "stream",
     "text": [
      "[CV] ........... max_depth=1, score=0.39861290668874316, total=   0.1s\n",
      "[CV] max_depth=2 .....................................................\n",
      "[CV] ............ max_depth=2, score=0.5491088307904448, total=   0.6s\n",
      "[CV] max_depth=2 .....................................................\n",
      "[CV] ............. max_depth=2, score=0.672865477927042, total=   0.6s\n",
      "[CV] max_depth=2 .....................................................\n",
      "[CV] ........... max_depth=2, score=0.42048154051877407, total=   0.7s\n",
      "[CV] max_depth=3 .....................................................\n",
      "[CV] ............ max_depth=3, score=0.5325266598758439, total=   1.7s\n",
      "[CV] max_depth=3 .....................................................\n",
      "[CV] ............ max_depth=3, score=0.6412410143327838, total=   1.1s\n",
      "[CV] max_depth=3 .....................................................\n",
      "[CV] ............ max_depth=3, score=0.4109038006875362, total=   1.2s\n",
      "[CV] max_depth=4 .....................................................\n",
      "[CV] ........... max_depth=4, score=0.49040028941868274, total=   1.7s\n",
      "[CV] max_depth=4 .....................................................\n",
      "[CV] ............ max_depth=4, score=0.6048647121671231, total=   1.7s\n",
      "[CV] max_depth=4 .....................................................\n",
      "[CV] ............ max_depth=4, score=0.3863239089544266, total=   1.7s\n",
      "[CV] max_depth=5 .....................................................\n",
      "[CV] ............ max_depth=5, score=0.4978782513961285, total=   2.5s\n",
      "[CV] max_depth=5 .....................................................\n",
      "[CV] ............ max_depth=5, score=0.5585390592011857, total=   3.2s\n",
      "[CV] max_depth=5 .....................................................\n",
      "[CV] ............ max_depth=5, score=0.3788997862246444, total=   2.4s\n",
      "[CV] max_depth=6 .....................................................\n",
      "[CV] ............ max_depth=6, score=0.4175344794095277, total=   3.0s\n",
      "[CV] max_depth=6 .....................................................\n",
      "[CV] ............ max_depth=6, score=0.5270679147911834, total=   2.9s\n",
      "[CV] max_depth=6 .....................................................\n",
      "[CV] ........... max_depth=6, score=0.34431710988788355, total=   3.0s\n",
      "[CV] max_depth=7 .....................................................\n",
      "[CV] ........... max_depth=7, score=0.42423777941131946, total=   3.7s\n",
      "[CV] max_depth=7 .....................................................\n",
      "[CV] ........... max_depth=7, score=0.47517442651942043, total=   3.8s\n",
      "[CV] max_depth=7 .....................................................\n",
      "[CV] ........... max_depth=7, score=0.33054151859317593, total=   3.9s\n",
      "[CV] max_depth=8 .....................................................\n",
      "[CV] ............ max_depth=8, score=0.4408155134980082, total=   4.6s\n",
      "[CV] max_depth=8 .....................................................\n",
      "[CV] ............ max_depth=8, score=0.4775645223830499, total=   4.5s\n",
      "[CV] max_depth=8 .....................................................\n",
      "[CV] ............. max_depth=8, score=0.314690594507432, total=   4.8s\n"
     ]
    },
    {
     "name": "stderr",
     "output_type": "stream",
     "text": [
      "[Parallel(n_jobs=1)]: Done  24 out of  24 | elapsed:   56.5s finished\n"
     ]
    },
    {
     "data": {
      "text/plain": [
       "GridSearchCV(cv=None, error_score='raise',\n",
       "       estimator=GradientBoostingRegressor(alpha=0.9, criterion='friedman_mse', init=None,\n",
       "             learning_rate=0.1, loss='ls', max_depth=3, max_features=None,\n",
       "             max_leaf_nodes=None, min_impurity_decrease=0.0,\n",
       "             min_impurity_split=None, min_samples_leaf=1,\n",
       "             min_samples_split=2, min_weight_fraction_leaf=0.0,\n",
       "             n_estimators=100, presort='auto', random_state=1,\n",
       "             subsample=1.0, verbose=0, warm_start=True),\n",
       "       fit_params=None, iid=True, n_jobs=1,\n",
       "       param_grid={'max_depth': array([1, 2, 3, 4, 5, 6, 7, 8])},\n",
       "       pre_dispatch='2*n_jobs', refit=True, return_train_score='warn',\n",
       "       scoring=make_scorer(r2_score), verbose=3)"
      ]
     },
     "execution_count": 114,
     "metadata": {},
     "output_type": "execute_result"
    }
   ],
   "source": [
    "# базовая шкала для max_depth\n",
    "param_grid = {\"max_depth\":np.arange(1, 9)}\n",
    "gs_1=GridSearchCV(GradientBoostingRegressor(random_state=1, warm_start=True), param_grid, make_scorer(r2_score), verbose=3)\n",
    "gs_1.fit(x1,y1)"
   ]
  },
  {
   "cell_type": "code",
   "execution_count": 116,
   "metadata": {},
   "outputs": [
    {
     "data": {
      "text/plain": [
       "Text(0,0.5,'R2')"
      ]
     },
     "execution_count": 116,
     "metadata": {},
     "output_type": "execute_result"
    },
    {
     "data": {
      "image/png": "[encoded data removed]",
      "text/plain": [
       "<Figure size 432x288 with 1 Axes>"
      ]
     },
     "metadata": {
      "needs_background": "light"
     },
     "output_type": "display_data"
    }
   ],
   "source": [
    "plt.plot((param_grid[\"max_depth\"]), gs_1.cv_results_['mean_test_score'])\n",
    "plt.xscale(\"log\")\n",
    "plt.xlabel(\"max_depth\")\n",
    "plt.ylabel(\"R2\")"
   ]
  },
  {
   "cell_type": "code",
   "execution_count": null,
   "metadata": {},
   "outputs": [],
   "source": []
  },
  {
   "cell_type": "markdown",
   "metadata": {},
   "source": [
    "1.  __(1.25 балла)__ Выберите оптимальные значения для min_samples_split, min_samples_leaf, max_features с помощью кросс-валидации."
   ]
  },
  {
   "cell_type": "code",
   "execution_count": 118,
   "metadata": {},
   "outputs": [
    {
     "name": "stdout",
     "output_type": "stream",
     "text": [
      "Fitting 3 folds for each of 64 candidates, totalling 192 fits\n",
      "[CV] max_features=2, min_samples_leaf=1, min_samples_split=3 .........\n",
      "[CV]  max_features=2, min_samples_leaf=1, min_samples_split=3, score=0.4267563896235548, total=   0.0s\n",
      "[CV] max_features=2, min_samples_leaf=1, min_samples_split=3 .........\n",
      "[CV]  max_features=2, min_samples_leaf=1, min_samples_split=3, score=0.5613171174848319, total=   0.0s\n",
      "[CV] max_features=2, min_samples_leaf=1, min_samples_split=3 .........\n"
     ]
    },
    {
     "name": "stderr",
     "output_type": "stream",
     "text": [
      "[Parallel(n_jobs=1)]: Done   1 out of   1 | elapsed:    0.0s remaining:    0.0s\n",
      "[Parallel(n_jobs=1)]: Done   2 out of   2 | elapsed:    0.1s remaining:    0.0s\n"
     ]
    },
    {
     "name": "stdout",
     "output_type": "stream",
     "text": [
      "[CV]  max_features=2, min_samples_leaf=1, min_samples_split=3, score=0.3083118167903234, total=   0.0s\n",
      "[CV] max_features=2, min_samples_leaf=1, min_samples_split=9 .........\n",
      "[CV]  max_features=2, min_samples_leaf=1, min_samples_split=9, score=0.42744435901389977, total=   0.0s\n",
      "[CV] max_features=2, min_samples_leaf=1, min_samples_split=9 .........\n",
      "[CV]  max_features=2, min_samples_leaf=1, min_samples_split=9, score=0.5631435236707064, total=   0.0s\n",
      "[CV] max_features=2, min_samples_leaf=1, min_samples_split=9 .........\n",
      "[CV]  max_features=2, min_samples_leaf=1, min_samples_split=9, score=0.3080461794213455, total=   0.0s\n",
      "[CV] max_features=2, min_samples_leaf=1, min_samples_split=27 ........\n",
      "[CV]  max_features=2, min_samples_leaf=1, min_samples_split=27, score=0.4248504683570611, total=   0.0s\n",
      "[CV] max_features=2, min_samples_leaf=1, min_samples_split=27 ........\n",
      "[CV]  max_features=2, min_samples_leaf=1, min_samples_split=27, score=0.5605257941907162, total=   0.0s\n",
      "[CV] max_features=2, min_samples_leaf=1, min_samples_split=27 ........\n",
      "[CV]  max_features=2, min_samples_leaf=1, min_samples_split=27, score=0.3094777050205961, total=   0.0s\n",
      "[CV] max_features=2, min_samples_leaf=1, min_samples_split=81 ........\n",
      "[CV]  max_features=2, min_samples_leaf=1, min_samples_split=81, score=0.4080652354841515, total=   0.0s\n",
      "[CV] max_features=2, min_samples_leaf=1, min_samples_split=81 ........\n",
      "[CV]  max_features=2, min_samples_leaf=1, min_samples_split=81, score=0.5515411709245359, total=   0.0s\n",
      "[CV] max_features=2, min_samples_leaf=1, min_samples_split=81 ........\n",
      "[CV]  max_features=2, min_samples_leaf=1, min_samples_split=81, score=0.30616617721895667, total=   0.0s\n",
      "[CV] max_features=2, min_samples_leaf=3, min_samples_split=3 .........\n",
      "[CV]  max_features=2, min_samples_leaf=3, min_samples_split=3, score=0.43028554680202613, total=   0.0s\n",
      "[CV] max_features=2, min_samples_leaf=3, min_samples_split=3 .........\n",
      "[CV]  max_features=2, min_samples_leaf=3, min_samples_split=3, score=0.5532849356798604, total=   0.0s\n",
      "[CV] max_features=2, min_samples_leaf=3, min_samples_split=3 .........\n",
      "[CV]  max_features=2, min_samples_leaf=3, min_samples_split=3, score=0.3000058754220888, total=   0.0s\n",
      "[CV] max_features=2, min_samples_leaf=3, min_samples_split=9 .........\n",
      "[CV]  max_features=2, min_samples_leaf=3, min_samples_split=9, score=0.43043833696877065, total=   0.0s\n",
      "[CV] max_features=2, min_samples_leaf=3, min_samples_split=9 .........\n",
      "[CV]  max_features=2, min_samples_leaf=3, min_samples_split=9, score=0.5525775273768058, total=   0.0s\n",
      "[CV] max_features=2, min_samples_leaf=3, min_samples_split=9 .........\n",
      "[CV]  max_features=2, min_samples_leaf=3, min_samples_split=9, score=0.3000628780481316, total=   0.0s\n",
      "[CV] max_features=2, min_samples_leaf=3, min_samples_split=27 ........\n",
      "[CV]  max_features=2, min_samples_leaf=3, min_samples_split=27, score=0.42703509389611927, total=   0.0s\n",
      "[CV] max_features=2, min_samples_leaf=3, min_samples_split=27 ........\n",
      "[CV]  max_features=2, min_samples_leaf=3, min_samples_split=27, score=0.5499378441122875, total=   0.0s\n",
      "[CV] max_features=2, min_samples_leaf=3, min_samples_split=27 ........\n",
      "[CV]  max_features=2, min_samples_leaf=3, min_samples_split=27, score=0.2997733463773318, total=   0.0s\n",
      "[CV] max_features=2, min_samples_leaf=3, min_samples_split=81 ........\n",
      "[CV]  max_features=2, min_samples_leaf=3, min_samples_split=81, score=0.4078631785379706, total=   0.0s\n",
      "[CV] max_features=2, min_samples_leaf=3, min_samples_split=81 ........\n",
      "[CV]  max_features=2, min_samples_leaf=3, min_samples_split=81, score=0.5417368468170134, total=   0.0s\n",
      "[CV] max_features=2, min_samples_leaf=3, min_samples_split=81 ........\n",
      "[CV]  max_features=2, min_samples_leaf=3, min_samples_split=81, score=0.29662913959656645, total=   0.0s\n",
      "[CV] max_features=2, min_samples_leaf=9, min_samples_split=3 .........\n",
      "[CV]  max_features=2, min_samples_leaf=9, min_samples_split=3, score=0.4136488799445942, total=   0.0s\n",
      "[CV] max_features=2, min_samples_leaf=9, min_samples_split=3 .........\n",
      "[CV]  max_features=2, min_samples_leaf=9, min_samples_split=3, score=0.5357276522994645, total=   0.0s\n",
      "[CV] max_features=2, min_samples_leaf=9, min_samples_split=3 .........\n",
      "[CV]  max_features=2, min_samples_leaf=9, min_samples_split=3, score=0.29504298225894665, total=   0.0s\n",
      "[CV] max_features=2, min_samples_leaf=9, min_samples_split=9 .........\n",
      "[CV]  max_features=2, min_samples_leaf=9, min_samples_split=9, score=0.4136488799445942, total=   0.0s\n",
      "[CV] max_features=2, min_samples_leaf=9, min_samples_split=9 .........\n",
      "[CV]  max_features=2, min_samples_leaf=9, min_samples_split=9, score=0.5357276522994645, total=   0.0s\n",
      "[CV] max_features=2, min_samples_leaf=9, min_samples_split=9 .........\n",
      "[CV]  max_features=2, min_samples_leaf=9, min_samples_split=9, score=0.29504298225894665, total=   0.0s\n",
      "[CV] max_features=2, min_samples_leaf=9, min_samples_split=27 ........\n",
      "[CV]  max_features=2, min_samples_leaf=9, min_samples_split=27, score=0.41351112423255865, total=   0.0s\n",
      "[CV] max_features=2, min_samples_leaf=9, min_samples_split=27 ........\n",
      "[CV]  max_features=2, min_samples_leaf=9, min_samples_split=27, score=0.5338837396374307, total=   0.0s\n",
      "[CV] max_features=2, min_samples_leaf=9, min_samples_split=27 ........\n",
      "[CV]  max_features=2, min_samples_leaf=9, min_samples_split=27, score=0.2928479101980984, total=   0.0s\n",
      "[CV] max_features=2, min_samples_leaf=9, min_samples_split=81 ........\n",
      "[CV]  max_features=2, min_samples_leaf=9, min_samples_split=81, score=0.39612385343243084, total=   0.0s\n",
      "[CV] max_features=2, min_samples_leaf=9, min_samples_split=81 ........\n",
      "[CV]  max_features=2, min_samples_leaf=9, min_samples_split=81, score=0.5255614973447232, total=   0.0s\n",
      "[CV] max_features=2, min_samples_leaf=9, min_samples_split=81 ........\n",
      "[CV]  max_features=2, min_samples_leaf=9, min_samples_split=81, score=0.2863869243776733, total=   0.0s\n",
      "[CV] max_features=2, min_samples_leaf=27, min_samples_split=3 ........\n",
      "[CV]  max_features=2, min_samples_leaf=27, min_samples_split=3, score=0.3814934234000852, total=   0.0s\n",
      "[CV] max_features=2, min_samples_leaf=27, min_samples_split=3 ........\n",
      "[CV]  max_features=2, min_samples_leaf=27, min_samples_split=3, score=0.5143567980269791, total=   0.0s\n",
      "[CV] max_features=2, min_samples_leaf=27, min_samples_split=3 ........\n",
      "[CV]  max_features=2, min_samples_leaf=27, min_samples_split=3, score=0.2795111227976783, total=   0.0s\n",
      "[CV] max_features=2, min_samples_leaf=27, min_samples_split=9 ........\n",
      "[CV]  max_features=2, min_samples_leaf=27, min_samples_split=9, score=0.3814934234000852, total=   0.0s\n",
      "[CV] max_features=2, min_samples_leaf=27, min_samples_split=9 ........\n",
      "[CV]  max_features=2, min_samples_leaf=27, min_samples_split=9, score=0.5143567980269791, total=   0.0s\n",
      "[CV] max_features=2, min_samples_leaf=27, min_samples_split=9 ........\n",
      "[CV]  max_features=2, min_samples_leaf=27, min_samples_split=9, score=0.2795111227976783, total=   0.0s\n",
      "[CV] max_features=2, min_samples_leaf=27, min_samples_split=27 .......\n",
      "[CV]  max_features=2, min_samples_leaf=27, min_samples_split=27, score=0.3814934234000852, total=   0.0s\n",
      "[CV] max_features=2, min_samples_leaf=27, min_samples_split=27 .......\n",
      "[CV]  max_features=2, min_samples_leaf=27, min_samples_split=27, score=0.5143567980269791, total=   0.0s\n",
      "[CV] max_features=2, min_samples_leaf=27, min_samples_split=27 .......\n",
      "[CV]  max_features=2, min_samples_leaf=27, min_samples_split=27, score=0.2795111227976783, total=   0.0s\n",
      "[CV] max_features=2, min_samples_leaf=27, min_samples_split=81 .......\n",
      "[CV]  max_features=2, min_samples_leaf=27, min_samples_split=81, score=0.3805121267695524, total=   0.0s\n",
      "[CV] max_features=2, min_samples_leaf=27, min_samples_split=81 .......\n",
      "[CV]  max_features=2, min_samples_leaf=27, min_samples_split=81, score=0.5061346005357303, total=   0.0s\n",
      "[CV] max_features=2, min_samples_leaf=27, min_samples_split=81 .......\n",
      "[CV]  max_features=2, min_samples_leaf=27, min_samples_split=81, score=0.27721252437407096, total=   0.0s\n",
      "[CV] max_features=8, min_samples_leaf=1, min_samples_split=3 .........\n",
      "[CV]  max_features=8, min_samples_leaf=1, min_samples_split=3, score=0.5397253537637556, total=   0.1s\n",
      "[CV] max_features=8, min_samples_leaf=1, min_samples_split=3 .........\n"
     ]
    },
    {
     "name": "stdout",
     "output_type": "stream",
     "text": [
      "[CV]  max_features=8, min_samples_leaf=1, min_samples_split=3, score=0.6610248047842544, total=   0.1s\n",
      "[CV] max_features=8, min_samples_leaf=1, min_samples_split=3 .........\n",
      "[CV]  max_features=8, min_samples_leaf=1, min_samples_split=3, score=0.39096174549121265, total=   0.0s\n",
      "[CV] max_features=8, min_samples_leaf=1, min_samples_split=9 .........\n",
      "[CV]  max_features=8, min_samples_leaf=1, min_samples_split=9, score=0.5401742987389726, total=   0.0s\n",
      "[CV] max_features=8, min_samples_leaf=1, min_samples_split=9 .........\n",
      "[CV]  max_features=8, min_samples_leaf=1, min_samples_split=9, score=0.6603884810286369, total=   0.0s\n",
      "[CV] max_features=8, min_samples_leaf=1, min_samples_split=9 .........\n",
      "[CV]  max_features=8, min_samples_leaf=1, min_samples_split=9, score=0.3910445018445463, total=   0.0s\n",
      "[CV] max_features=8, min_samples_leaf=1, min_samples_split=27 ........\n",
      "[CV]  max_features=8, min_samples_leaf=1, min_samples_split=27, score=0.5422438500740425, total=   0.1s\n",
      "[CV] max_features=8, min_samples_leaf=1, min_samples_split=27 ........\n",
      "[CV]  max_features=8, min_samples_leaf=1, min_samples_split=27, score=0.660502857500795, total=   0.0s\n",
      "[CV] max_features=8, min_samples_leaf=1, min_samples_split=27 ........\n",
      "[CV]  max_features=8, min_samples_leaf=1, min_samples_split=27, score=0.3902821245733318, total=   0.0s\n",
      "[CV] max_features=8, min_samples_leaf=1, min_samples_split=81 ........\n",
      "[CV]  max_features=8, min_samples_leaf=1, min_samples_split=81, score=0.5422685136479639, total=   0.1s\n",
      "[CV] max_features=8, min_samples_leaf=1, min_samples_split=81 ........\n",
      "[CV]  max_features=8, min_samples_leaf=1, min_samples_split=81, score=0.6647333534394284, total=   0.1s\n",
      "[CV] max_features=8, min_samples_leaf=1, min_samples_split=81 ........\n",
      "[CV]  max_features=8, min_samples_leaf=1, min_samples_split=81, score=0.39117484448941453, total=   0.1s\n",
      "[CV] max_features=8, min_samples_leaf=3, min_samples_split=3 .........\n",
      "[CV]  max_features=8, min_samples_leaf=3, min_samples_split=3, score=0.5399228467062276, total=   0.1s\n",
      "[CV] max_features=8, min_samples_leaf=3, min_samples_split=3 .........\n",
      "[CV]  max_features=8, min_samples_leaf=3, min_samples_split=3, score=0.6626803187502904, total=   0.1s\n",
      "[CV] max_features=8, min_samples_leaf=3, min_samples_split=3 .........\n",
      "[CV]  max_features=8, min_samples_leaf=3, min_samples_split=3, score=0.3844419263458505, total=   0.1s\n",
      "[CV] max_features=8, min_samples_leaf=3, min_samples_split=9 .........\n",
      "[CV]  max_features=8, min_samples_leaf=3, min_samples_split=9, score=0.5392140373497456, total=   0.1s\n",
      "[CV] max_features=8, min_samples_leaf=3, min_samples_split=9 .........\n",
      "[CV]  max_features=8, min_samples_leaf=3, min_samples_split=9, score=0.6595773497079966, total=   0.1s\n",
      "[CV] max_features=8, min_samples_leaf=3, min_samples_split=9 .........\n",
      "[CV]  max_features=8, min_samples_leaf=3, min_samples_split=9, score=0.38916341379400676, total=   0.0s\n",
      "[CV] max_features=8, min_samples_leaf=3, min_samples_split=27 ........\n",
      "[CV]  max_features=8, min_samples_leaf=3, min_samples_split=27, score=0.5394486692612392, total=   0.0s\n",
      "[CV] max_features=8, min_samples_leaf=3, min_samples_split=27 ........\n",
      "[CV]  max_features=8, min_samples_leaf=3, min_samples_split=27, score=0.664686852145309, total=   0.0s\n",
      "[CV] max_features=8, min_samples_leaf=3, min_samples_split=27 ........\n",
      "[CV]  max_features=8, min_samples_leaf=3, min_samples_split=27, score=0.39088226726910213, total=   0.1s\n",
      "[CV] max_features=8, min_samples_leaf=3, min_samples_split=81 ........\n",
      "[CV]  max_features=8, min_samples_leaf=3, min_samples_split=81, score=0.541185380566255, total=   0.0s\n",
      "[CV] max_features=8, min_samples_leaf=3, min_samples_split=81 ........\n",
      "[CV]  max_features=8, min_samples_leaf=3, min_samples_split=81, score=0.6625441405153434, total=   0.0s\n",
      "[CV] max_features=8, min_samples_leaf=3, min_samples_split=81 ........\n",
      "[CV]  max_features=8, min_samples_leaf=3, min_samples_split=81, score=0.3872843187335864, total=   0.0s\n",
      "[CV] max_features=8, min_samples_leaf=9, min_samples_split=3 .........\n",
      "[CV]  max_features=8, min_samples_leaf=9, min_samples_split=3, score=0.5366676064432894, total=   0.0s\n",
      "[CV] max_features=8, min_samples_leaf=9, min_samples_split=3 .........\n",
      "[CV]  max_features=8, min_samples_leaf=9, min_samples_split=3, score=0.6625632537719242, total=   0.0s\n",
      "[CV] max_features=8, min_samples_leaf=9, min_samples_split=3 .........\n",
      "[CV]  max_features=8, min_samples_leaf=9, min_samples_split=3, score=0.3908509801159151, total=   0.0s\n",
      "[CV] max_features=8, min_samples_leaf=9, min_samples_split=9 .........\n",
      "[CV]  max_features=8, min_samples_leaf=9, min_samples_split=9, score=0.5366676064432894, total=   0.0s\n",
      "[CV] max_features=8, min_samples_leaf=9, min_samples_split=9 .........\n",
      "[CV]  max_features=8, min_samples_leaf=9, min_samples_split=9, score=0.6625632537719242, total=   0.0s\n",
      "[CV] max_features=8, min_samples_leaf=9, min_samples_split=9 .........\n",
      "[CV]  max_features=8, min_samples_leaf=9, min_samples_split=9, score=0.3908509801159151, total=   0.0s\n",
      "[CV] max_features=8, min_samples_leaf=9, min_samples_split=27 ........\n",
      "[CV]  max_features=8, min_samples_leaf=9, min_samples_split=27, score=0.5352891438257268, total=   0.0s\n",
      "[CV] max_features=8, min_samples_leaf=9, min_samples_split=27 ........\n",
      "[CV]  max_features=8, min_samples_leaf=9, min_samples_split=27, score=0.6620298234793337, total=   0.1s\n",
      "[CV] max_features=8, min_samples_leaf=9, min_samples_split=27 ........\n",
      "[CV]  max_features=8, min_samples_leaf=9, min_samples_split=27, score=0.39437078671362547, total=   0.0s\n",
      "[CV] max_features=8, min_samples_leaf=9, min_samples_split=81 ........\n",
      "[CV]  max_features=8, min_samples_leaf=9, min_samples_split=81, score=0.5358283299021953, total=   0.0s\n",
      "[CV] max_features=8, min_samples_leaf=9, min_samples_split=81 ........\n",
      "[CV]  max_features=8, min_samples_leaf=9, min_samples_split=81, score=0.6608072329774577, total=   0.0s\n",
      "[CV] max_features=8, min_samples_leaf=9, min_samples_split=81 ........\n",
      "[CV]  max_features=8, min_samples_leaf=9, min_samples_split=81, score=0.3928629878643648, total=   0.0s\n",
      "[CV] max_features=8, min_samples_leaf=27, min_samples_split=3 ........\n",
      "[CV]  max_features=8, min_samples_leaf=27, min_samples_split=3, score=0.5349060862275532, total=   0.0s\n",
      "[CV] max_features=8, min_samples_leaf=27, min_samples_split=3 ........\n",
      "[CV]  max_features=8, min_samples_leaf=27, min_samples_split=3, score=0.658919893044957, total=   0.0s\n",
      "[CV] max_features=8, min_samples_leaf=27, min_samples_split=3 ........\n",
      "[CV]  max_features=8, min_samples_leaf=27, min_samples_split=3, score=0.3906663916334867, total=   0.0s\n",
      "[CV] max_features=8, min_samples_leaf=27, min_samples_split=9 ........\n",
      "[CV]  max_features=8, min_samples_leaf=27, min_samples_split=9, score=0.5349060862275532, total=   0.0s\n",
      "[CV] max_features=8, min_samples_leaf=27, min_samples_split=9 ........\n",
      "[CV]  max_features=8, min_samples_leaf=27, min_samples_split=9, score=0.658919893044957, total=   0.1s\n",
      "[CV] max_features=8, min_samples_leaf=27, min_samples_split=9 ........\n",
      "[CV]  max_features=8, min_samples_leaf=27, min_samples_split=9, score=0.3906663916334867, total=   0.0s\n",
      "[CV] max_features=8, min_samples_leaf=27, min_samples_split=27 .......\n",
      "[CV]  max_features=8, min_samples_leaf=27, min_samples_split=27, score=0.5349060862275532, total=   0.0s\n",
      "[CV] max_features=8, min_samples_leaf=27, min_samples_split=27 .......\n",
      "[CV]  max_features=8, min_samples_leaf=27, min_samples_split=27, score=0.658919893044957, total=   0.0s\n",
      "[CV] max_features=8, min_samples_leaf=27, min_samples_split=27 .......\n",
      "[CV]  max_features=8, min_samples_leaf=27, min_samples_split=27, score=0.3906663916334867, total=   0.0s\n",
      "[CV] max_features=8, min_samples_leaf=27, min_samples_split=81 .......\n",
      "[CV]  max_features=8, min_samples_leaf=27, min_samples_split=81, score=0.5353923000556084, total=   0.0s\n",
      "[CV] max_features=8, min_samples_leaf=27, min_samples_split=81 .......\n",
      "[CV]  max_features=8, min_samples_leaf=27, min_samples_split=81, score=0.6595989491960847, total=   0.0s\n",
      "[CV] max_features=8, min_samples_leaf=27, min_samples_split=81 .......\n",
      "[CV]  max_features=8, min_samples_leaf=27, min_samples_split=81, score=0.38951054082700487, total=   0.0s\n",
      "[CV] max_features=32, min_samples_leaf=1, min_samples_split=3 ........\n"
     ]
    },
    {
     "name": "stdout",
     "output_type": "stream",
     "text": [
      "[CV]  max_features=32, min_samples_leaf=1, min_samples_split=3, score=0.5485934385755531, total=   0.1s\n",
      "[CV] max_features=32, min_samples_leaf=1, min_samples_split=3 ........\n",
      "[CV]  max_features=32, min_samples_leaf=1, min_samples_split=3, score=0.6595655884146483, total=   0.1s\n",
      "[CV] max_features=32, min_samples_leaf=1, min_samples_split=3 ........\n",
      "[CV]  max_features=32, min_samples_leaf=1, min_samples_split=3, score=0.40829698090622646, total=   0.1s\n",
      "[CV] max_features=32, min_samples_leaf=1, min_samples_split=9 ........\n",
      "[CV]  max_features=32, min_samples_leaf=1, min_samples_split=9, score=0.5532398248210606, total=   0.1s\n",
      "[CV] max_features=32, min_samples_leaf=1, min_samples_split=9 ........\n",
      "[CV]  max_features=32, min_samples_leaf=1, min_samples_split=9, score=0.6562037668942152, total=   0.1s\n",
      "[CV] max_features=32, min_samples_leaf=1, min_samples_split=9 ........\n",
      "[CV]  max_features=32, min_samples_leaf=1, min_samples_split=9, score=0.40846376936939666, total=   0.1s\n",
      "[CV] max_features=32, min_samples_leaf=1, min_samples_split=27 .......\n",
      "[CV]  max_features=32, min_samples_leaf=1, min_samples_split=27, score=0.5511602907071478, total=   0.1s\n",
      "[CV] max_features=32, min_samples_leaf=1, min_samples_split=27 .......\n",
      "[CV]  max_features=32, min_samples_leaf=1, min_samples_split=27, score=0.6518129945148832, total=   0.1s\n",
      "[CV] max_features=32, min_samples_leaf=1, min_samples_split=27 .......\n",
      "[CV]  max_features=32, min_samples_leaf=1, min_samples_split=27, score=0.4088717245349861, total=   0.1s\n",
      "[CV] max_features=32, min_samples_leaf=1, min_samples_split=81 .......\n",
      "[CV]  max_features=32, min_samples_leaf=1, min_samples_split=81, score=0.5510932326634244, total=   0.1s\n",
      "[CV] max_features=32, min_samples_leaf=1, min_samples_split=81 .......\n",
      "[CV]  max_features=32, min_samples_leaf=1, min_samples_split=81, score=0.6605987309987738, total=   0.1s\n",
      "[CV] max_features=32, min_samples_leaf=1, min_samples_split=81 .......\n",
      "[CV]  max_features=32, min_samples_leaf=1, min_samples_split=81, score=0.41311427530393896, total=   0.1s\n",
      "[CV] max_features=32, min_samples_leaf=3, min_samples_split=3 ........\n",
      "[CV]  max_features=32, min_samples_leaf=3, min_samples_split=3, score=0.5520157440582716, total=   0.1s\n",
      "[CV] max_features=32, min_samples_leaf=3, min_samples_split=3 ........\n",
      "[CV]  max_features=32, min_samples_leaf=3, min_samples_split=3, score=0.6534055059894157, total=   0.1s\n",
      "[CV] max_features=32, min_samples_leaf=3, min_samples_split=3 ........\n",
      "[CV]  max_features=32, min_samples_leaf=3, min_samples_split=3, score=0.4093688024102389, total=   0.1s\n",
      "[CV] max_features=32, min_samples_leaf=3, min_samples_split=9 ........\n",
      "[CV]  max_features=32, min_samples_leaf=3, min_samples_split=9, score=0.5508139039304054, total=   0.1s\n",
      "[CV] max_features=32, min_samples_leaf=3, min_samples_split=9 ........\n",
      "[CV]  max_features=32, min_samples_leaf=3, min_samples_split=9, score=0.6553135758180586, total=   0.1s\n",
      "[CV] max_features=32, min_samples_leaf=3, min_samples_split=9 ........\n",
      "[CV]  max_features=32, min_samples_leaf=3, min_samples_split=9, score=0.40813432443743747, total=   0.1s\n",
      "[CV] max_features=32, min_samples_leaf=3, min_samples_split=27 .......\n",
      "[CV]  max_features=32, min_samples_leaf=3, min_samples_split=27, score=0.5544739552942528, total=   0.1s\n",
      "[CV] max_features=32, min_samples_leaf=3, min_samples_split=27 .......\n",
      "[CV]  max_features=32, min_samples_leaf=3, min_samples_split=27, score=0.6606926975859579, total=   0.1s\n",
      "[CV] max_features=32, min_samples_leaf=3, min_samples_split=27 .......\n",
      "[CV]  max_features=32, min_samples_leaf=3, min_samples_split=27, score=0.41136770149490576, total=   0.1s\n",
      "[CV] max_features=32, min_samples_leaf=3, min_samples_split=81 .......\n",
      "[CV]  max_features=32, min_samples_leaf=3, min_samples_split=81, score=0.5531768496184544, total=   0.1s\n",
      "[CV] max_features=32, min_samples_leaf=3, min_samples_split=81 .......\n",
      "[CV]  max_features=32, min_samples_leaf=3, min_samples_split=81, score=0.6642743212932753, total=   0.1s\n",
      "[CV] max_features=32, min_samples_leaf=3, min_samples_split=81 .......\n",
      "[CV]  max_features=32, min_samples_leaf=3, min_samples_split=81, score=0.41150210960495726, total=   0.1s\n",
      "[CV] max_features=32, min_samples_leaf=9, min_samples_split=3 ........\n",
      "[CV]  max_features=32, min_samples_leaf=9, min_samples_split=3, score=0.5479818582177619, total=   0.1s\n",
      "[CV] max_features=32, min_samples_leaf=9, min_samples_split=3 ........\n",
      "[CV]  max_features=32, min_samples_leaf=9, min_samples_split=3, score=0.6635378302301471, total=   0.1s\n",
      "[CV] max_features=32, min_samples_leaf=9, min_samples_split=3 ........\n",
      "[CV]  max_features=32, min_samples_leaf=9, min_samples_split=3, score=0.4081757211307636, total=   0.1s\n",
      "[CV] max_features=32, min_samples_leaf=9, min_samples_split=9 ........\n",
      "[CV]  max_features=32, min_samples_leaf=9, min_samples_split=9, score=0.5479818582177619, total=   0.1s\n",
      "[CV] max_features=32, min_samples_leaf=9, min_samples_split=9 ........\n",
      "[CV]  max_features=32, min_samples_leaf=9, min_samples_split=9, score=0.6635378302301471, total=   0.1s\n",
      "[CV] max_features=32, min_samples_leaf=9, min_samples_split=9 ........\n",
      "[CV]  max_features=32, min_samples_leaf=9, min_samples_split=9, score=0.4081757211307636, total=   0.1s\n",
      "[CV] max_features=32, min_samples_leaf=9, min_samples_split=27 .......\n",
      "[CV]  max_features=32, min_samples_leaf=9, min_samples_split=27, score=0.5506141597483556, total=   0.1s\n",
      "[CV] max_features=32, min_samples_leaf=9, min_samples_split=27 .......\n",
      "[CV]  max_features=32, min_samples_leaf=9, min_samples_split=27, score=0.6644848354193432, total=   0.1s\n",
      "[CV] max_features=32, min_samples_leaf=9, min_samples_split=27 .......\n",
      "[CV]  max_features=32, min_samples_leaf=9, min_samples_split=27, score=0.4090847474843108, total=   0.1s\n",
      "[CV] max_features=32, min_samples_leaf=9, min_samples_split=81 .......\n",
      "[CV]  max_features=32, min_samples_leaf=9, min_samples_split=81, score=0.549860054745119, total=   0.1s\n",
      "[CV] max_features=32, min_samples_leaf=9, min_samples_split=81 .......\n",
      "[CV]  max_features=32, min_samples_leaf=9, min_samples_split=81, score=0.6702059184246587, total=   0.0s\n",
      "[CV] max_features=32, min_samples_leaf=9, min_samples_split=81 .......\n",
      "[CV]  max_features=32, min_samples_leaf=9, min_samples_split=81, score=0.412966239324448, total=   0.1s\n",
      "[CV] max_features=32, min_samples_leaf=27, min_samples_split=3 .......\n",
      "[CV]  max_features=32, min_samples_leaf=27, min_samples_split=3, score=0.5452030471103742, total=   0.1s\n",
      "[CV] max_features=32, min_samples_leaf=27, min_samples_split=3 .......\n",
      "[CV]  max_features=32, min_samples_leaf=27, min_samples_split=3, score=0.6656057621947635, total=   0.1s\n",
      "[CV] max_features=32, min_samples_leaf=27, min_samples_split=3 .......\n",
      "[CV]  max_features=32, min_samples_leaf=27, min_samples_split=3, score=0.4104617314914859, total=   0.1s\n",
      "[CV] max_features=32, min_samples_leaf=27, min_samples_split=9 .......\n",
      "[CV]  max_features=32, min_samples_leaf=27, min_samples_split=9, score=0.5452030471103742, total=   0.1s\n",
      "[CV] max_features=32, min_samples_leaf=27, min_samples_split=9 .......\n",
      "[CV]  max_features=32, min_samples_leaf=27, min_samples_split=9, score=0.6656057621947635, total=   0.1s\n",
      "[CV] max_features=32, min_samples_leaf=27, min_samples_split=9 .......\n",
      "[CV]  max_features=32, min_samples_leaf=27, min_samples_split=9, score=0.4104617314914859, total=   0.1s\n",
      "[CV] max_features=32, min_samples_leaf=27, min_samples_split=27 ......\n",
      "[CV]  max_features=32, min_samples_leaf=27, min_samples_split=27, score=0.5452030471103742, total=   0.1s\n",
      "[CV] max_features=32, min_samples_leaf=27, min_samples_split=27 ......\n",
      "[CV]  max_features=32, min_samples_leaf=27, min_samples_split=27, score=0.6656057621947635, total=   0.1s\n",
      "[CV] max_features=32, min_samples_leaf=27, min_samples_split=27 ......\n",
      "[CV]  max_features=32, min_samples_leaf=27, min_samples_split=27, score=0.4104617314914859, total=   0.1s\n",
      "[CV] max_features=32, min_samples_leaf=27, min_samples_split=81 ......\n",
      "[CV]  max_features=32, min_samples_leaf=27, min_samples_split=81, score=0.546359983668184, total=   0.1s\n",
      "[CV] max_features=32, min_samples_leaf=27, min_samples_split=81 ......\n",
      "[CV]  max_features=32, min_samples_leaf=27, min_samples_split=81, score=0.6654671957032708, total=   0.1s\n",
      "[CV] max_features=32, min_samples_leaf=27, min_samples_split=81 ......\n",
      "[CV]  max_features=32, min_samples_leaf=27, min_samples_split=81, score=0.4134281549168255, total=   0.1s\n",
      "[CV] max_features=128, min_samples_leaf=1, min_samples_split=3 .......\n"
     ]
    },
    {
     "name": "stdout",
     "output_type": "stream",
     "text": [
      "[CV]  max_features=128, min_samples_leaf=1, min_samples_split=3, score=0.5510487597614189, total=   0.4s\n",
      "[CV] max_features=128, min_samples_leaf=1, min_samples_split=3 .......\n",
      "[CV]  max_features=128, min_samples_leaf=1, min_samples_split=3, score=0.652747147865211, total=   0.5s\n",
      "[CV] max_features=128, min_samples_leaf=1, min_samples_split=3 .......\n",
      "[CV]  max_features=128, min_samples_leaf=1, min_samples_split=3, score=0.40499777199555986, total=   0.6s\n",
      "[CV] max_features=128, min_samples_leaf=1, min_samples_split=9 .......\n",
      "[CV]  max_features=128, min_samples_leaf=1, min_samples_split=9, score=0.5377920382960462, total=   0.5s\n",
      "[CV] max_features=128, min_samples_leaf=1, min_samples_split=9 .......\n",
      "[CV]  max_features=128, min_samples_leaf=1, min_samples_split=9, score=0.6517800922000601, total=   0.4s\n",
      "[CV] max_features=128, min_samples_leaf=1, min_samples_split=9 .......\n",
      "[CV]  max_features=128, min_samples_leaf=1, min_samples_split=9, score=0.40683216123242916, total=   0.4s\n",
      "[CV] max_features=128, min_samples_leaf=1, min_samples_split=27 ......\n",
      "[CV]  max_features=128, min_samples_leaf=1, min_samples_split=27, score=0.5430990027934544, total=   0.4s\n",
      "[CV] max_features=128, min_samples_leaf=1, min_samples_split=27 ......\n",
      "[CV]  max_features=128, min_samples_leaf=1, min_samples_split=27, score=0.6535519173955593, total=   0.3s\n",
      "[CV] max_features=128, min_samples_leaf=1, min_samples_split=27 ......\n",
      "[CV]  max_features=128, min_samples_leaf=1, min_samples_split=27, score=0.40901516610470623, total=   0.4s\n",
      "[CV] max_features=128, min_samples_leaf=1, min_samples_split=81 ......\n",
      "[CV]  max_features=128, min_samples_leaf=1, min_samples_split=81, score=0.5498456107013572, total=   0.3s\n",
      "[CV] max_features=128, min_samples_leaf=1, min_samples_split=81 ......\n",
      "[CV]  max_features=128, min_samples_leaf=1, min_samples_split=81, score=0.6487850952523605, total=   0.4s\n",
      "[CV] max_features=128, min_samples_leaf=1, min_samples_split=81 ......\n",
      "[CV]  max_features=128, min_samples_leaf=1, min_samples_split=81, score=0.4082719303801624, total=   0.3s\n",
      "[CV] max_features=128, min_samples_leaf=3, min_samples_split=3 .......\n",
      "[CV]  max_features=128, min_samples_leaf=3, min_samples_split=3, score=0.5476368106317353, total=   0.4s\n",
      "[CV] max_features=128, min_samples_leaf=3, min_samples_split=3 .......\n",
      "[CV]  max_features=128, min_samples_leaf=3, min_samples_split=3, score=0.6495079803884287, total=   0.4s\n",
      "[CV] max_features=128, min_samples_leaf=3, min_samples_split=3 .......\n",
      "[CV]  max_features=128, min_samples_leaf=3, min_samples_split=3, score=0.4071080991530869, total=   0.4s\n",
      "[CV] max_features=128, min_samples_leaf=3, min_samples_split=9 .......\n",
      "[CV]  max_features=128, min_samples_leaf=3, min_samples_split=9, score=0.5470531029496879, total=   0.4s\n",
      "[CV] max_features=128, min_samples_leaf=3, min_samples_split=9 .......\n",
      "[CV]  max_features=128, min_samples_leaf=3, min_samples_split=9, score=0.6530993303563057, total=   0.4s\n",
      "[CV] max_features=128, min_samples_leaf=3, min_samples_split=9 .......\n",
      "[CV]  max_features=128, min_samples_leaf=3, min_samples_split=9, score=0.4068756639193132, total=   0.4s\n",
      "[CV] max_features=128, min_samples_leaf=3, min_samples_split=27 ......\n",
      "[CV]  max_features=128, min_samples_leaf=3, min_samples_split=27, score=0.5413640931561674, total=   0.5s\n",
      "[CV] max_features=128, min_samples_leaf=3, min_samples_split=27 ......\n",
      "[CV]  max_features=128, min_samples_leaf=3, min_samples_split=27, score=0.6522293552561098, total=   0.4s\n",
      "[CV] max_features=128, min_samples_leaf=3, min_samples_split=27 ......\n",
      "[CV]  max_features=128, min_samples_leaf=3, min_samples_split=27, score=0.4103917744418992, total=   0.3s\n",
      "[CV] max_features=128, min_samples_leaf=3, min_samples_split=81 ......\n",
      "[CV]  max_features=128, min_samples_leaf=3, min_samples_split=81, score=0.5548873596143564, total=   0.4s\n",
      "[CV] max_features=128, min_samples_leaf=3, min_samples_split=81 ......\n",
      "[CV]  max_features=128, min_samples_leaf=3, min_samples_split=81, score=0.6517084282166073, total=   0.4s\n",
      "[CV] max_features=128, min_samples_leaf=3, min_samples_split=81 ......\n",
      "[CV]  max_features=128, min_samples_leaf=3, min_samples_split=81, score=0.41112510764229293, total=   0.5s\n",
      "[CV] max_features=128, min_samples_leaf=9, min_samples_split=3 .......\n",
      "[CV]  max_features=128, min_samples_leaf=9, min_samples_split=3, score=0.5465762758585879, total=   0.5s\n",
      "[CV] max_features=128, min_samples_leaf=9, min_samples_split=3 .......\n",
      "[CV]  max_features=128, min_samples_leaf=9, min_samples_split=3, score=0.6531704680270797, total=   0.6s\n",
      "[CV] max_features=128, min_samples_leaf=9, min_samples_split=3 .......\n",
      "[CV]  max_features=128, min_samples_leaf=9, min_samples_split=3, score=0.4129848615216909, total=   0.4s\n",
      "[CV] max_features=128, min_samples_leaf=9, min_samples_split=9 .......\n",
      "[CV]  max_features=128, min_samples_leaf=9, min_samples_split=9, score=0.5465762758585879, total=   0.5s\n",
      "[CV] max_features=128, min_samples_leaf=9, min_samples_split=9 .......\n",
      "[CV]  max_features=128, min_samples_leaf=9, min_samples_split=9, score=0.6531704680270797, total=   0.4s\n",
      "[CV] max_features=128, min_samples_leaf=9, min_samples_split=9 .......\n",
      "[CV]  max_features=128, min_samples_leaf=9, min_samples_split=9, score=0.4129848615216909, total=   0.5s\n",
      "[CV] max_features=128, min_samples_leaf=9, min_samples_split=27 ......\n",
      "[CV]  max_features=128, min_samples_leaf=9, min_samples_split=27, score=0.5459569159996076, total=   0.4s\n",
      "[CV] max_features=128, min_samples_leaf=9, min_samples_split=27 ......\n",
      "[CV]  max_features=128, min_samples_leaf=9, min_samples_split=27, score=0.6452225333367612, total=   0.4s\n",
      "[CV] max_features=128, min_samples_leaf=9, min_samples_split=27 ......\n",
      "[CV]  max_features=128, min_samples_leaf=9, min_samples_split=27, score=0.410213539073792, total=   0.4s\n",
      "[CV] max_features=128, min_samples_leaf=9, min_samples_split=81 ......\n",
      "[CV]  max_features=128, min_samples_leaf=9, min_samples_split=81, score=0.5540267288940631, total=   0.4s\n",
      "[CV] max_features=128, min_samples_leaf=9, min_samples_split=81 ......\n",
      "[CV]  max_features=128, min_samples_leaf=9, min_samples_split=81, score=0.6518420311334281, total=   0.3s\n",
      "[CV] max_features=128, min_samples_leaf=9, min_samples_split=81 ......\n",
      "[CV]  max_features=128, min_samples_leaf=9, min_samples_split=81, score=0.41049509347286484, total=   0.4s\n",
      "[CV] max_features=128, min_samples_leaf=27, min_samples_split=3 ......\n",
      "[CV]  max_features=128, min_samples_leaf=27, min_samples_split=3, score=0.5532734927840596, total=   0.4s\n",
      "[CV] max_features=128, min_samples_leaf=27, min_samples_split=3 ......\n",
      "[CV]  max_features=128, min_samples_leaf=27, min_samples_split=3, score=0.6571520222944653, total=   0.3s\n",
      "[CV] max_features=128, min_samples_leaf=27, min_samples_split=3 ......\n",
      "[CV]  max_features=128, min_samples_leaf=27, min_samples_split=3, score=0.41051655901246775, total=   0.4s\n",
      "[CV] max_features=128, min_samples_leaf=27, min_samples_split=9 ......\n",
      "[CV]  max_features=128, min_samples_leaf=27, min_samples_split=9, score=0.5532734927840596, total=   0.4s\n",
      "[CV] max_features=128, min_samples_leaf=27, min_samples_split=9 ......\n",
      "[CV]  max_features=128, min_samples_leaf=27, min_samples_split=9, score=0.6571520222944653, total=   0.4s\n",
      "[CV] max_features=128, min_samples_leaf=27, min_samples_split=9 ......\n",
      "[CV]  max_features=128, min_samples_leaf=27, min_samples_split=9, score=0.41051655901246775, total=   0.4s\n",
      "[CV] max_features=128, min_samples_leaf=27, min_samples_split=27 .....\n",
      "[CV]  max_features=128, min_samples_leaf=27, min_samples_split=27, score=0.5532734927840596, total=   0.4s\n",
      "[CV] max_features=128, min_samples_leaf=27, min_samples_split=27 .....\n",
      "[CV]  max_features=128, min_samples_leaf=27, min_samples_split=27, score=0.6571520222944653, total=   0.4s\n",
      "[CV] max_features=128, min_samples_leaf=27, min_samples_split=27 .....\n",
      "[CV]  max_features=128, min_samples_leaf=27, min_samples_split=27, score=0.41051655901246775, total=   0.4s\n",
      "[CV] max_features=128, min_samples_leaf=27, min_samples_split=81 .....\n",
      "[CV]  max_features=128, min_samples_leaf=27, min_samples_split=81, score=0.5485338941724163, total=   0.5s\n",
      "[CV] max_features=128, min_samples_leaf=27, min_samples_split=81 .....\n",
      "[CV]  max_features=128, min_samples_leaf=27, min_samples_split=81, score=0.6543403147646214, total=   0.5s\n",
      "[CV] max_features=128, min_samples_leaf=27, min_samples_split=81 .....\n"
     ]
    },
    {
     "name": "stdout",
     "output_type": "stream",
     "text": [
      "[CV]  max_features=128, min_samples_leaf=27, min_samples_split=81, score=0.4117898267912917, total=   0.4s\n"
     ]
    },
    {
     "name": "stderr",
     "output_type": "stream",
     "text": [
      "[Parallel(n_jobs=1)]: Done 192 out of 192 | elapsed:   45.1s finished\n"
     ]
    },
    {
     "data": {
      "text/plain": [
       "GridSearchCV(cv=None, error_score='raise',\n",
       "       estimator=GradientBoostingRegressor(alpha=0.9, criterion='friedman_mse', init=None,\n",
       "             learning_rate=0.1, loss='ls', max_depth=3, max_features=None,\n",
       "             max_leaf_nodes=None, min_impurity_decrease=0.0,\n",
       "             min_impurity_split=None, min_samples_leaf=1,\n",
       "             min_samples_split=2, min_weight_fraction_leaf=0.0,\n",
       "             n_estimators=100, presort='auto', random_state=1,\n",
       "             subsample=1.0, verbose=0, warm_start=True),\n",
       "       fit_params=None, iid=True, n_jobs=1,\n",
       "       param_grid={'max_features': array([  2,   8,  32, 128], dtype=int32), 'min_samples_leaf': [1, 3, 9, 27], 'min_samples_split': [3, 9, 27, 81]},\n",
       "       pre_dispatch='2*n_jobs', refit=True, return_train_score='warn',\n",
       "       scoring=make_scorer(r2_score), verbose=3)"
      ]
     },
     "execution_count": 118,
     "metadata": {},
     "output_type": "execute_result"
    }
   ],
   "source": [
    "# базовая шкала для остальных гиперпараметров\n",
    "param_grid = {\"max_features\":2**np.arange(1, 9, 2), \"min_samples_leaf\":[1, 3, 9, 27], \n",
    "              \"min_samples_split\":[3, 9, 27, 81]}\n",
    "gs1=GridSearchCV(GradientBoostingRegressor(random_state=1, warm_start=True), param_grid, make_scorer(r2_score), verbose=3)\n",
    "gs1.fit(x1,y1)"
   ]
  },
  {
   "cell_type": "code",
   "execution_count": 120,
   "metadata": {},
   "outputs": [
    {
     "data": {
      "text/plain": [
       "{'learning_rate': 0.010000000000000002,\n",
       " 'max_features': 128,\n",
       " 'min_samples_leaf': 9,\n",
       " 'min_samples_split': 81,\n",
       " 'n_estimators': 512}"
      ]
     },
     "execution_count": 120,
     "metadata": {},
     "output_type": "execute_result"
    }
   ],
   "source": [
    "gs_1.best_params_"
   ]
  },
  {
   "cell_type": "code",
   "execution_count": null,
   "metadata": {},
   "outputs": [],
   "source": []
  },
  {
   "cell_type": "markdown",
   "metadata": {},
   "source": [
    "__(0.5 балла)__ Обучите итоговую модель с выбранными значениями гиперпараметров на всей выборке x1, y1"
   ]
  },
  {
   "cell_type": "code",
   "execution_count": 119,
   "metadata": {},
   "outputs": [
    {
     "name": "stdout",
     "output_type": "stream",
     "text": [
      "Fitting 3 folds for each of 1 candidates, totalling 3 fits\n",
      "[CV] learning_rate=0.010000000000000002, max_features=128, min_samples_leaf=9, min_samples_split=81, n_estimators=512 \n",
      "[CV]  learning_rate=0.010000000000000002, max_features=128, min_samples_leaf=9, min_samples_split=81, n_estimators=512, score=0.5548521580294579, total=   2.7s\n",
      "[CV] learning_rate=0.010000000000000002, max_features=128, min_samples_leaf=9, min_samples_split=81, n_estimators=512 \n"
     ]
    },
    {
     "name": "stderr",
     "output_type": "stream",
     "text": [
      "[Parallel(n_jobs=1)]: Done   1 out of   1 | elapsed:    2.7s remaining:    0.0s\n"
     ]
    },
    {
     "name": "stdout",
     "output_type": "stream",
     "text": [
      "[CV]  learning_rate=0.010000000000000002, max_features=128, min_samples_leaf=9, min_samples_split=81, n_estimators=512, score=0.672367717456491, total=   2.6s\n",
      "[CV] learning_rate=0.010000000000000002, max_features=128, min_samples_leaf=9, min_samples_split=81, n_estimators=512 \n"
     ]
    },
    {
     "name": "stderr",
     "output_type": "stream",
     "text": [
      "[Parallel(n_jobs=1)]: Done   2 out of   2 | elapsed:    5.4s remaining:    0.0s\n"
     ]
    },
    {
     "name": "stdout",
     "output_type": "stream",
     "text": [
      "[CV]  learning_rate=0.010000000000000002, max_features=128, min_samples_leaf=9, min_samples_split=81, n_estimators=512, score=0.4153968267173761, total=   2.5s\n"
     ]
    },
    {
     "name": "stderr",
     "output_type": "stream",
     "text": [
      "[Parallel(n_jobs=1)]: Done   3 out of   3 | elapsed:    8.0s finished\n"
     ]
    },
    {
     "data": {
      "text/plain": [
       "GridSearchCV(cv=None, error_score='raise',\n",
       "       estimator=GradientBoostingRegressor(alpha=0.9, criterion='friedman_mse', init=None,\n",
       "             learning_rate=0.1, loss='ls', max_depth=3, max_features=None,\n",
       "             max_leaf_nodes=None, min_impurity_decrease=0.0,\n",
       "             min_impurity_split=None, min_samples_leaf=1,\n",
       "             min_samples_split=2, min_weight_fraction_leaf=0.0,\n",
       "             n_estimators=100, presort='auto', random_state=1,\n",
       "             subsample=1.0, verbose=0, warm_start=True),\n",
       "       fit_params=None, iid=True, n_jobs=1,\n",
       "       param_grid={'max_features': [128], 'min_samples_leaf': [9], 'min_samples_split': [81], 'learning_rate': [0.010000000000000002], 'n_estimators': [512]},\n",
       "       pre_dispatch='2*n_jobs', refit=True, return_train_score='warn',\n",
       "       scoring=make_scorer(r2_score), verbose=3)"
      ]
     },
     "execution_count": 119,
     "metadata": {},
     "output_type": "execute_result"
    }
   ],
   "source": [
    "param_grid = {\"max_features\":[128], \"min_samples_leaf\":[9],\"min_samples_split\":[81],\"learning_rate\": [0.010000000000000002],\"n_estimators\": [512] }\n",
    "gs_1=GradientBoostingRegressor((random_state=1, warm_start=True), param_grid, make_scorer(r2_score), verbose=3)\n",
    "gs_1.fit(x1,y1)"
   ]
  },
  {
   "cell_type": "code",
   "execution_count": null,
   "metadata": {},
   "outputs": [],
   "source": []
  },
  {
   "cell_type": "markdown",
   "metadata": {},
   "source": [
    "__Задание 3.__\n",
    "\n",
    " __(1 балл)__ Выведите качество случайного леса и градиентного бустинга на x2, y2, а также качество модели, представляющей собой усреднение предсказаний двух обученных моделей."
   ]
  },
  {
   "cell_type": "code",
   "execution_count": 122,
   "metadata": {},
   "outputs": [],
   "source": [
    "from sklearn.metrics import accuracy_score\n",
    "from sklearn.metrics import mean_squared_error"
   ]
  },
  {
   "cell_type": "code",
   "execution_count": 123,
   "metadata": {},
   "outputs": [
    {
     "data": {
      "text/plain": [
       "84.47351567535412"
      ]
     },
     "execution_count": 123,
     "metadata": {},
     "output_type": "execute_result"
    }
   ],
   "source": [
    "y_pred = gs.predict(x2)\n",
    "mean_squared_error(y2, y_pred)"
   ]
  },
  {
   "cell_type": "code",
   "execution_count": 183,
   "metadata": {},
   "outputs": [
    {
     "data": {
      "text/plain": [
       "72.03012705003046"
      ]
     },
     "execution_count": 183,
     "metadata": {},
     "output_type": "execute_result"
    }
   ],
   "source": [
    "y_pred2 = gs_1.predict(x2)\n",
    "mean_squared_error(y2, y_pred2)"
   ]
  },
  {
   "cell_type": "code",
   "execution_count": 187,
   "metadata": {},
   "outputs": [
    {
     "data": {
      "text/plain": [
       "74.67203217494885"
      ]
     },
     "execution_count": 187,
     "metadata": {},
     "output_type": "execute_result"
    }
   ],
   "source": [
    "y_new = (gs.predict(x2) + gs_1.predict(x2))/2\n",
    "mean_squared_error(y2, y_new)"
   ]
  },
  {
   "cell_type": "markdown",
   "metadata": {},
   "source": [
    "__Задание 4.__\n",
    "\n",
    " __(1 балл)__  Реализуйте блендинг. Обучите линейную регрессию на признаках - выходах двух моделей по выборке x2, y2. "
   ]
  },
  {
   "cell_type": "code",
   "execution_count": 199,
   "metadata": {},
   "outputs": [],
   "source": [
    "from sklearn.linear_model import LinearRegression\n",
    "import numpy as np\n",
    "lr = LinearRegression()"
   ]
  },
  {
   "cell_type": "code",
   "execution_count": 206,
   "metadata": {},
   "outputs": [
    {
     "data": {
      "text/plain": [
       "LinearRegression(copy_X=True, fit_intercept=True, n_jobs=1, normalize=False)"
      ]
     },
     "execution_count": 206,
     "metadata": {},
     "output_type": "execute_result"
    }
   ],
   "source": [
    "meta_f = np.vstack((y_pred, y_pred2))\n",
    "meta_f = meta_f.T\n",
    "lr.fit(meta_f, y2)"
   ]
  },
  {
   "cell_type": "markdown",
   "metadata": {},
   "source": [
    "__Задание 5.__\n",
    "\n",
    " __(0.5 балла)__ Выведите качество случайного леса и градиентного бустинга на x3, y3, качество модели, представляющей собой усреднение предсказаний двух обученных моделей, а также качество блендинга."
   ]
  },
  {
   "cell_type": "code",
   "execution_count": 207,
   "metadata": {},
   "outputs": [
    {
     "data": {
      "text/plain": [
       "74.1097512476904"
      ]
     },
     "execution_count": 207,
     "metadata": {},
     "output_type": "execute_result"
    }
   ],
   "source": [
    "y_pr1 = gs.predict(x3)\n",
    "mean_squared_error(y3, y_pr1)"
   ]
  },
  {
   "cell_type": "code",
   "execution_count": 208,
   "metadata": {},
   "outputs": [
    {
     "data": {
      "text/plain": [
       "58.51102282450445"
      ]
     },
     "execution_count": 208,
     "metadata": {},
     "output_type": "execute_result"
    }
   ],
   "source": [
    "y_pr2 = gs_1.predict(x3)\n",
    "mean_squared_error(y3, y_pr2)"
   ]
  },
  {
   "cell_type": "code",
   "execution_count": 209,
   "metadata": {},
   "outputs": [],
   "source": [
    "y_mean2 = (gs.predict(x3) + gs_1.predict(x3))/2"
   ]
  },
  {
   "cell_type": "code",
   "execution_count": 210,
   "metadata": {},
   "outputs": [
    {
     "data": {
      "text/plain": [
       "63.076051146458425"
      ]
     },
     "execution_count": 210,
     "metadata": {},
     "output_type": "execute_result"
    }
   ],
   "source": [
    "mean_squared_error(y3, y_mean2)"
   ]
  },
  {
   "cell_type": "code",
   "execution_count": 212,
   "metadata": {},
   "outputs": [
    {
     "data": {
      "text/plain": [
       "58.6271024586887"
      ]
     },
     "execution_count": 212,
     "metadata": {},
     "output_type": "execute_result"
    }
   ],
   "source": [
    "meta_f_new = np.vstack((y_pr1, y_pr2))\n",
    "meta_f_new = meta_f_new.T\n",
    "y3_new = lr.predict(meta_f_new)\n",
    "mean_squared_error(y3, y3_new)"
   ]
  }
 ],
 "metadata": {
  "_change_revision": 113,
  "_is_fork": false,
  "kernelspec": {
   "display_name": "Python 3",
   "language": "python",
   "name": "python3"
  },
  "language_info": {
   "codemirror_mode": {
    "name": "ipython",
    "version": 3
   },
   "file_extension": ".py",
   "mimetype": "text/x-python",
   "name": "python",
   "nbconvert_exporter": "python",
   "pygments_lexer": "ipython3",
   "version": "3.7.0"
  }
 },
 "nbformat": 4,
 "nbformat_minor": 1
}
